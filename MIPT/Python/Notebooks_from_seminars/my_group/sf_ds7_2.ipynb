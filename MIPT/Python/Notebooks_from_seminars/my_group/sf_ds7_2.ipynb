{
 "cells": [
  {
   "cell_type": "markdown",
   "id": "87dec23c",
   "metadata": {},
   "source": [
    "# Программирование на Python\n",
    "## Семинар 7. Python для анализа данных\n",
    "**Data source:** https://www.kaggle.com/datasets/spscientist/students-performance-in-exams.\n",
    "\n",
    "**Columns:**\n",
    "- `gender` (binary variable);\n",
    "- `race/ethnicity` (categorical variable);\n",
    "- `parental level of education` (categorical variable, student's parents' level of education);\n",
    "- `lunch` (categorical variable, quality of student's lunch);\n",
    "- `test preparation course` (categorical variable, whether student managed to complete preparation course for the test);\n",
    "- `math score` (numeric variable, score for Math test);\n",
    "- `reading score` (numeric variable, score for Reading part);\n",
    "- `writing score` (numeric variable, score for Writing part).\n",
    "\n",
    "#### Задание 1\n",
    "Загрузите файл StudentsPerformance.csv используя модуль `csv` и возможности модуля `collections`. Не забудьте о том, что для удобства числовые типы данных будет удобнее привести сразу. На выходе должен получиться словарь с ключами-названиями колонок и значениями-колонками."
   ]
  },
  {
   "cell_type": "code",
   "execution_count": 9,
   "id": "1346b1da-4cf9-401b-9a45-3a0e4c720350",
   "metadata": {},
   "outputs": [],
   "source": [
    "import csv\n",
    "from collections import defaultdict\n",
    "\n",
    "path = '../Занятие 1/StudentsPerformance.csv'\n",
    "int_cols = ['math score', 'reading score', 'writing score']\n",
    "data = defaultdict(list)\n",
    "\n",
    "with open(path, mode='r', newline='') as file:\n",
    "    csvfile = csv.DictReader(file, delimiter=',')\n",
    "\n",
    "    for dct in csvfile:\n",
    "        for key, value in dct.items():\n",
    "            if key in int_cols:\n",
    "                data[key].append(int(value))\n",
    "            else:\n",
    "                data[key].append(value)"
   ]
  },
  {
   "cell_type": "markdown",
   "id": "97e1ebf8-c656-49b9-bd09-9a379b7a2263",
   "metadata": {},
   "source": [
    "#### Задание 2\n",
    "Напишите функцию `show`, которая будет выводить название и первые `n` значений каждой колонки в виде таблицы."
   ]
  },
  {
   "cell_type": "code",
   "execution_count": null,
   "id": "7fa04084-e76f-466f-94c4-b47ea150171e",
   "metadata": {},
   "outputs": [],
   "source": [
    "# наш код здесь"
   ]
  },
  {
   "cell_type": "markdown",
   "id": "904d8564-3373-4690-b22a-1b7c26fac7df",
   "metadata": {},
   "source": [
    "#### Задание 3\n",
    "Подготовка и анализ данных почти всегда подразумевают изпользование таких pipeline'ов, как \"group->aggregate\" и \"group->apply\". Имеется в виду, что значения переменной X делятся на группы по значениям переменной Y, и над этими группами производятся различные операции. Реализуйте следующие функции:\n",
    "\n",
    "- `group`: принимает на вход векторы X и Y и возвращает словарь, в котором ключами являются уникальные значения переменной Y, а значениями - списки соответствующих значений переменной X;\n",
    "- `aggregate`: принимает на вход словарь, возвращаемый функцией `group`, а также функцию `fun`, которая должна быть применена к каждому его значению. Возвращаться должен словарь, состоящий из тех же ключей и значений-результатов применения функции `fun`."
   ]
  },
  {
   "cell_type": "code",
   "execution_count": 13,
   "id": "7a668e6e-c78f-4bb8-b679-e66be8da0661",
   "metadata": {},
   "outputs": [
    {
     "name": "stdout",
     "output_type": "stream",
     "text": [
      "[72, 69, 90, 47, 76, 71, 88, 40, 64, 38]\n"
     ]
    }
   ],
   "source": [
    "print(data['math score'][:10])"
   ]
  },
  {
   "cell_type": "code",
   "execution_count": 14,
   "id": "75f83b09-71c7-4a55-893c-36c16ceaf4e4",
   "metadata": {},
   "outputs": [
    {
     "name": "stdout",
     "output_type": "stream",
     "text": [
      "['none', 'completed', 'none', 'none', 'none', 'none', 'completed', 'none', 'completed', 'none']\n"
     ]
    }
   ],
   "source": [
    "print(data['test preparation course'][:10])"
   ]
  },
  {
   "cell_type": "code",
   "execution_count": 19,
   "id": "415e837e-29bf-4fb2-9ab4-49408edf487f",
   "metadata": {},
   "outputs": [],
   "source": [
    "from statistics import mean, median\n",
    "\n",
    "def group(vector, grouping):\n",
    "    grouped = defaultdict(list)\n",
    "\n",
    "    for value, key in zip(vector, grouping):\n",
    "        grouped[key].append(value)\n",
    "\n",
    "    return grouped\n",
    "\n",
    "def aggregate(grouped, fun):\n",
    "    aggregated = {key: fun(value) for key, value in grouped.items()}\n",
    "\n",
    "    return aggregated"
   ]
  },
  {
   "cell_type": "code",
   "execution_count": null,
   "id": "30aca903-8272-4c57-825e-dd3dde4f5584",
   "metadata": {},
   "outputs": [],
   "source": [
    "# H: те, кто готовится, сдает математику лучше\n",
    "\n",
    "# переменные: 1) готовился или нет, 2) балл по математике\n",
    "\n",
    "# как будем проверять:\n",
    "# 1) разбить на группы по типу подготовки к тесту\n",
    "# 2) агрегировать значения балла по математике в этих группах (в данном случае mean)"
   ]
  },
  {
   "cell_type": "code",
   "execution_count": 21,
   "id": "cd86f586-7ad1-4178-af3a-2454071abd46",
   "metadata": {},
   "outputs": [
    {
     "data": {
      "text/plain": [
       "{'none': 64.0778816199377, 'completed': 69.69553072625699}"
      ]
     },
     "execution_count": 21,
     "metadata": {},
     "output_type": "execute_result"
    }
   ],
   "source": [
    "math_score_grouped = group(data['math score'], data['test preparation course'])\n",
    "aggregate(math_score_grouped, mean)"
   ]
  },
  {
   "cell_type": "code",
   "execution_count": 22,
   "id": "39f499c4-0746-4947-874a-873fdd89b5aa",
   "metadata": {},
   "outputs": [
    {
     "data": {
      "text/plain": [
       "{'none': 100, 'completed': 100}"
      ]
     },
     "execution_count": 22,
     "metadata": {},
     "output_type": "execute_result"
    }
   ],
   "source": [
    "aggregate(math_score_grouped, max)"
   ]
  },
  {
   "cell_type": "code",
   "execution_count": 23,
   "id": "65a2dc83-8936-4348-b11e-9732954b2f5f",
   "metadata": {},
   "outputs": [
    {
     "data": {
      "text/plain": [
       "{'none': 64.0, 'completed': 69.0}"
      ]
     },
     "execution_count": 23,
     "metadata": {},
     "output_type": "execute_result"
    }
   ],
   "source": [
    "aggregate(math_score_grouped, median)"
   ]
  },
  {
   "cell_type": "code",
   "execution_count": 17,
   "id": "ab926d89-ee89-42b1-a8eb-4e142c6a04f4",
   "metadata": {},
   "outputs": [
    {
     "data": {
      "text/plain": [
       "defaultdict(list,\n",
       "            {'none': [72, 90, 47, 76, 71, 40, 38], 'completed': [69, 88, 64]})"
      ]
     },
     "execution_count": 17,
     "metadata": {},
     "output_type": "execute_result"
    }
   ],
   "source": [
    "group(data['math score'][:10], data['test preparation course'][:10])"
   ]
  },
  {
   "cell_type": "markdown",
   "id": "c09ce39b-a496-4543-9fb6-3b7661b4518e",
   "metadata": {},
   "source": [
    "#### Задание 4\n",
    "Выдвините гипотезы о взаимодействии числовой и категориальной переменных и протестируйте их используя подготовленные вами функции."
   ]
  },
  {
   "cell_type": "code",
   "execution_count": null,
   "id": "e7211156-522b-4967-9a42-e5125c2c5118",
   "metadata": {},
   "outputs": [],
   "source": [
    "# H1: баллы по чтению положительно зависят от уровня образования родителей\n",
    "\n",
    "# reading score               -> numeric\n",
    "# parental level of education -> categorical"
   ]
  },
  {
   "cell_type": "code",
   "execution_count": 25,
   "id": "af883901-d62d-426d-9b8b-0185d49e1d29",
   "metadata": {},
   "outputs": [
    {
     "data": {
      "text/plain": [
       "Counter({'some college': 226,\n",
       "         \"associate's degree\": 222,\n",
       "         'high school': 196,\n",
       "         'some high school': 179,\n",
       "         \"bachelor's degree\": 118,\n",
       "         \"master's degree\": 59})"
      ]
     },
     "execution_count": 25,
     "metadata": {},
     "output_type": "execute_result"
    }
   ],
   "source": [
    "from collections import Counter\n",
    "\n",
    "Counter(data['parental level of education'])"
   ]
  },
  {
   "cell_type": "code",
   "execution_count": 26,
   "id": "9ede721f-764c-4cd8-8df1-e4b11bad3b4d",
   "metadata": {},
   "outputs": [
    {
     "data": {
      "text/plain": [
       "{\"bachelor's degree\": 73,\n",
       " 'some college': 69.46017699115045,\n",
       " \"master's degree\": 75.37288135593221,\n",
       " \"associate's degree\": 70.92792792792793,\n",
       " 'high school': 64.70408163265306,\n",
       " 'some high school': 66.93854748603351}"
      ]
     },
     "execution_count": 26,
     "metadata": {},
     "output_type": "execute_result"
    }
   ],
   "source": [
    "reading_score_grouped = group(data['reading score'], data['parental level of education'])\n",
    "aggregate(reading_score_grouped, mean)"
   ]
  },
  {
   "cell_type": "code",
   "execution_count": 27,
   "id": "f96ddf90-9148-45d3-8091-871ba41ce59f",
   "metadata": {},
   "outputs": [
    {
     "data": {
      "text/plain": [
       "{\"bachelor's degree\": 73.38135593220339,\n",
       " 'some college': 68.84070796460178,\n",
       " \"master's degree\": 75.67796610169492,\n",
       " \"associate's degree\": 69.8963963963964,\n",
       " 'high school': 62.44897959183673,\n",
       " 'some high school': 64.88826815642459}"
      ]
     },
     "execution_count": 27,
     "metadata": {},
     "output_type": "execute_result"
    }
   ],
   "source": [
    "writing_score_grouped = group(data['writing score'], data['parental level of education'])\n",
    "aggregate(writing_score_grouped, mean)"
   ]
  },
  {
   "cell_type": "code",
   "execution_count": 28,
   "id": "13990f4f-7c56-40ab-b925-e7c83d803697",
   "metadata": {},
   "outputs": [
    {
     "data": {
      "text/plain": [
       "{\"bachelor's degree\": 69.38983050847457,\n",
       " 'some college': 67.1283185840708,\n",
       " \"master's degree\": 69.7457627118644,\n",
       " \"associate's degree\": 67.88288288288288,\n",
       " 'high school': 62.13775510204081,\n",
       " 'some high school': 63.497206703910614}"
      ]
     },
     "execution_count": 28,
     "metadata": {},
     "output_type": "execute_result"
    }
   ],
   "source": [
    "math_score_grouped = group(data['math score'], data['parental level of education'])\n",
    "aggregate(math_score_grouped, mean)"
   ]
  },
  {
   "cell_type": "code",
   "execution_count": null,
   "id": "16501b6f-8e22-4ee8-a53b-84fa230870ee",
   "metadata": {},
   "outputs": [],
   "source": [
    "# H2: баллы по раззным предметам выше у тех, кто лучше ест\n",
    "\n",
    "# _ score               -> numeric\n",
    "# lunch                 -> categorical"
   ]
  },
  {
   "cell_type": "code",
   "execution_count": 30,
   "id": "d3c3edce-702f-4083-a9c5-9cf72c43e124",
   "metadata": {},
   "outputs": [
    {
     "data": {
      "text/plain": [
       "Counter({'standard': 645, 'free/reduced': 355})"
      ]
     },
     "execution_count": 30,
     "metadata": {},
     "output_type": "execute_result"
    }
   ],
   "source": [
    "Counter(data['lunch'])"
   ]
  },
  {
   "cell_type": "code",
   "execution_count": 36,
   "id": "28a9ea02-c813-4341-a6ce-6dc053896661",
   "metadata": {},
   "outputs": [
    {
     "name": "stdout",
     "output_type": "stream",
     "text": [
      "math score: {'standard': 70.03, 'free/reduced': 58.92}\n",
      "\n",
      "reading score: {'standard': 71.65, 'free/reduced': 64.65}\n",
      "\n",
      "writing score: {'standard': 70.82, 'free/reduced': 63.02}\n",
      "\n"
     ]
    }
   ],
   "source": [
    "for col in int_cols:\n",
    "    grouped = group(data[col], data['lunch'])\n",
    "    aggregated = aggregate(grouped, mean)\n",
    "    \n",
    "    print(col, end=': ')\n",
    "    print({key: round(value, 2) for key, value in aggregated.items()}, end='\\n\\n')"
   ]
  },
  {
   "cell_type": "code",
   "execution_count": null,
   "id": "6aa07e74-d10a-4f6f-ae1f-ac8cffffad5d",
   "metadata": {},
   "outputs": [],
   "source": []
  },
  {
   "cell_type": "code",
   "execution_count": null,
   "id": "f0baa5f3-584a-4eb1-9362-0bbdc7d07e16",
   "metadata": {},
   "outputs": [],
   "source": []
  },
  {
   "cell_type": "code",
   "execution_count": null,
   "id": "1ff560ba-0a46-4926-95ef-1b6772d8cc67",
   "metadata": {},
   "outputs": [],
   "source": []
  },
  {
   "cell_type": "code",
   "execution_count": null,
   "id": "457d64b0-ce0c-4afc-aa51-8788c4640bf5",
   "metadata": {},
   "outputs": [],
   "source": []
  }
 ],
 "metadata": {
  "kernelspec": {
   "display_name": "Python 3 (ipykernel)",
   "language": "python",
   "name": "python3"
  },
  "language_info": {
   "codemirror_mode": {
    "name": "ipython",
    "version": 3
   },
   "file_extension": ".py",
   "mimetype": "text/x-python",
   "name": "python",
   "nbconvert_exporter": "python",
   "pygments_lexer": "ipython3",
   "version": "3.11.5"
  }
 },
 "nbformat": 4,
 "nbformat_minor": 5
}
