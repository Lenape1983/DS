{
 "cells": [
  {
   "cell_type": "markdown",
   "id": "87dec23c",
   "metadata": {},
   "source": [
    "# Программирование на Python\n",
    "## Семинар 3. Повторение основ\n",
    "#### Задача с прошлого занятия\n",
    "Мы хотим автоматизировать процесс перекладки текстовых файлов с данными из хранилища в БД (Postgres). Предположим, что таблицы каждый раз разные. Соответственно, перед записью данных необходимо создать таблицу. Это можно сделать примерно так:\n",
    "\n",
    "```\n",
    "CREATE TABLE distributors (\n",
    "    did integer,\n",
    "    name varchar(40)\n",
    ");\n",
    "```\n",
    "\n",
    "PostgreSQL [располагает](https://www.postgresql.org/docs/current/datatype.html) следующими типами данных (это не все, что есть, но все, что нам сейчас пригодится):\n",
    "\n",
    "<table>\n",
    "    <tr>\n",
    "        <th>Python</th>\n",
    "        <th>PostgreSQL</th>\n",
    "    </tr>\n",
    "    <tr>\n",
    "        <td>int</td>\n",
    "        <td>smallint, integer, bigint</td>\n",
    "    </tr>\n",
    "    <tr>\n",
    "        <td>float</td>\n",
    "        <td>real</td>\n",
    "    </tr>\n",
    "    <tr>\n",
    "        <td>bool</td>\n",
    "        <td>boolean</td>\n",
    "    </tr>\n",
    "    <tr>\n",
    "        <td>str</td>\n",
    "        <td>varchar, text</td>\n",
    "    </tr>\n",
    "</table>\n",
    "\n",
    "Реализуйте соответствующую функцию. Она должна иметь следующие аргументы:\n",
    "\n",
    "- `filename` (строка) - путь к текстовому файлу;\n",
    "- `sep` (строка, по дефолту для CSV) - разделитель;\n",
    "- `tablename` (строка, по дефолту соответствует названию файла без расширения);\n",
    "- `varnames` (либо должны быть предоставлены в виде списка, либо добываются из данных если `None`);\n",
    "- `dtypes` (либо должны быть предоставлены в виде списка, либо добываются из данных если `None`).\n",
    "\n",
    "Функция должна записывать получившийся скрипт в файл 'create_table.sql' и возвращать путь к этому файлу."
   ]
  },
  {
   "cell_type": "code",
   "execution_count": null,
   "id": "490df656-8572-4620-bedd-0bb85ff0e77e",
   "metadata": {},
   "outputs": [],
   "source": [
    "# check if bool\n",
    "# check if int -> smallint, integer, bigint\n",
    "# check if float\n",
    "# else text"
   ]
  },
  {
   "cell_type": "code",
   "execution_count": 2,
   "id": "543db532-48c9-485f-9cac-807bf6f7e50b",
   "metadata": {},
   "outputs": [],
   "source": [
    "big_list = list(range(100000))\n",
    "big_set = set(range(100000))"
   ]
  },
  {
   "cell_type": "code",
   "execution_count": 3,
   "id": "4ccac1cd-dc71-4d7d-86de-c9d6e6ea93f3",
   "metadata": {},
   "outputs": [
    {
     "name": "stdout",
     "output_type": "stream",
     "text": [
      "722 µs ± 43 µs per loop (mean ± std. dev. of 7 runs, 1,000 loops each)\n"
     ]
    }
   ],
   "source": [
    "%%timeit\n",
    "\n",
    "_ = 50000 in big_list"
   ]
  },
  {
   "cell_type": "code",
   "execution_count": 4,
   "id": "7aca6de0-2e4f-4388-8899-0dc886348543",
   "metadata": {},
   "outputs": [
    {
     "name": "stdout",
     "output_type": "stream",
     "text": [
      "57.5 ns ± 2.41 ns per loop (mean ± std. dev. of 7 runs, 10,000,000 loops each)\n"
     ]
    }
   ],
   "source": [
    "%%timeit\n",
    "\n",
    "_ = 50000 in big_set"
   ]
  },
  {
   "cell_type": "code",
   "execution_count": 10,
   "id": "cd8b18c5-b197-4f7a-9176-17178350a407",
   "metadata": {},
   "outputs": [
    {
     "data": {
      "text/plain": [
       "-0.5"
      ]
     },
     "execution_count": 10,
     "metadata": {},
     "output_type": "execute_result"
    }
   ],
   "source": [
    "-.5"
   ]
  },
  {
   "cell_type": "code",
   "execution_count": 11,
   "id": "0e326539-4306-4eb6-a827-cf7e983ef27e",
   "metadata": {},
   "outputs": [
    {
     "data": {
      "text/plain": [
       "5.0"
      ]
     },
     "execution_count": 11,
     "metadata": {},
     "output_type": "execute_result"
    }
   ],
   "source": [
    "5."
   ]
  },
  {
   "cell_type": "code",
   "execution_count": 12,
   "id": "aab03421-4899-4e0d-9bc9-205b677e3ebe",
   "metadata": {},
   "outputs": [
    {
     "data": {
      "text/plain": [
       "False"
      ]
     },
     "execution_count": 12,
     "metadata": {},
     "output_type": "execute_result"
    }
   ],
   "source": [
    "all([True, False, True])"
   ]
  },
  {
   "cell_type": "code",
   "execution_count": 13,
   "id": "222ec1eb-c5e0-4f5b-ac58-d1460f393d36",
   "metadata": {},
   "outputs": [
    {
     "data": {
      "text/plain": [
       "False"
      ]
     },
     "execution_count": 13,
     "metadata": {},
     "output_type": "execute_result"
    }
   ],
   "source": [
    "all([1, 0, 1])"
   ]
  },
  {
   "cell_type": "code",
   "execution_count": 23,
   "id": "d45594bf-b4b6-4c89-9ab5-dee27a88cb8f",
   "metadata": {},
   "outputs": [
    {
     "data": {
      "text/plain": [
       "False"
      ]
     },
     "execution_count": 23,
     "metadata": {},
     "output_type": "execute_result"
    }
   ],
   "source": [
    "all(i % 2 == 0 for i in range(int(1e150)))"
   ]
  },
  {
   "cell_type": "code",
   "execution_count": 67,
   "id": "d4a13d35-b828-410d-af97-1a4998e69c4f",
   "metadata": {},
   "outputs": [],
   "source": [
    "import re\n",
    "\n",
    "template = 'CREATE TABLE \"{tablename}\" (\\n{ddl});'\n",
    "trash_symbols = '\" \\n'\n",
    "re_int = re.compile('-{0,1}\\d+')\n",
    "re_float = re.compile('-?\\d+\\.\\d*')\n",
    "\n",
    "def check_bool(value: str) -> bool:\n",
    "    return value.lower() in {'true', 'false'}\n",
    "\n",
    "def check_float(value: str) -> bool:\n",
    "    return re_float.fullmatch(value) is not None\n",
    "\n",
    "def check_int(value: str) -> bool:\n",
    "    return re_int.fullmatch(value) is not None\n",
    "\n",
    "def check_dtype_(vector, fun) -> bool:\n",
    "    # all or nothing\n",
    "    return all(fun(elem) for elem in vector)\n",
    "\n",
    "def guess_dtype(vector) -> str:\n",
    "    if check_dtype_(vector, check_bool):\n",
    "        return 'bool'\n",
    "    elif check_dtype_(vector, check_int):\n",
    "        return 'int'\n",
    "    elif check_dtype_(vector, check_float):\n",
    "        return 'float'\n",
    "    else:\n",
    "        return 'text'\n",
    "\n",
    "def extract_name(filename: str) -> str:\n",
    "    dot_position = filename.rfind('.')\n",
    "    slash_position = filename.rfind('/')\n",
    "\n",
    "    return filename[(slash_position + 1):dot_position]\n",
    "\n",
    "def create_sql(tname, varnames, dtypes) -> str:\n",
    "    ddl = ''.join([f'    \"{name}\" {dtype},\\n' for name, dtype in zip(varnames, dtypes)])\n",
    "\n",
    "    return template.format(tablename=tname, ddl=ddl)\n",
    "\n",
    "def sql_from_file(\n",
    "    filename: str,\n",
    "    sep=',',\n",
    "    tablename=None,\n",
    "    varnames=None,\n",
    "    dtypes=None,\n",
    "    file_out='sql_script.sql'\n",
    ") -> str:\n",
    "    # parse file\n",
    "    with open(filename, 'r') as file:  # file = open('./StudentsPerformance.csv', 'r')\n",
    "        lines = []\n",
    "        \n",
    "        for line in file:\n",
    "            line_clean = [elem.strip(trash_symbols) for elem in line.split(sep)]\n",
    "            \n",
    "            lines.append(line_clean)\n",
    "\n",
    "    # get filename\n",
    "    if tablename is None:\n",
    "        tablename = extract_name(filename)\n",
    "\n",
    "    # get varnames\n",
    "    if varnames is None:\n",
    "        varnames = lines[0].copy()  # list(lines[0]), чтобы не создавать ссылку на первый список в lines\n",
    "\n",
    "    # reshape lines\n",
    "    lines_reshaped = list(zip(*lines[1:]))\n",
    "\n",
    "    # guess dtypes\n",
    "    if dtypes is None:\n",
    "        dtypes = [guess_dtype(col) for col in lines_reshaped]  # get pairs (varname, dtype)\n",
    "\n",
    "    # get sql\n",
    "    sql = create_sql(tablename, varnames, dtypes)\n",
    "\n",
    "    # write file\n",
    "    with open(file_out, 'w') as file:\n",
    "        file.write(sql)\n",
    "\n",
    "    return file_out"
   ]
  },
  {
   "cell_type": "code",
   "execution_count": 68,
   "id": "c15d32ed-0b1c-403c-aa56-3bc94eaeb0db",
   "metadata": {},
   "outputs": [],
   "source": [
    "path = '../Занятие 1/StudentsPerformance.csv'\n",
    "\n",
    "name = sql_from_file(\n",
    "    path\n",
    ")"
   ]
  },
  {
   "cell_type": "code",
   "execution_count": 44,
   "id": "74df6cd9-a498-4fdb-a3d3-75ff54f96567",
   "metadata": {},
   "outputs": [
    {
     "data": {
      "text/plain": [
       "('StudentsPerformance',\n",
       " ['gender',\n",
       "  'race/ethnicity',\n",
       "  'parental level of education',\n",
       "  'lunch',\n",
       "  'test preparation course',\n",
       "  'math score',\n",
       "  'reading score',\n",
       "  'writing score'],\n",
       " ['text', 'text', 'text', 'text', 'text', 'int', 'int', 'int'])"
      ]
     },
     "execution_count": 44,
     "metadata": {},
     "output_type": "execute_result"
    }
   ],
   "source": [
    "tname, vname, dts"
   ]
  },
  {
   "cell_type": "code",
   "execution_count": 65,
   "id": "147e4a87-4b6d-4102-8721-c7491bd20e2f",
   "metadata": {},
   "outputs": [],
   "source": [
    "template = 'CREATE TABLE \"{tablename}\" (\\n{ddl});'"
   ]
  },
  {
   "cell_type": "code",
   "execution_count": 76,
   "id": "ee19badc-c275-4f00-af60-c059c0af63e8",
   "metadata": {},
   "outputs": [],
   "source": [
    "ddl = ''.join([f'    \"{name}\" {dtype},\\n' for name, dtype in zip(vname, dts)])  #.rstrip(',')\n",
    "ddl= ddl[:ddl.rfind(',')] + '\\n'"
   ]
  },
  {
   "cell_type": "code",
   "execution_count": 77,
   "id": "9f06ab61-26aa-4081-b41c-873eea0afe94",
   "metadata": {},
   "outputs": [
    {
     "name": "stdout",
     "output_type": "stream",
     "text": [
      "CREATE TABLE \"StudentsPerformance\" (\n",
      "    \"gender\" text,\n",
      "    \"race/ethnicity\" text,\n",
      "    \"parental level of education\" text,\n",
      "    \"lunch\" text,\n",
      "    \"test preparation course\" text,\n",
      "    \"math score\" int,\n",
      "    \"reading score\" int,\n",
      "    \"writing score\" int\n",
      ");\n"
     ]
    }
   ],
   "source": [
    "print(template.format(tablename=tname, ddl=ddl))"
   ]
  },
  {
   "cell_type": "code",
   "execution_count": 46,
   "id": "f3abdd55-8fd5-420f-9d3c-9616cd9b5b53",
   "metadata": {},
   "outputs": [
    {
     "data": {
      "text/plain": [
       "'\\nCREATE TABLE distributors (\\n    did integer,\\n    name varchar(40)\\n);\\n'"
      ]
     },
     "execution_count": 46,
     "metadata": {},
     "output_type": "execute_result"
    }
   ],
   "source": [
    "template"
   ]
  },
  {
   "cell_type": "code",
   "execution_count": 18,
   "id": "ca7ac2e6-05b3-4b64-b2be-30d5573b091d",
   "metadata": {},
   "outputs": [
    {
     "data": {
      "text/plain": [
       "True"
      ]
     },
     "execution_count": 18,
     "metadata": {},
     "output_type": "execute_result"
    }
   ],
   "source": [
    "check_dtype(c[-1], check_int)"
   ]
  },
  {
   "cell_type": "code",
   "execution_count": 5,
   "id": "e7bcf2fb-f86c-4001-a25a-31723c3ca103",
   "metadata": {},
   "outputs": [],
   "source": [
    "re_int = re.compile('-{0,1}\\d+')  # [0-9], -{0,1} ~ '-?'"
   ]
  },
  {
   "cell_type": "code",
   "execution_count": 8,
   "id": "4cd8a518-a929-4255-8f4e-e7e4ced63918",
   "metadata": {},
   "outputs": [],
   "source": [
    "re_int.match('-961')"
   ]
  },
  {
   "cell_type": "code",
   "execution_count": 9,
   "id": "a1b828cf-ac5f-4d9b-8cf2-8caeafcd48ce",
   "metadata": {},
   "outputs": [
    {
     "data": {
      "text/plain": [
       "<re.Match object; span=(0, 4), match='-961'>"
      ]
     },
     "execution_count": 9,
     "metadata": {},
     "output_type": "execute_result"
    }
   ],
   "source": [
    "re_int.fullmatch('-961')"
   ]
  },
  {
   "cell_type": "code",
   "execution_count": 57,
   "id": "0985fa2f-fd30-432e-a0a5-396f529fc7f6",
   "metadata": {},
   "outputs": [
    {
     "data": {
      "text/plain": [
       "<re.Match object; span=(0, 3), match='-5.'>"
      ]
     },
     "execution_count": 57,
     "metadata": {},
     "output_type": "execute_result"
    }
   ],
   "source": [
    "re_float.match('-5.862')"
   ]
  },
  {
   "cell_type": "code",
   "execution_count": 58,
   "id": "aaf34833-1f5d-45c8-97f3-2964e0dc4b43",
   "metadata": {},
   "outputs": [
    {
     "data": {
      "text/plain": [
       "'-5.'"
      ]
     },
     "execution_count": 58,
     "metadata": {},
     "output_type": "execute_result"
    }
   ],
   "source": [
    "re_float.match('-5.862').group()"
   ]
  },
  {
   "cell_type": "markdown",
   "id": "618cc65d-2a89-4605-830f-e5cc71fd96a0",
   "metadata": {},
   "source": [
    "#### Задача 1\n",
    "\n",
    "Известно, что подготовка и исследование данных для машинного обучения занимают куда больше времени, чем собственно машинное обучение. В частности, существует такая процедура, как создание т. н. dummy-переменных.\n",
    "\n",
    "![dummy](https://www.statology.org/wp-content/uploads/2021/02/dummyvartrap1-768x344.png)\n",
    "\n",
    "В `pandas` уже есть функция, которая принимает на вход текстовую колонку таблицы и возвращает вместо нее много колонок с dummy-переменными. Однако проблема в том, что в ваших данных есть переменные, значения которых представляют из себя словосочетания со знаками препинания (количество таких слов формально не ограничено). Некоторые алгоритмы \"любят\" только простые названия переменных вида `variable` или `simple_variable`. Кроме того, так или иначе для последующей работы неплохо было бы стандартизировать все названия.\n",
    "\n",
    "Поэтому вам нужно создать функцию, которая бы принимала на вход список из значений переменной и производила следующую предобработку всех значений в колонке:\n",
    "\n",
    "- удаление всех знаков препинания;\n",
    "- приведение всех букв к нижнему регистру;\n",
    "- замену всех пробелов на нижнее подчеркивание;\n",
    "- ограничение длины каждого слова первыми четырьмя буквами.\n",
    "\n",
    "Функция должна возвращать словарь (т. н. mapper), по которому можно преобразовать переменную в новый вид (с помощью методов `.map()` / `.apply` - о них вам расскажут позднее). Ключами должны быть старые значения, а собственно значениями - новые.\n",
    "\n",
    "Не всегда бывает так, что значения переменной написаны на латинице. Напишите вашу функцию таким образом, чтобы по дефолту она обрабатывала англоязычные переменные, но также имела возможность (при соответствующем значении аргумента) обработать и кириллические. Вам может пригодиться функция `translit` из модуля `transliterate` (пример работы с кириллицей можете найти ниже).\n",
    "\n",
    "**Пример**\n",
    "\n",
    "```\n",
    "function input:\n",
    "['Agree', 'Agree', 'Neither agree nor disagree', \"Don't know\", 'Neither agree nor disagree', 'Neither agree nor disagree', 'Disagree', 'No answer', 'Agree strongly', 'No answer', 'Agree', 'Refusal', 'Refusal', 'Disagree strongly', 'Disagree']\n",
    "\n",
    "function return:\n",
    "{\n",
    "    'Agree strongly': 'agre_stro',\n",
    "    'Agree': 'agre',\n",
    "    'Neither agree nor disagree': 'neit_agre_nor_disa',\n",
    "    'Disagree': 'disa',\n",
    "    'Disagree strongly': 'disa_stro',\n",
    "    'Refusal': 'refu',\n",
    "    \"Don't know\": 'dont_know',\n",
    "    'No answer': 'no_answ'\n",
    "}\n",
    "```"
   ]
  },
  {
   "cell_type": "code",
   "execution_count": null,
   "id": "c4f8fdbe-5f26-444c-9d75-fbdf994879b1",
   "metadata": {},
   "outputs": [],
   "source": [
    "# пример работы функции translit\n",
    "\n",
    "from transliterate import translit\n",
    "\n",
    "print(translit('Полностью не согласен', 'ru', reversed=True))"
   ]
  },
  {
   "cell_type": "code",
   "execution_count": null,
   "id": "92c19c51-43fc-4fdc-840e-a0a148bcac22",
   "metadata": {},
   "outputs": [],
   "source": [
    "# наш код здесь"
   ]
  },
  {
   "cell_type": "markdown",
   "id": "f7b58f54-95f6-44ce-8cb9-711d52c0f653",
   "metadata": {},
   "source": [
    "#### Задача 2\n",
    "Предположим, что перед нами стоит задача создать dummy-переменные в PostgreSQL. К сожалению, это не `pandas`, и готовой функции на этот случай не предусмотрено. Однако вы знаете, что можно создавать новые переменные базируясь на значении старых используя конструкцию case...when...then...end:\n",
    "\n",
    "```\n",
    "PostgreSQL:\n",
    "CASE WHEN <condition> THEN <value1> ELSE <value2> END AS <variable_name>\n",
    "В ТОМ СЛУЧАЕ КОГДА <условие> ТОГДА <значение1> ИНАЧЕ <значение2> КОНЕЦ НАЗВАТЬ <имя_переменной>\n",
    "\n",
    "Python:\n",
    "if <condition>:\n",
    "    <value1>\n",
    "else:\n",
    "    <value2>\n",
    "```\n",
    "\n",
    "Если категорий немного, то написать такой код несложно. Однако что делать, если их, к примеру, 100? В этом случае придется писать `CASE WHEN` столько раз, сколько уникальных значений содержит ваша переменная, да еще и придумывать каждый раз соответствующее название.\n",
    "\n",
    "Используйте свои знания Python, чтобы автоматизировать процесс написания SQL-запроса. Напишите соответствующую функцию. Для автоматизированной генерации названия переменной используйте наработки предыдущей задачи. Учтите, что значения переменной не обязательно будут написаны на латинице.\n",
    "\n",
    "На выходе функция должна печатать (в таком же формате, как в примере ниже) законченный блок SQL-запроса.\n",
    "\n",
    "**Пример**\n",
    "```\n",
    "function return:\n",
    "    CASE WHEN gincdif = 'Agree strongly' THEN 1 ELSE 0 END AS agre_stro,\n",
    "    CASE WHEN gincdif = 'Agree' THEN 1 ELSE 0 END AS agre,\n",
    "    CASE WHEN gincdif = 'Neither agree nor disagree' THEN 1 ELSE 0 END AS neit_agre_nor_disa,\n",
    "    CASE WHEN gincdif = 'Disagree' THEN 1 ELSE 0 END AS disa,\n",
    "    CASE WHEN gincdif = 'Disagree strongly' THEN 1 ELSE 0 END AS disa_stro,\n",
    "    CASE WHEN gincdif = 'Refusal' THEN 1 ELSE 0 END AS refu,\n",
    "    CASE WHEN ginsdif = \"Don't know\" THEN 1 ELSE 0 END AS dont_know,\n",
    "    CASE WHEN ginsdif = \"No answer\" THEN 1 ELSE 0 END AS no_answ\n",
    "```"
   ]
  },
  {
   "cell_type": "code",
   "execution_count": null,
   "id": "a26250b4-ab56-4f67-b82b-dfe95edbf7b6",
   "metadata": {},
   "outputs": [],
   "source": [
    "# наш код здесь"
   ]
  }
 ],
 "metadata": {
  "kernelspec": {
   "display_name": "Python 3 (ipykernel)",
   "language": "python",
   "name": "python3"
  },
  "language_info": {
   "codemirror_mode": {
    "name": "ipython",
    "version": 3
   },
   "file_extension": ".py",
   "mimetype": "text/x-python",
   "name": "python",
   "nbconvert_exporter": "python",
   "pygments_lexer": "ipython3",
   "version": "3.11.1"
  }
 },
 "nbformat": 4,
 "nbformat_minor": 5
}
