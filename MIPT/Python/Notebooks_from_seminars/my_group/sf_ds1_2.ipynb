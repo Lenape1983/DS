{
 "cells": [
  {
   "cell_type": "markdown",
   "id": "87dec23c",
   "metadata": {},
   "source": [
    "# Введение в программирование на языке Python\n",
    "## Семинар 1. Введение в функции в Python\n",
    "### Познакомимся\n",
    "<u>Немного обо мне:</u>\n",
    "- Иоанн;\n",
    "- веду контактные занятия;\n",
    "- ML-инженер (Сбер);\n",
    "- приглашенный преподаватель (НИУ ВШЭ).\n",
    "\n",
    "<u>А вы кто?</u>\n",
    "- какой опыт был у вас ранее?\n",
    "- почему вы решили учиться на этой программе?\n",
    "- что ожидаете получить от этого курса?\n",
    "\n",
    "### Правила успешного обучения\n",
    "- гуглим;\n",
    "- читаем документацию;\n",
    "- если что-то непонятно - тут же спрашиваем.\n",
    "\n",
    "### Формат работы\n",
    "- в модулях теория, на занятиях - практика."
   ]
  },
  {
   "cell_type": "markdown",
   "id": "4a698a76",
   "metadata": {},
   "source": [
    "### Решаем задачи\n",
    "#### Задача 0 (разминочная)\n",
    "\n",
    "Напишите функцию, которая принимает на вход коэффициенты квадратного уравнения (действительные числа `a`, `b` и `с`) и выводит кортеж с решением(ями). Комплексными корнями и бесконечным количеством решений пренебречь. Возвращаться должен кортеж."
   ]
  },
  {
   "cell_type": "code",
   "execution_count": 3,
   "id": "75142383-3190-483c-87d5-8173bf55cde8",
   "metadata": {},
   "outputs": [],
   "source": [
    "big_str = '''\n",
    "a\n",
    "b\n",
    "c\n",
    "'''"
   ]
  },
  {
   "cell_type": "code",
   "execution_count": 10,
   "id": "0b4fc33f",
   "metadata": {},
   "outputs": [],
   "source": [
    "def solve(a: float, b: float, c: float) -> tuple[float]:\n",
    "    \"\"\"\n",
    "    a: first coefficient\n",
    "    ...\n",
    "    \"\"\"\n",
    "    \n",
    "    D = b ** 2 - 4 * a * c\n",
    "\n",
    "    if D < 0:\n",
    "        result = ()  # tuple()\n",
    "    elif D == 0:\n",
    "        result = ((-1) * b / (2 * a),)\n",
    "    else:\n",
    "        sqrtD = D ** (1 / 2)\n",
    "        result = (((-1) * b + sqrtD) / (2 * a), ((-1) * b - sqrtD) / (2 * a))\n",
    "\n",
    "    return result"
   ]
  },
  {
   "cell_type": "code",
   "execution_count": 11,
   "id": "e75349d5-2e18-49cb-849e-7fc4c1ae7239",
   "metadata": {},
   "outputs": [
    {
     "data": {
      "text/plain": [
       "[]"
      ]
     },
     "execution_count": 11,
     "metadata": {},
     "output_type": "execute_result"
    }
   ],
   "source": [
    "solve(1, 2, 1)"
   ]
  },
  {
   "cell_type": "code",
   "execution_count": 8,
   "id": "984c8951-3707-43ba-85b9-e7766ba5643e",
   "metadata": {},
   "outputs": [
    {
     "data": {
      "text/plain": [
       "(1,)"
      ]
     },
     "execution_count": 8,
     "metadata": {},
     "output_type": "execute_result"
    }
   ],
   "source": [
    "(1,)"
   ]
  },
  {
   "cell_type": "code",
   "execution_count": 5,
   "id": "6a50e268-8e65-4bca-8fae-18b98acc1f4f",
   "metadata": {},
   "outputs": [
    {
     "data": {
      "text/plain": [
       "\u001b[1;31mSignature:\u001b[0m \u001b[0msolve\u001b[0m\u001b[1;33m(\u001b[0m\u001b[0ma\u001b[0m\u001b[1;33m:\u001b[0m \u001b[0mfloat\u001b[0m\u001b[1;33m,\u001b[0m \u001b[0mb\u001b[0m\u001b[1;33m:\u001b[0m \u001b[0mfloat\u001b[0m\u001b[1;33m,\u001b[0m \u001b[0mc\u001b[0m\u001b[1;33m:\u001b[0m \u001b[0mfloat\u001b[0m\u001b[1;33m)\u001b[0m \u001b[1;33m->\u001b[0m \u001b[0mtuple\u001b[0m\u001b[1;33m[\u001b[0m\u001b[0mfloat\u001b[0m\u001b[1;33m]\u001b[0m\u001b[1;33m\u001b[0m\u001b[1;33m\u001b[0m\u001b[0m\n",
       "\u001b[1;31mDocstring:\u001b[0m\n",
       "a: first coefficient\n",
       "...\n",
       "\u001b[1;31mFile:\u001b[0m      c:\\users\\m050\\appdata\\local\\temp\\ipykernel_20944\\526186198.py\n",
       "\u001b[1;31mType:\u001b[0m      function"
      ]
     },
     "metadata": {},
     "output_type": "display_data"
    }
   ],
   "source": [
    "?solve"
   ]
  },
  {
   "cell_type": "markdown",
   "id": "7541634b-e0be-4394-8009-9f0bb8ff83ec",
   "metadata": {},
   "source": [
    "#### Задача 1\n",
    "Напишите функцию, которая будет переводить `int` в `str` без использования функции `str()`.\n",
    "\n",
    "- без форматирования строки;\n",
    "- "
   ]
  },
  {
   "cell_type": "code",
   "execution_count": 23,
   "id": "2e019e4a-ac77-4104-aefa-a45a8a32af7e",
   "metadata": {},
   "outputs": [],
   "source": [
    "def int1_to_str(number: int) -> str:\n",
    "    return chr(48 + number)  # chr(ord('0') + number)\n",
    "\n",
    "def int_to_str(number: int) -> str:\n",
    "    n_ = abs(number)\n",
    "    \n",
    "    result = ''\n",
    "    \n",
    "    while n_ > 0:\n",
    "        num = n_ % 10\n",
    "        result += int1_to_str(num)  # result = result + int1_to_str(num)\n",
    "        n_ //= 10\n",
    "    \n",
    "    result = result[::-1]  # result = '-' * (number < 0) + result[::-1]\n",
    "    \n",
    "    if number < 0:\n",
    "        result = '-' + result\n",
    "    \n",
    "    return result"
   ]
  },
  {
   "cell_type": "code",
   "execution_count": 24,
   "id": "3ccedde2-ca58-4172-bb0d-5a2507bf9288",
   "metadata": {},
   "outputs": [
    {
     "data": {
      "text/plain": [
       "'-323'"
      ]
     },
     "execution_count": 24,
     "metadata": {},
     "output_type": "execute_result"
    }
   ],
   "source": [
    "int_to_str(-323)"
   ]
  },
  {
   "cell_type": "code",
   "execution_count": null,
   "id": "4956f462-0231-4b11-af00-6d07f3f8d17d",
   "metadata": {},
   "outputs": [],
   "source": [
    "n = 815\n",
    "\n",
    "# 815 % 10 -> 5\n",
    "# 815 // 10 -> 81\n",
    "\n",
    "# 81 % 10 -> 1\n",
    "# 81 // 10 -> 8\n",
    "\n",
    "# 8 % 10 -> 8\n",
    "# 8 // 10 -> 0"
   ]
  },
  {
   "cell_type": "code",
   "execution_count": 17,
   "id": "82d84c04-8e4c-4ff8-8d6a-f84e30c1f419",
   "metadata": {},
   "outputs": [
    {
     "name": "stdout",
     "output_type": "stream",
     "text": [
      "518\n"
     ]
    }
   ],
   "source": [
    "n = 815\n",
    "n_ = abs(n)\n",
    "\n",
    "result = ''\n",
    "\n",
    "while n_ > 0:\n",
    "    num = n_ % 10\n",
    "    result += int1_to_str(num)  # result = result + int1_to_str(num)\n",
    "    n_ //= 10\n",
    "\n",
    "result = result[::-1]  # result = '-' * (n < 0) + result[::-1]\n",
    "\n",
    "if n < 0:\n",
    "    result = '-' + result\n",
    "\n",
    "print(result)"
   ]
  },
  {
   "cell_type": "code",
   "execution_count": 19,
   "id": "9fe9cc86-15c2-45e0-8e99-93aed45437c3",
   "metadata": {},
   "outputs": [
    {
     "data": {
      "text/plain": [
       "''"
      ]
     },
     "execution_count": 19,
     "metadata": {},
     "output_type": "execute_result"
    }
   ],
   "source": [
    "'-' * 0"
   ]
  },
  {
   "cell_type": "code",
   "execution_count": 20,
   "id": "72507440-956d-40fb-9014-92a35af56218",
   "metadata": {},
   "outputs": [
    {
     "data": {
      "text/plain": [
       "''"
      ]
     },
     "execution_count": 20,
     "metadata": {},
     "output_type": "execute_result"
    }
   ],
   "source": [
    "'-' * False"
   ]
  },
  {
   "cell_type": "code",
   "execution_count": 16,
   "id": "feda6dde-1a89-42fc-be64-7b7c265ce2f0",
   "metadata": {},
   "outputs": [
    {
     "data": {
      "text/plain": [
       "'8'"
      ]
     },
     "execution_count": 16,
     "metadata": {},
     "output_type": "execute_result"
    }
   ],
   "source": [
    "int1_to_str(8)"
   ]
  },
  {
   "cell_type": "code",
   "execution_count": 14,
   "id": "da17fb95-59ce-4f28-8c93-64bbc5b54713",
   "metadata": {},
   "outputs": [
    {
     "data": {
      "text/plain": [
       "48"
      ]
     },
     "execution_count": 14,
     "metadata": {},
     "output_type": "execute_result"
    }
   ],
   "source": [
    "ord('0')"
   ]
  },
  {
   "cell_type": "code",
   "execution_count": 13,
   "id": "bfe5a41f-208b-4d6c-95ee-94a534c0cbe5",
   "metadata": {},
   "outputs": [
    {
     "data": {
      "text/plain": [
       "'6'"
      ]
     },
     "execution_count": 13,
     "metadata": {},
     "output_type": "execute_result"
    }
   ],
   "source": [
    "chr(48 + 6)"
   ]
  },
  {
   "cell_type": "code",
   "execution_count": null,
   "id": "50c81016-1507-451a-b151-aacb1faf1a73",
   "metadata": {},
   "outputs": [],
   "source": [
    "# наш код здесь"
   ]
  },
  {
   "cell_type": "markdown",
   "id": "60e8d5c1-f286-43f6-8a53-6df0bc8b5b16",
   "metadata": {},
   "source": [
    "# Немного о Markdown (Заголовок уровня 1)\n",
    "### Немного о Markdown (Заголовок уровня 3)"
   ]
  },
  {
   "cell_type": "markdown",
   "id": "4ef4c1de-18c0-49a1-95d5-9143d6097b48",
   "metadata": {},
   "source": [
    "просто текст\n",
    "\n",
    "**жирный текст**\n",
    "\n",
    "*наклонный текст*\n",
    "\n",
    "<u>подчеркнутый текст</u>\n",
    "\n",
    "[текст ссылки](url)\n",
    "\n",
    "![текст под изображением](url)"
   ]
  },
  {
   "cell_type": "code",
   "execution_count": null,
   "id": "bb14400e-ac7a-4a77-a08b-25f9bc65079c",
   "metadata": {},
   "outputs": [],
   "source": []
  },
  {
   "cell_type": "markdown",
   "id": "d6f46171-68f9-48cb-a090-69ab203f2b95",
   "metadata": {},
   "source": [
    "#### Задача 2\n",
    "Мы хотим автоматизировать процесс перекладки текстовых файлов с данными из хранилища в БД (Postgres). Предположим, что таблицы каждый раз разные. Соответственно, перед записью данных необходимо создать таблицу. Это можно сделать примерно так:\n",
    "\n",
    "```\n",
    "CREATE TABLE distributors (\n",
    "    did integer,\n",
    "    name varchar(40)\n",
    ");\n",
    "```\n",
    "\n",
    "PostgreSQL [располагает](https://www.postgresql.org/docs/current/datatype.html) следующими типами данных (это не все, что есть, но все, что нам сейчас пригодится):\n",
    "\n",
    "<table>\n",
    "    <tr>\n",
    "        <th>Python</th>\n",
    "        <th>PostgreSQL</th>\n",
    "    </tr>\n",
    "    <tr>\n",
    "        <td>int</td>\n",
    "        <td>smallint, integer, bigint</td>\n",
    "    </tr>\n",
    "    <tr>\n",
    "        <td>float</td>\n",
    "        <td>real</td>\n",
    "    </tr>\n",
    "    <tr>\n",
    "        <td>bool</td>\n",
    "        <td>boolean</td>\n",
    "    </tr>\n",
    "    <tr>\n",
    "        <td>str</td>\n",
    "        <td>varchar, text</td>\n",
    "    </tr>\n",
    "</table>\n",
    "\n",
    "Реализуйте соответствующую функцию. Она должна иметь следующие аргументы:\n",
    "\n",
    "- `filename` (строка) - путь к текстовому файлу;\n",
    "- `sep` (строка, по дефолту для CSV) - разделитель;\n",
    "- `tablename` (строка, по дефолту соответствует названию файла без расширения, если `None`);\n",
    "- `varnames` (либо должны быть предоставлены в виде списка, либо добываются из данных если `None`);\n",
    "- `dtypes` (либо должны быть предоставлены в виде списка, либо добываются из данных если `None`).\n",
    "\n",
    "Функция должна записывать получившийся скрипт в файл 'create_table.sql' и возвращать путь к этому файлу."
   ]
  },
  {
   "cell_type": "code",
   "execution_count": 29,
   "id": "d69dcc6c-d2bf-4933-80c9-69807b4ef7d6",
   "metadata": {},
   "outputs": [],
   "source": [
    "def extract_name(filename: str) -> str:\n",
    "    dot_position = filename.rfind('.')\n",
    "    slash_position = filename.rfind('/')\n",
    "\n",
    "    return filename[(slash_position + 1):dot_position]\n",
    "\n",
    "def sql_from_file(\n",
    "    filename: str,\n",
    "    sep=',',\n",
    "    tablename=None,\n",
    "    varnames=None,\n",
    "    dtypes=None\n",
    ") -> str:\n",
    "    with open(filename, 'r') as file:  # file = open('./StudentsPerformance.csv', 'r')\n",
    "        text = file.read()\n",
    "\n",
    "    # get filename\n",
    "    if tablename is None:\n",
    "        tablename = extract_name(filename)"
   ]
  },
  {
   "cell_type": "code",
   "execution_count": 51,
   "id": "a5ebac99-c0fd-4507-a989-1176148c2071",
   "metadata": {},
   "outputs": [
    {
     "data": {
      "text/plain": [
       "True"
      ]
     },
     "execution_count": 51,
     "metadata": {},
     "output_type": "execute_result"
    }
   ],
   "source": [
    "1 == 1"
   ]
  },
  {
   "cell_type": "code",
   "execution_count": 44,
   "id": "3f778243-f238-4205-aafb-f65154087f46",
   "metadata": {},
   "outputs": [],
   "source": [
    "with open('./StudentsPerformance.csv', 'r') as file:  # file = open('./StudentsPerformance.csv', 'r')\n",
    "    text = file.read()"
   ]
  },
  {
   "cell_type": "code",
   "execution_count": 49,
   "id": "8765b706-9dc8-4c9e-bad5-acf7538f3a7c",
   "metadata": {},
   "outputs": [],
   "source": [
    "fn = './StudentsPerformance.csv'\n",
    "\n",
    "dot_position = fn.rfind('.')\n",
    "slash_position = fn.rfind('/')"
   ]
  },
  {
   "cell_type": "code",
   "execution_count": 50,
   "id": "539305ae-7956-4d6d-a2b6-0f8507f0ea80",
   "metadata": {},
   "outputs": [
    {
     "data": {
      "text/plain": [
       "'StudentsPerformance'"
      ]
     },
     "execution_count": 50,
     "metadata": {},
     "output_type": "execute_result"
    }
   ],
   "source": [
    "fn[(slash_position + 1):dot_position]"
   ]
  },
  {
   "cell_type": "code",
   "execution_count": null,
   "id": "5511cca8-6ffa-4289-bf6b-024d74ef7231",
   "metadata": {},
   "outputs": [],
   "source": [
    "fn"
   ]
  },
  {
   "cell_type": "code",
   "execution_count": 48,
   "id": "0174f4d3-b08f-47fa-a97f-2acc1a13e9ea",
   "metadata": {},
   "outputs": [
    {
     "data": {
      "text/plain": [
       "21"
      ]
     },
     "execution_count": 48,
     "metadata": {},
     "output_type": "execute_result"
    }
   ],
   "source": [
    "fn.rfind('.')"
   ]
  }
 ],
 "metadata": {
  "kernelspec": {
   "display_name": "Python 3 (ipykernel)",
   "language": "python",
   "name": "python3"
  },
  "language_info": {
   "codemirror_mode": {
    "name": "ipython",
    "version": 3
   },
   "file_extension": ".py",
   "mimetype": "text/x-python",
   "name": "python",
   "nbconvert_exporter": "python",
   "pygments_lexer": "ipython3",
   "version": "3.11.1"
  }
 },
 "nbformat": 4,
 "nbformat_minor": 5
}
