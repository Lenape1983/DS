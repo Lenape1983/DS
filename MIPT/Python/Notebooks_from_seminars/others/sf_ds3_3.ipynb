{
 "cells": [
  {
   "cell_type": "markdown",
   "id": "87dec23c",
   "metadata": {},
   "source": [
    "# Программирование на Python\n",
    "## Семинар 3. Повторение основ\n",
    "#### Задача с прошлого занятия\n",
    "Мы хотим автоматизировать процесс перекладки текстовых файлов с данными из хранилища в БД (Postgres). Предположим, что таблицы каждый раз разные. Соответственно, перед записью данных необходимо создать таблицу. Это можно сделать примерно так:\n",
    "\n",
    "```\n",
    "CREATE TABLE distributors (\n",
    "    did integer,\n",
    "    name varchar(40)\n",
    ");\n",
    "```\n",
    "\n",
    "PostgreSQL [располагает](https://www.postgresql.org/docs/current/datatype.html) следующими типами данных (это не все, что есть, но все, что нам сейчас пригодится):\n",
    "\n",
    "<table>\n",
    "    <tr>\n",
    "        <th>Python</th>\n",
    "        <th>PostgreSQL</th>\n",
    "    </tr>\n",
    "    <tr>\n",
    "        <td>int</td>\n",
    "        <td>smallint, integer, bigint</td>\n",
    "    </tr>\n",
    "    <tr>\n",
    "        <td>float</td>\n",
    "        <td>real</td>\n",
    "    </tr>\n",
    "    <tr>\n",
    "        <td>bool</td>\n",
    "        <td>boolean</td>\n",
    "    </tr>\n",
    "    <tr>\n",
    "        <td>str</td>\n",
    "        <td>varchar, text</td>\n",
    "    </tr>\n",
    "</table>\n",
    "\n",
    "Реализуйте соответствующую функцию. Она должна иметь следующие аргументы:\n",
    "\n",
    "- `filename` (строка) - путь к текстовому файлу;\n",
    "- `sep` (строка, по дефолту для CSV) - разделитель;\n",
    "- `tablename` (строка, по дефолту соответствует названию файла без расширения);\n",
    "- `varnames` (либо должны быть предоставлены в виде списка, либо добываются из данных если `None`);\n",
    "- `dtypes` (либо должны быть предоставлены в виде списка, либо добываются из данных если `None`).\n",
    "\n",
    "Функция должна записывать получившийся скрипт в файл 'create_table.sql' и возвращать путь к этому файлу."
   ]
  },
  {
   "cell_type": "code",
   "execution_count": null,
   "id": "80823527-ab9b-41f9-a68c-680dcd0ee53e",
   "metadata": {},
   "outputs": [],
   "source": [
    "# check if bool\n",
    "# check if int\n",
    "# check if float\n",
    "# else str"
   ]
  },
  {
   "cell_type": "code",
   "execution_count": 58,
   "id": "3f0e25e9-6a59-442f-a9ed-16e30bdd586d",
   "metadata": {},
   "outputs": [],
   "source": [
    "big_list = list(range(100000))\n",
    "big_set = set(range(100000))"
   ]
  },
  {
   "cell_type": "code",
   "execution_count": 59,
   "id": "bc4a8e6c-84db-4b65-a9d5-05ff04913e81",
   "metadata": {},
   "outputs": [
    {
     "name": "stdout",
     "output_type": "stream",
     "text": [
      "705 µs ± 81.2 µs per loop (mean ± std. dev. of 7 runs, 1,000 loops each)\n"
     ]
    }
   ],
   "source": [
    "%%timeit\n",
    "\n",
    "_ = 50000 in big_list"
   ]
  },
  {
   "cell_type": "code",
   "execution_count": 60,
   "id": "8462e88d-8ca5-4bdc-b514-6a1c22e3bbe8",
   "metadata": {},
   "outputs": [
    {
     "name": "stdout",
     "output_type": "stream",
     "text": [
      "53.2 ns ± 1.67 ns per loop (mean ± std. dev. of 7 runs, 10,000,000 loops each)\n"
     ]
    }
   ],
   "source": [
    "%%timeit\n",
    "\n",
    "_ = 50000 in big_set"
   ]
  },
  {
   "cell_type": "code",
   "execution_count": 61,
   "id": "219d169b-7d47-4b27-a27d-c8c47461b1d5",
   "metadata": {},
   "outputs": [],
   "source": [
    "_ = 1"
   ]
  },
  {
   "cell_type": "code",
   "execution_count": 63,
   "id": "aa4f8aff-62b0-48e8-bc6e-fc33e70d01fc",
   "metadata": {},
   "outputs": [],
   "source": [
    "a, b, _ = (4, False, 'a')"
   ]
  },
  {
   "cell_type": "code",
   "execution_count": 1,
   "id": "d69dcc6c-d2bf-4933-80c9-69807b4ef7d6",
   "metadata": {},
   "outputs": [],
   "source": [
    "trash_symbols = '\\t\" \\n'\n",
    "pattern_int = re.compile('-{0,1}\\d+')\n",
    "\n",
    "def check_bool(value: str) -> bool:\n",
    "    return value.lower() in {'false', 'true'}\n",
    "\n",
    "def check_int(value: str) -> bool:\n",
    "    return pattern_int.fullmatch(value) is not None\n",
    "\n",
    "def extract_from_path(filename: str) -> str:\n",
    "    slash_index = filename.rfind('/')  # path[::-1].find('/')\n",
    "    dot_index = filename.rfind('.')\n",
    "    \n",
    "    return filename[slash_index + 1:dot_index]\n",
    "\n",
    "def sql_from_file(\n",
    "    filename: str,\n",
    "    sep=',',\n",
    "    tablename=None,\n",
    "    varnames=None,\n",
    "    dtypes=None\n",
    ") -> str:\n",
    "    '''\n",
    "    filename: path to file with data\n",
    "    sep: ...\n",
    "    '''\n",
    "    # load file\n",
    "    with open(filename, 'r') as file:  # file = open(path, 'r')\n",
    "        lines = []\n",
    "    \n",
    "        for line in file:  # iter(file) ...\n",
    "            line_clean = [object.strip(trash_symbols) for object in line.split(sep)]\n",
    "            \n",
    "            lines.append(line_clean)\n",
    "\n",
    "    # get tablename\n",
    "    if tablename is None:\n",
    "        tablename = extract_from_path(filename)\n",
    "\n",
    "    # get varnames\n",
    "    if varnames is None:\n",
    "        varnames = lines[0].copy()  # list(lines[0])\n",
    "\n",
    "    # reshape lines\n",
    "    lines_t = list(zip(*lines[1:]))\n",
    "    \n",
    "    # get dtypes"
   ]
  },
  {
   "cell_type": "code",
   "execution_count": 64,
   "id": "5c8df803-9137-4d94-919f-ce42de0eac4d",
   "metadata": {},
   "outputs": [],
   "source": [
    "import re"
   ]
  },
  {
   "cell_type": "code",
   "execution_count": 75,
   "id": "ef9b14e4-ff73-4213-9ca7-43041d58dfb0",
   "metadata": {},
   "outputs": [
    {
     "data": {
      "text/plain": [
       "148.0"
      ]
     },
     "execution_count": 75,
     "metadata": {},
     "output_type": "execute_result"
    }
   ],
   "source": [
    "148."
   ]
  },
  {
   "cell_type": "code",
   "execution_count": null,
   "id": "6903c244-0d39-49c2-bcde-3477695c7ede",
   "metadata": {},
   "outputs": [],
   "source": [
    "'-{0,1}'"
   ]
  },
  {
   "cell_type": "code",
   "execution_count": 76,
   "id": "0e9a1881-141e-4661-a660-afca9ba10cd0",
   "metadata": {},
   "outputs": [],
   "source": [
    "pattern_float = re.compile('-{0,1}\\d+\\.\\d*')"
   ]
  },
  {
   "cell_type": "code",
   "execution_count": 67,
   "id": "06c35ea4-bc60-4082-9c36-613adcc9b2ac",
   "metadata": {},
   "outputs": [],
   "source": [
    "pattern_int = re.compile('-{0,1}\\d+')"
   ]
  },
  {
   "cell_type": "code",
   "execution_count": 74,
   "id": "cb54f02d-b268-48d8-bf61-eed6cf0954ec",
   "metadata": {},
   "outputs": [],
   "source": [
    "pattern_int.fullmatch('-123.93')"
   ]
  },
  {
   "cell_type": "code",
   "execution_count": 68,
   "id": "c43992cb-2da9-448b-b4c1-5e5f0bbea5da",
   "metadata": {},
   "outputs": [
    {
     "data": {
      "text/plain": [
       "<re.Match object; span=(0, 4), match='-123'>"
      ]
     },
     "execution_count": 68,
     "metadata": {},
     "output_type": "execute_result"
    }
   ],
   "source": [
    "pattern_int.search('-123')"
   ]
  },
  {
   "cell_type": "code",
   "execution_count": 69,
   "id": "7d4d5151-20d0-4500-a8e7-bebbeab48cf8",
   "metadata": {},
   "outputs": [
    {
     "data": {
      "text/plain": [
       "<re.Match object; span=(0, 4), match='-123'>"
      ]
     },
     "execution_count": 69,
     "metadata": {},
     "output_type": "execute_result"
    }
   ],
   "source": [
    "pattern_int.search('-123amcskmcksa')"
   ]
  },
  {
   "cell_type": "code",
   "execution_count": 70,
   "id": "b3fe3d67-8de4-4382-9b57-24294dcdefe5",
   "metadata": {},
   "outputs": [
    {
     "data": {
      "text/plain": [
       "<re.Match object; span=(10, 14), match='-123'>"
      ]
     },
     "execution_count": 70,
     "metadata": {},
     "output_type": "execute_result"
    }
   ],
   "source": [
    "pattern_int.search('amcskmcksa-123')"
   ]
  },
  {
   "cell_type": "code",
   "execution_count": 71,
   "id": "38d213f3-bf22-4e47-83a3-4ac269e7e463",
   "metadata": {},
   "outputs": [
    {
     "data": {
      "text/plain": [
       "<re.Match object; span=(0, 4), match='-123'>"
      ]
     },
     "execution_count": 71,
     "metadata": {},
     "output_type": "execute_result"
    }
   ],
   "source": [
    "pattern_int.search('-123amcskmcksa-123')"
   ]
  },
  {
   "cell_type": "code",
   "execution_count": 41,
   "id": "2f124b78-cbe1-4dfa-b662-d70294218251",
   "metadata": {},
   "outputs": [],
   "source": [
    "list_of_lists = [\n",
    "    [1, 2, 3],\n",
    "    [3, 2, 1]\n",
    "]\n",
    "lst = list_of_lists[1].copy()"
   ]
  },
  {
   "cell_type": "code",
   "execution_count": 42,
   "id": "e0caf8de-ff88-4606-8ebb-edad48a514d4",
   "metadata": {},
   "outputs": [],
   "source": [
    "lst.sort()"
   ]
  },
  {
   "cell_type": "code",
   "execution_count": 43,
   "id": "c493a03f-95d6-42fc-b030-11ea4e18176a",
   "metadata": {},
   "outputs": [
    {
     "data": {
      "text/plain": [
       "[[1, 2, 3], [3, 2, 1]]"
      ]
     },
     "execution_count": 43,
     "metadata": {},
     "output_type": "execute_result"
    }
   ],
   "source": [
    "list_of_lists"
   ]
  },
  {
   "cell_type": "code",
   "execution_count": 14,
   "id": "d084ae1b-f538-4a1f-80ed-d7a95466c30e",
   "metadata": {},
   "outputs": [],
   "source": [
    "path = '../Занятие 1/StudentsPerformance.csv'"
   ]
  },
  {
   "cell_type": "code",
   "execution_count": 33,
   "id": "67e4c7cd-3fb1-4fc3-b957-3f7db9289252",
   "metadata": {},
   "outputs": [],
   "source": [
    "trash_symbols = '\\t\" \\n'\n",
    "\n",
    "with open(path, 'r') as file:  # file = open(path, 'r')\n",
    "    lines = []\n",
    "\n",
    "    for line in file:  # iter(file) ...\n",
    "        line_clean = [object.strip(trash_symbols) for object in line.split(',')]\n",
    "        \n",
    "        lines.append(line_clean)"
   ]
  },
  {
   "cell_type": "code",
   "execution_count": 49,
   "id": "36af3260-a0a6-4539-9bde-3ac3d45849d3",
   "metadata": {},
   "outputs": [
    {
     "data": {
      "text/plain": [
       "[(1, 'a', True), (2, 'b', False)]"
      ]
     },
     "execution_count": 49,
     "metadata": {},
     "output_type": "execute_result"
    }
   ],
   "source": [
    "list(zip([1, 2, 3], ['a', 'b', 'c'], [True, False]))  # *args"
   ]
  },
  {
   "cell_type": "code",
   "execution_count": 51,
   "id": "76b6fc4c-ca15-4832-9f91-fb9ca1fd8e1c",
   "metadata": {},
   "outputs": [
    {
     "name": "stdout",
     "output_type": "stream",
     "text": [
      "[1, 2, 3]\n"
     ]
    }
   ],
   "source": [
    "print([1, 2, 3], sep=':')"
   ]
  },
  {
   "cell_type": "code",
   "execution_count": 52,
   "id": "ba0020fc-09b3-4451-9176-2f152c2fe46b",
   "metadata": {},
   "outputs": [
    {
     "name": "stdout",
     "output_type": "stream",
     "text": [
      "1:2:3\n"
     ]
    }
   ],
   "source": [
    "print(*[1, 2, 3], sep=':')"
   ]
  },
  {
   "cell_type": "code",
   "execution_count": 53,
   "id": "ed4ab2c3-7191-4a62-ad9b-29f6fd4801f2",
   "metadata": {},
   "outputs": [],
   "source": [
    "lines_t = list(zip(*lines[1:]))"
   ]
  },
  {
   "cell_type": "code",
   "execution_count": 56,
   "id": "22bce8ca-4957-442d-875d-c679da5078a7",
   "metadata": {},
   "outputs": [
    {
     "data": {
      "text/plain": [
       "['female',\n",
       " 'group B',\n",
       " \"bachelor's degree\",\n",
       " 'standard',\n",
       " 'none',\n",
       " '72',\n",
       " '72',\n",
       " '74']"
      ]
     },
     "execution_count": 56,
     "metadata": {},
     "output_type": "execute_result"
    }
   ],
   "source": [
    "lines[1]"
   ]
  },
  {
   "cell_type": "code",
   "execution_count": 55,
   "id": "7b41880a-f9cc-4115-9fb1-788c4db206da",
   "metadata": {},
   "outputs": [
    {
     "data": {
      "text/plain": [
       "8"
      ]
     },
     "execution_count": 55,
     "metadata": {},
     "output_type": "execute_result"
    }
   ],
   "source": [
    "len(lines_t)"
   ]
  },
  {
   "cell_type": "code",
   "execution_count": 34,
   "id": "6a16228c-75bd-4e58-8b82-044a7999611d",
   "metadata": {},
   "outputs": [
    {
     "data": {
      "text/plain": [
       "['gender',\n",
       " 'race/ethnicity',\n",
       " 'parental level of education',\n",
       " 'lunch',\n",
       " 'test preparation course',\n",
       " 'math score',\n",
       " 'reading score',\n",
       " 'writing score']"
      ]
     },
     "execution_count": 34,
     "metadata": {},
     "output_type": "execute_result"
    }
   ],
   "source": [
    "lines[0]"
   ]
  },
  {
   "cell_type": "markdown",
   "id": "73e5b02e-4788-4514-8bd9-31f93ea381f1",
   "metadata": {},
   "source": [
    "#### Задача 1\n",
    "\n",
    "Известно, что подготовка и исследование данных для машинного обучения занимают куда больше времени, чем собственно машинное обучение. В частности, существует такая процедура, как создание т. н. dummy-переменных.\n",
    "\n",
    "![dummy](https://www.statology.org/wp-content/uploads/2021/02/dummyvartrap1-768x344.png)\n",
    "\n",
    "В `pandas` уже есть функция, которая принимает на вход текстовую колонку таблицы и возвращает вместо нее много колонок с dummy-переменными. Однако проблема в том, что в ваших данных есть переменные, значения которых представляют из себя словосочетания со знаками препинания (количество таких слов формально не ограничено). Некоторые алгоритмы \"любят\" только простые названия переменных вида `variable` или `simple_variable`. Кроме того, так или иначе для последующей работы неплохо было бы стандартизировать все названия.\n",
    "\n",
    "Поэтому вам нужно создать функцию, которая бы принимала на вход список из значений переменной и производила следующую предобработку всех значений в колонке:\n",
    "\n",
    "- удаление всех знаков препинания;\n",
    "- приведение всех букв к нижнему регистру;\n",
    "- замену всех пробелов на нижнее подчеркивание;\n",
    "- ограничение длины каждого слова первыми четырьмя буквами.\n",
    "\n",
    "Функция должна возвращать словарь (т. н. mapper), по которому можно преобразовать переменную в новый вид (с помощью методов `.map()` / `.apply` - о них вам расскажут позднее). Ключами должны быть старые значения, а собственно значениями - новые.\n",
    "\n",
    "Не всегда бывает так, что значения переменной написаны на латинице. Напишите вашу функцию таким образом, чтобы по дефолту она обрабатывала англоязычные переменные, но также имела возможность (при соответствующем значении аргумента) обработать и кириллические. Вам может пригодиться функция `translit` из модуля `transliterate` (пример работы с кириллицей можете найти ниже).\n",
    "\n",
    "**Пример**\n",
    "\n",
    "```\n",
    "function input:\n",
    "['Agree', 'Agree', 'Neither agree nor disagree', \"Don't know\", 'Neither agree nor disagree', 'Neither agree nor disagree', 'Disagree', 'No answer', 'Agree strongly', 'No answer', 'Agree', 'Refusal', 'Refusal', 'Disagree strongly', 'Disagree']\n",
    "\n",
    "function return:\n",
    "{\n",
    "    'Agree strongly': 'agre_stro',\n",
    "    'Agree': 'agre',\n",
    "    'Neither agree nor disagree': 'neit_agre_nor_disa',\n",
    "    'Disagree': 'disa',\n",
    "    'Disagree strongly': 'disa_stro',\n",
    "    'Refusal': 'refu',\n",
    "    \"Don't know\": 'dont_know',\n",
    "    'No answer': 'no_answ'\n",
    "}\n",
    "```"
   ]
  },
  {
   "cell_type": "code",
   "execution_count": null,
   "id": "4c690ce2-483f-47a8-b167-09b0bd5a5c80",
   "metadata": {},
   "outputs": [],
   "source": [
    "# пример работы функции translit\n",
    "\n",
    "from transliterate import translit\n",
    "\n",
    "print(translit('Полностью не согласен', 'ru', reversed=True))"
   ]
  },
  {
   "cell_type": "code",
   "execution_count": null,
   "id": "575128ed-9284-4f46-9e0c-78e5efc83e07",
   "metadata": {},
   "outputs": [],
   "source": [
    "# наш код здесь"
   ]
  },
  {
   "cell_type": "markdown",
   "id": "d1e8a49c-a986-492d-af9f-229630ff7621",
   "metadata": {},
   "source": [
    "#### Задача 2\n",
    "Предположим, что перед нами стоит задача создать dummy-переменные в PostgreSQL. К сожалению, это не `pandas`, и готовой функции на этот случай не предусмотрено. Однако вы знаете, что можно создавать новые переменные базируясь на значении старых используя конструкцию case...when...then...end:\n",
    "\n",
    "```\n",
    "PostgreSQL:\n",
    "CASE WHEN <condition> THEN <value1> ELSE <value2> END AS <variable_name>\n",
    "В ТОМ СЛУЧАЕ КОГДА <условие> ТОГДА <значение1> ИНАЧЕ <значение2> КОНЕЦ НАЗВАТЬ <имя_переменной>\n",
    "\n",
    "Python:\n",
    "if <condition>:\n",
    "    <value1>\n",
    "else:\n",
    "    <value2>\n",
    "```\n",
    "\n",
    "Если категорий немного, то написать такой код несложно. Однако что делать, если их, к примеру, 100? В этом случае придется писать `CASE WHEN` столько раз, сколько уникальных значений содержит ваша переменная, да еще и придумывать каждый раз соответствующее название.\n",
    "\n",
    "Используйте свои знания Python, чтобы автоматизировать процесс написания SQL-запроса. Напишите соответствующую функцию. Для автоматизированной генерации названия переменной используйте наработки предыдущей задачи. Учтите, что значения переменной не обязательно будут написаны на латинице.\n",
    "\n",
    "На выходе функция должна печатать (в таком же формате, как в примере ниже) законченный блок SQL-запроса.\n",
    "\n",
    "**Пример**\n",
    "```\n",
    "function return:\n",
    "    CASE WHEN gincdif = 'Agree strongly' THEN 1 ELSE 0 END AS agre_stro,\n",
    "    CASE WHEN gincdif = 'Agree' THEN 1 ELSE 0 END AS agre,\n",
    "    CASE WHEN gincdif = 'Neither agree nor disagree' THEN 1 ELSE 0 END AS neit_agre_nor_disa,\n",
    "    CASE WHEN gincdif = 'Disagree' THEN 1 ELSE 0 END AS disa,\n",
    "    CASE WHEN gincdif = 'Disagree strongly' THEN 1 ELSE 0 END AS disa_stro,\n",
    "    CASE WHEN gincdif = 'Refusal' THEN 1 ELSE 0 END AS refu,\n",
    "    CASE WHEN ginsdif = \"Don't know\" THEN 1 ELSE 0 END AS dont_know,\n",
    "    CASE WHEN ginsdif = \"No answer\" THEN 1 ELSE 0 END AS no_answ\n",
    "```"
   ]
  },
  {
   "cell_type": "code",
   "execution_count": null,
   "id": "f2c7b0e3-ae9c-490d-8da2-eca6c413f2bb",
   "metadata": {},
   "outputs": [],
   "source": [
    "# наш код здесь"
   ]
  }
 ],
 "metadata": {
  "kernelspec": {
   "display_name": "Python 3 (ipykernel)",
   "language": "python",
   "name": "python3"
  },
  "language_info": {
   "codemirror_mode": {
    "name": "ipython",
    "version": 3
   },
   "file_extension": ".py",
   "mimetype": "text/x-python",
   "name": "python",
   "nbconvert_exporter": "python",
   "pygments_lexer": "ipython3",
   "version": "3.11.1"
  }
 },
 "nbformat": 4,
 "nbformat_minor": 5
}
