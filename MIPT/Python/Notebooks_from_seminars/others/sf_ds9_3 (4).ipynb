{
 "cells": [
  {
   "cell_type": "markdown",
   "id": "f297fa3e",
   "metadata": {},
   "source": [
    "# Программирование на языке Python\n",
    "## Семинар 9. Pandas\n",
    "\n",
    "Данные взяты [отсюда](https://github.com/datasets/covid-19)."
   ]
  },
  {
   "cell_type": "code",
   "execution_count": 1,
   "id": "104e6513",
   "metadata": {},
   "outputs": [],
   "source": [
    "import pandas as pd\n",
    "import numpy as np"
   ]
  },
  {
   "cell_type": "markdown",
   "id": "a5e49a12",
   "metadata": {},
   "source": [
    "#### Задание 1\n",
    "Импортируйте и проведите первичное изучение данных (соответствующим типу каждой переменной)."
   ]
  },
  {
   "cell_type": "code",
   "execution_count": null,
   "id": "ab7fe1b9-2986-4b74-accc-e7eaf5878146",
   "metadata": {},
   "outputs": [],
   "source": [
    "# ЗАМЕТКИ\n",
    "# 1 переменная Province/State имеет пропущенные значения\n",
    "# 2 Date, возможно, имеет смысл перевести в datetime -> необходимо\n",
    "# 3 Recovered имеет тип float, хотя должно бы int -> это из-за пропущенных значений +++++++\n",
    "# 4 следует стандартизировать названия переменных\n",
    "# 5 связаны ли между собой пропущенные значения в переменных?\n",
    "# 6 в числовых переменных есть экстремально большие значения\n",
    "# 7 некоторые страны встречаются больше раз, чем подавляющее большинство стран"
   ]
  },
  {
   "cell_type": "code",
   "execution_count": 2,
   "id": "38b532a6",
   "metadata": {},
   "outputs": [
    {
     "data": {
      "text/html": [
       "<div>\n",
       "<style scoped>\n",
       "    .dataframe tbody tr th:only-of-type {\n",
       "        vertical-align: middle;\n",
       "    }\n",
       "\n",
       "    .dataframe tbody tr th {\n",
       "        vertical-align: top;\n",
       "    }\n",
       "\n",
       "    .dataframe thead th {\n",
       "        text-align: right;\n",
       "    }\n",
       "</style>\n",
       "<table border=\"1\" class=\"dataframe\">\n",
       "  <thead>\n",
       "    <tr style=\"text-align: right;\">\n",
       "      <th></th>\n",
       "      <th>Date</th>\n",
       "      <th>Country/Region</th>\n",
       "      <th>Province/State</th>\n",
       "      <th>Confirmed</th>\n",
       "      <th>Recovered</th>\n",
       "      <th>Deaths</th>\n",
       "    </tr>\n",
       "  </thead>\n",
       "  <tbody>\n",
       "    <tr>\n",
       "      <th>0</th>\n",
       "      <td>2020-01-22</td>\n",
       "      <td>Afghanistan</td>\n",
       "      <td>NaN</td>\n",
       "      <td>0</td>\n",
       "      <td>0.0</td>\n",
       "      <td>0</td>\n",
       "    </tr>\n",
       "    <tr>\n",
       "      <th>1</th>\n",
       "      <td>2020-01-23</td>\n",
       "      <td>Afghanistan</td>\n",
       "      <td>NaN</td>\n",
       "      <td>0</td>\n",
       "      <td>0.0</td>\n",
       "      <td>0</td>\n",
       "    </tr>\n",
       "    <tr>\n",
       "      <th>2</th>\n",
       "      <td>2020-01-24</td>\n",
       "      <td>Afghanistan</td>\n",
       "      <td>NaN</td>\n",
       "      <td>0</td>\n",
       "      <td>0.0</td>\n",
       "      <td>0</td>\n",
       "    </tr>\n",
       "    <tr>\n",
       "      <th>3</th>\n",
       "      <td>2020-01-25</td>\n",
       "      <td>Afghanistan</td>\n",
       "      <td>NaN</td>\n",
       "      <td>0</td>\n",
       "      <td>0.0</td>\n",
       "      <td>0</td>\n",
       "    </tr>\n",
       "    <tr>\n",
       "      <th>4</th>\n",
       "      <td>2020-01-26</td>\n",
       "      <td>Afghanistan</td>\n",
       "      <td>NaN</td>\n",
       "      <td>0</td>\n",
       "      <td>0.0</td>\n",
       "      <td>0</td>\n",
       "    </tr>\n",
       "  </tbody>\n",
       "</table>\n",
       "</div>"
      ],
      "text/plain": [
       "         Date Country/Region Province/State  Confirmed  Recovered  Deaths\n",
       "0  2020-01-22    Afghanistan            NaN          0        0.0       0\n",
       "1  2020-01-23    Afghanistan            NaN          0        0.0       0\n",
       "2  2020-01-24    Afghanistan            NaN          0        0.0       0\n",
       "3  2020-01-25    Afghanistan            NaN          0        0.0       0\n",
       "4  2020-01-26    Afghanistan            NaN          0        0.0       0"
      ]
     },
     "execution_count": 2,
     "metadata": {},
     "output_type": "execute_result"
    }
   ],
   "source": [
    "# анализ таблицы в целом\n",
    "covid = pd.read_csv('time-series-19-covid-combined.csv')\n",
    "covid.head()"
   ]
  },
  {
   "cell_type": "code",
   "execution_count": 8,
   "id": "860f0698-a450-4340-9fe1-df8916dc1631",
   "metadata": {},
   "outputs": [
    {
     "data": {
      "text/html": [
       "<div>\n",
       "<style scoped>\n",
       "    .dataframe tbody tr th:only-of-type {\n",
       "        vertical-align: middle;\n",
       "    }\n",
       "\n",
       "    .dataframe tbody tr th {\n",
       "        vertical-align: top;\n",
       "    }\n",
       "\n",
       "    .dataframe thead th {\n",
       "        text-align: right;\n",
       "    }\n",
       "</style>\n",
       "<table border=\"1\" class=\"dataframe\">\n",
       "  <thead>\n",
       "    <tr style=\"text-align: right;\">\n",
       "      <th></th>\n",
       "      <th>Date</th>\n",
       "      <th>Country/Region</th>\n",
       "      <th>Province/State</th>\n",
       "      <th>Confirmed</th>\n",
       "      <th>Recovered</th>\n",
       "      <th>Deaths</th>\n",
       "    </tr>\n",
       "  </thead>\n",
       "  <tbody>\n",
       "    <tr>\n",
       "      <th>183923</th>\n",
       "      <td>2020-12-10</td>\n",
       "      <td>Sao Tome and Principe</td>\n",
       "      <td>NaN</td>\n",
       "      <td>1009</td>\n",
       "      <td>946.0</td>\n",
       "      <td>17</td>\n",
       "    </tr>\n",
       "    <tr>\n",
       "      <th>18848</th>\n",
       "      <td>2020-04-11</td>\n",
       "      <td>Belarus</td>\n",
       "      <td>NaN</td>\n",
       "      <td>2226</td>\n",
       "      <td>172.0</td>\n",
       "      <td>23</td>\n",
       "    </tr>\n",
       "    <tr>\n",
       "      <th>148441</th>\n",
       "      <td>2022-02-05</td>\n",
       "      <td>Marshall Islands</td>\n",
       "      <td>NaN</td>\n",
       "      <td>7</td>\n",
       "      <td>0.0</td>\n",
       "      <td>0</td>\n",
       "    </tr>\n",
       "    <tr>\n",
       "      <th>152636</th>\n",
       "      <td>2020-03-06</td>\n",
       "      <td>Monaco</td>\n",
       "      <td>NaN</td>\n",
       "      <td>1</td>\n",
       "      <td>0.0</td>\n",
       "      <td>0</td>\n",
       "    </tr>\n",
       "    <tr>\n",
       "      <th>175092</th>\n",
       "      <td>2021-05-04</td>\n",
       "      <td>Poland</td>\n",
       "      <td>NaN</td>\n",
       "      <td>2808052</td>\n",
       "      <td>2536931.0</td>\n",
       "      <td>68133</td>\n",
       "    </tr>\n",
       "  </tbody>\n",
       "</table>\n",
       "</div>"
      ],
      "text/plain": [
       "              Date         Country/Region Province/State  Confirmed  \\\n",
       "183923  2020-12-10  Sao Tome and Principe            NaN       1009   \n",
       "18848   2020-04-11                Belarus            NaN       2226   \n",
       "148441  2022-02-05       Marshall Islands            NaN          7   \n",
       "152636  2020-03-06                 Monaco            NaN          1   \n",
       "175092  2021-05-04                 Poland            NaN    2808052   \n",
       "\n",
       "        Recovered  Deaths  \n",
       "183923      946.0      17  \n",
       "18848       172.0      23  \n",
       "148441        0.0       0  \n",
       "152636        0.0       0  \n",
       "175092  2536931.0   68133  "
      ]
     },
     "execution_count": 8,
     "metadata": {},
     "output_type": "execute_result"
    }
   ],
   "source": [
    "covid.sample(5)"
   ]
  },
  {
   "cell_type": "code",
   "execution_count": 10,
   "id": "c7b7400f-c3de-4d11-be5d-d0380ec6922a",
   "metadata": {},
   "outputs": [
    {
     "data": {
      "text/plain": [
       "array([ 1.,  2.,  3., nan])"
      ]
     },
     "execution_count": 10,
     "metadata": {},
     "output_type": "execute_result"
    }
   ],
   "source": [
    "np.array([1, 2, 3, np.nan])"
   ]
  },
  {
   "cell_type": "code",
   "execution_count": 9,
   "id": "8e3baa42-d722-493b-b9ab-600e703a302c",
   "metadata": {},
   "outputs": [
    {
     "name": "stdout",
     "output_type": "stream",
     "text": [
      "<class 'pandas.core.frame.DataFrame'>\n",
      "RangeIndex: 231744 entries, 0 to 231743\n",
      "Data columns (total 6 columns):\n",
      " #   Column          Non-Null Count   Dtype  \n",
      "---  ------          --------------   -----  \n",
      " 0   Date            231744 non-null  object \n",
      " 1   Country/Region  231744 non-null  object \n",
      " 2   Province/State  72624 non-null   object \n",
      " 3   Confirmed       231744 non-null  int64  \n",
      " 4   Recovered       218688 non-null  float64\n",
      " 5   Deaths          231744 non-null  int64  \n",
      "dtypes: float64(1), int64(2), object(3)\n",
      "memory usage: 10.6+ MB\n"
     ]
    }
   ],
   "source": [
    "covid.info()"
   ]
  },
  {
   "cell_type": "code",
   "execution_count": 3,
   "id": "853a0e15-e912-4774-98a8-9eec673c9c0b",
   "metadata": {},
   "outputs": [],
   "source": [
    "# пункт 4\n",
    "covid_renamed = covid.rename(columns=lambda name: name.lower().replace('/', '_'))"
   ]
  },
  {
   "cell_type": "code",
   "execution_count": 4,
   "id": "291a60ca-00c9-4e24-99eb-c016c584e23c",
   "metadata": {},
   "outputs": [
    {
     "data": {
      "text/html": [
       "<div>\n",
       "<style scoped>\n",
       "    .dataframe tbody tr th:only-of-type {\n",
       "        vertical-align: middle;\n",
       "    }\n",
       "\n",
       "    .dataframe tbody tr th {\n",
       "        vertical-align: top;\n",
       "    }\n",
       "\n",
       "    .dataframe thead th {\n",
       "        text-align: right;\n",
       "    }\n",
       "</style>\n",
       "<table border=\"1\" class=\"dataframe\">\n",
       "  <thead>\n",
       "    <tr style=\"text-align: right;\">\n",
       "      <th></th>\n",
       "      <th>confirmed</th>\n",
       "      <th>recovered</th>\n",
       "      <th>deaths</th>\n",
       "    </tr>\n",
       "  </thead>\n",
       "  <tbody>\n",
       "    <tr>\n",
       "      <th>count</th>\n",
       "      <td>231744.00</td>\n",
       "      <td>218688.00</td>\n",
       "      <td>231744.00</td>\n",
       "    </tr>\n",
       "    <tr>\n",
       "      <th>mean</th>\n",
       "      <td>513236.17</td>\n",
       "      <td>106211.62</td>\n",
       "      <td>9760.17</td>\n",
       "    </tr>\n",
       "    <tr>\n",
       "      <th>std</th>\n",
       "      <td>3002239.15</td>\n",
       "      <td>839741.31</td>\n",
       "      <td>49749.87</td>\n",
       "    </tr>\n",
       "    <tr>\n",
       "      <th>min</th>\n",
       "      <td>0.00</td>\n",
       "      <td>0.00</td>\n",
       "      <td>0.00</td>\n",
       "    </tr>\n",
       "    <tr>\n",
       "      <th>25%</th>\n",
       "      <td>259.00</td>\n",
       "      <td>0.00</td>\n",
       "      <td>2.00</td>\n",
       "    </tr>\n",
       "    <tr>\n",
       "      <th>50%</th>\n",
       "      <td>5725.00</td>\n",
       "      <td>55.00</td>\n",
       "      <td>73.00</td>\n",
       "    </tr>\n",
       "    <tr>\n",
       "      <th>75%</th>\n",
       "      <td>109564.50</td>\n",
       "      <td>5002.00</td>\n",
       "      <td>1777.00</td>\n",
       "    </tr>\n",
       "    <tr>\n",
       "      <th>max</th>\n",
       "      <td>80625120.00</td>\n",
       "      <td>30974748.00</td>\n",
       "      <td>988609.00</td>\n",
       "    </tr>\n",
       "  </tbody>\n",
       "</table>\n",
       "</div>"
      ],
      "text/plain": [
       "         confirmed    recovered     deaths\n",
       "count    231744.00    218688.00  231744.00\n",
       "mean     513236.17    106211.62    9760.17\n",
       "std     3002239.15    839741.31   49749.87\n",
       "min           0.00         0.00       0.00\n",
       "25%         259.00         0.00       2.00\n",
       "50%        5725.00        55.00      73.00\n",
       "75%      109564.50      5002.00    1777.00\n",
       "max    80625120.00  30974748.00  988609.00"
      ]
     },
     "execution_count": 4,
     "metadata": {},
     "output_type": "execute_result"
    }
   ],
   "source": [
    "# рассмотрим переменные\n",
    "# вначале числовые\n",
    "numeric_cols = ['confirmed', 'recovered', 'deaths']\n",
    "covid_renamed[numeric_cols].describe().round(2)"
   ]
  },
  {
   "cell_type": "code",
   "execution_count": 5,
   "id": "44bc1106-d0cf-412e-854d-98b1d308973b",
   "metadata": {},
   "outputs": [
    {
     "data": {
      "text/plain": [
       "country_region\n",
       "China             27744\n",
       "Canada            13056\n",
       "United Kingdom    11424\n",
       "France             9792\n",
       "Australia          6528\n",
       "                  ...  \n",
       "Guinea              816\n",
       "Guinea-Bissau       816\n",
       "Guyana              816\n",
       "Haiti               816\n",
       "Zimbabwe            816\n",
       "Name: count, Length: 198, dtype: int64"
      ]
     },
     "execution_count": 5,
     "metadata": {},
     "output_type": "execute_result"
    }
   ],
   "source": [
    "# теперь категориальные\n",
    "vc_countries = covid_renamed['country_region'].value_counts()\n",
    "vc_countries"
   ]
  },
  {
   "cell_type": "code",
   "execution_count": 22,
   "id": "3b60ae55-a6c5-4677-b054-3a2a45aff4d4",
   "metadata": {},
   "outputs": [
    {
     "data": {
      "text/plain": [
       "0         Afghanistan\n",
       "1         Afghanistan\n",
       "2         Afghanistan\n",
       "3         Afghanistan\n",
       "4         Afghanistan\n",
       "             ...     \n",
       "231739       Zimbabwe\n",
       "231740       Zimbabwe\n",
       "231741       Zimbabwe\n",
       "231742       Zimbabwe\n",
       "231743       Zimbabwe\n",
       "Name: country_region, Length: 231744, dtype: object"
      ]
     },
     "execution_count": 22,
     "metadata": {},
     "output_type": "execute_result"
    }
   ],
   "source": [
    "covid_renamed['country_region']"
   ]
  },
  {
   "cell_type": "code",
   "execution_count": 21,
   "id": "8367b64a-6120-4a72-bca0-9efeac8212a1",
   "metadata": {},
   "outputs": [
    {
     "data": {
      "text/plain": [
       "count\n",
       "816      190\n",
       "27744      1\n",
       "13056      1\n",
       "11424      1\n",
       "9792       1\n",
       "6528       1\n",
       "4080       1\n",
       "2448       1\n",
       "1632       1\n",
       "Name: count, dtype: int64"
      ]
     },
     "execution_count": 21,
     "metadata": {},
     "output_type": "execute_result"
    }
   ],
   "source": [
    "vc_countries.value_counts()"
   ]
  },
  {
   "cell_type": "markdown",
   "id": "21c1d4ab",
   "metadata": {},
   "source": [
    "#### Задание 2\n",
    "- переименуйте переменные, приведя их к более \"стандартному\" и удобному виду;\n",
    "- проверьте данные на корректность: одинаково ли представлена история для всех стран? Есть ли пропущенные значения? Сколько их? По какому принципу они пропущены? Если ответ на эти вопросы вскроет какие-либо несоответствия в данных, предложите причины и варианты решения несоответствий;\n",
    "- для всех ли стран представлены одни и те же даты? Отсортируйте датасет по стране и дате, чтобы последовательность была строго упорядочена во времени."
   ]
  },
  {
   "cell_type": "code",
   "execution_count": null,
   "id": "00d93e1b-22dc-482c-b2c9-3edfc8ee80f3",
   "metadata": {},
   "outputs": [],
   "source": [
    "# ЗАМЕТКИ\n",
    "# 1 переменная Province/State имеет пропущенные значения +++++++\n",
    "# 2 Date, возможно, имеет смысл перевести в datetime -> необходимо +++++++\n",
    "# 3 Recovered имеет тип float, хотя должно бы int -> это из-за пропущенных значений +++++++\n",
    "# 4 следует стандартизировать названия переменных +++++++\n",
    "# 5 связаны ли между собой пропущенные значения в переменных? +++++++\n",
    "# 6 в числовых переменных есть экстремально большие значения\n",
    "# 7 некоторые страны встречаются больше раз, чем подавляющее большинство стран -> для некоторых стран есть данные по регионам +++++++\n",
    "\n",
    "# 8 необходимо агрегировать значения числовых переменных по странам из пункта 7"
   ]
  },
  {
   "cell_type": "code",
   "execution_count": 6,
   "id": "0ea63812-6bfd-4871-a2c9-adce9834b977",
   "metadata": {},
   "outputs": [],
   "source": [
    "# пункт 2\n",
    "covid_renamed['date_dt'] = pd.to_datetime(covid_renamed['date'], format='%Y-%m-%d')"
   ]
  },
  {
   "cell_type": "code",
   "execution_count": 24,
   "id": "b850bf37-f75a-403d-b0ae-a851d27c7b40",
   "metadata": {},
   "outputs": [
    {
     "data": {
      "text/plain": [
       "0        2020-01-22\n",
       "1        2020-01-23\n",
       "2        2020-01-24\n",
       "3        2020-01-25\n",
       "4        2020-01-26\n",
       "            ...    \n",
       "231739   2022-04-12\n",
       "231740   2022-04-13\n",
       "231741   2022-04-14\n",
       "231742   2022-04-15\n",
       "231743   2022-04-16\n",
       "Name: date_dt, Length: 231744, dtype: datetime64[ns]"
      ]
     },
     "execution_count": 24,
     "metadata": {},
     "output_type": "execute_result"
    }
   ],
   "source": [
    "covid_renamed['date_dt']"
   ]
  },
  {
   "cell_type": "code",
   "execution_count": 27,
   "id": "3b645f58-2692-4f89-a6c5-67911c876d40",
   "metadata": {},
   "outputs": [
    {
     "data": {
      "text/html": [
       "<div>\n",
       "<style scoped>\n",
       "    .dataframe tbody tr th:only-of-type {\n",
       "        vertical-align: middle;\n",
       "    }\n",
       "\n",
       "    .dataframe tbody tr th {\n",
       "        vertical-align: top;\n",
       "    }\n",
       "\n",
       "    .dataframe thead th {\n",
       "        text-align: right;\n",
       "    }\n",
       "</style>\n",
       "<table border=\"1\" class=\"dataframe\">\n",
       "  <thead>\n",
       "    <tr style=\"text-align: right;\">\n",
       "      <th></th>\n",
       "      <th>date</th>\n",
       "      <th>country_region</th>\n",
       "      <th>province_state</th>\n",
       "      <th>confirmed</th>\n",
       "      <th>recovered</th>\n",
       "      <th>deaths</th>\n",
       "      <th>date_dt</th>\n",
       "    </tr>\n",
       "  </thead>\n",
       "  <tbody>\n",
       "    <tr>\n",
       "      <th>7344</th>\n",
       "      <td>2020-01-22</td>\n",
       "      <td>Australia</td>\n",
       "      <td>Australian Capital Territory</td>\n",
       "      <td>0</td>\n",
       "      <td>0.0</td>\n",
       "      <td>0</td>\n",
       "      <td>2020-01-22</td>\n",
       "    </tr>\n",
       "    <tr>\n",
       "      <th>7345</th>\n",
       "      <td>2020-01-23</td>\n",
       "      <td>Australia</td>\n",
       "      <td>Australian Capital Territory</td>\n",
       "      <td>0</td>\n",
       "      <td>0.0</td>\n",
       "      <td>0</td>\n",
       "      <td>2020-01-23</td>\n",
       "    </tr>\n",
       "    <tr>\n",
       "      <th>7346</th>\n",
       "      <td>2020-01-24</td>\n",
       "      <td>Australia</td>\n",
       "      <td>Australian Capital Territory</td>\n",
       "      <td>0</td>\n",
       "      <td>0.0</td>\n",
       "      <td>0</td>\n",
       "      <td>2020-01-24</td>\n",
       "    </tr>\n",
       "    <tr>\n",
       "      <th>7347</th>\n",
       "      <td>2020-01-25</td>\n",
       "      <td>Australia</td>\n",
       "      <td>Australian Capital Territory</td>\n",
       "      <td>0</td>\n",
       "      <td>0.0</td>\n",
       "      <td>0</td>\n",
       "      <td>2020-01-25</td>\n",
       "    </tr>\n",
       "    <tr>\n",
       "      <th>7348</th>\n",
       "      <td>2020-01-26</td>\n",
       "      <td>Australia</td>\n",
       "      <td>Australian Capital Territory</td>\n",
       "      <td>0</td>\n",
       "      <td>0.0</td>\n",
       "      <td>0</td>\n",
       "      <td>2020-01-26</td>\n",
       "    </tr>\n",
       "    <tr>\n",
       "      <th>...</th>\n",
       "      <td>...</td>\n",
       "      <td>...</td>\n",
       "      <td>...</td>\n",
       "      <td>...</td>\n",
       "      <td>...</td>\n",
       "      <td>...</td>\n",
       "      <td>...</td>\n",
       "    </tr>\n",
       "    <tr>\n",
       "      <th>222763</th>\n",
       "      <td>2022-04-12</td>\n",
       "      <td>United Kingdom</td>\n",
       "      <td>Turks and Caicos Islands</td>\n",
       "      <td>5923</td>\n",
       "      <td>0.0</td>\n",
       "      <td>36</td>\n",
       "      <td>2022-04-12</td>\n",
       "    </tr>\n",
       "    <tr>\n",
       "      <th>222764</th>\n",
       "      <td>2022-04-13</td>\n",
       "      <td>United Kingdom</td>\n",
       "      <td>Turks and Caicos Islands</td>\n",
       "      <td>5936</td>\n",
       "      <td>0.0</td>\n",
       "      <td>36</td>\n",
       "      <td>2022-04-13</td>\n",
       "    </tr>\n",
       "    <tr>\n",
       "      <th>222765</th>\n",
       "      <td>2022-04-14</td>\n",
       "      <td>United Kingdom</td>\n",
       "      <td>Turks and Caicos Islands</td>\n",
       "      <td>5936</td>\n",
       "      <td>0.0</td>\n",
       "      <td>36</td>\n",
       "      <td>2022-04-14</td>\n",
       "    </tr>\n",
       "    <tr>\n",
       "      <th>222766</th>\n",
       "      <td>2022-04-15</td>\n",
       "      <td>United Kingdom</td>\n",
       "      <td>Turks and Caicos Islands</td>\n",
       "      <td>5936</td>\n",
       "      <td>0.0</td>\n",
       "      <td>36</td>\n",
       "      <td>2022-04-15</td>\n",
       "    </tr>\n",
       "    <tr>\n",
       "      <th>222767</th>\n",
       "      <td>2022-04-16</td>\n",
       "      <td>United Kingdom</td>\n",
       "      <td>Turks and Caicos Islands</td>\n",
       "      <td>5936</td>\n",
       "      <td>0.0</td>\n",
       "      <td>36</td>\n",
       "      <td>2022-04-16</td>\n",
       "    </tr>\n",
       "  </tbody>\n",
       "</table>\n",
       "<p>72624 rows × 7 columns</p>\n",
       "</div>"
      ],
      "text/plain": [
       "              date  country_region                province_state  confirmed  \\\n",
       "7344    2020-01-22       Australia  Australian Capital Territory          0   \n",
       "7345    2020-01-23       Australia  Australian Capital Territory          0   \n",
       "7346    2020-01-24       Australia  Australian Capital Territory          0   \n",
       "7347    2020-01-25       Australia  Australian Capital Territory          0   \n",
       "7348    2020-01-26       Australia  Australian Capital Territory          0   \n",
       "...            ...             ...                           ...        ...   \n",
       "222763  2022-04-12  United Kingdom      Turks and Caicos Islands       5923   \n",
       "222764  2022-04-13  United Kingdom      Turks and Caicos Islands       5936   \n",
       "222765  2022-04-14  United Kingdom      Turks and Caicos Islands       5936   \n",
       "222766  2022-04-15  United Kingdom      Turks and Caicos Islands       5936   \n",
       "222767  2022-04-16  United Kingdom      Turks and Caicos Islands       5936   \n",
       "\n",
       "        recovered  deaths    date_dt  \n",
       "7344          0.0       0 2020-01-22  \n",
       "7345          0.0       0 2020-01-23  \n",
       "7346          0.0       0 2020-01-24  \n",
       "7347          0.0       0 2020-01-25  \n",
       "7348          0.0       0 2020-01-26  \n",
       "...           ...     ...        ...  \n",
       "222763        0.0      36 2022-04-12  \n",
       "222764        0.0      36 2022-04-13  \n",
       "222765        0.0      36 2022-04-14  \n",
       "222766        0.0      36 2022-04-15  \n",
       "222767        0.0      36 2022-04-16  \n",
       "\n",
       "[72624 rows x 7 columns]"
      ]
     },
     "execution_count": 27,
     "metadata": {},
     "output_type": "execute_result"
    }
   ],
   "source": [
    "# пункт 1, 5, 7\n",
    "covid_renamed[covid_renamed['province_state'].notna()]"
   ]
  },
  {
   "cell_type": "code",
   "execution_count": 8,
   "id": "7eb2c739-83c5-434f-8ff6-ba2b38d71b6c",
   "metadata": {},
   "outputs": [],
   "source": [
    "# все страны с непропущенным значением в province_state\n",
    "unusual_countries1 = set(covid_renamed.loc[covid_renamed['province_state'].notna(), 'country_region'].unique())"
   ]
  },
  {
   "cell_type": "code",
   "execution_count": 9,
   "id": "001bdb7a-cc52-4176-9d57-b66e0628f932",
   "metadata": {},
   "outputs": [],
   "source": [
    "# все страны с аномальным количеством строк\n",
    "unusual_countries2 = set(vc_countries.index[vc_countries.values != 816])"
   ]
  },
  {
   "cell_type": "code",
   "execution_count": 37,
   "id": "8a84ff25-a52c-4a0c-bd4f-b8ef8a452c53",
   "metadata": {},
   "outputs": [
    {
     "data": {
      "text/plain": [
       "set()"
      ]
     },
     "execution_count": 37,
     "metadata": {},
     "output_type": "execute_result"
    }
   ],
   "source": [
    "unusual_countries1.symmetric_difference(unusual_countries2)"
   ]
  },
  {
   "cell_type": "code",
   "execution_count": 39,
   "id": "7972b683-0a51-4668-a3d6-00c8b1789d7e",
   "metadata": {},
   "outputs": [
    {
     "data": {
      "text/plain": [
       "False"
      ]
     },
     "execution_count": 39,
     "metadata": {},
     "output_type": "execute_result"
    }
   ],
   "source": [
    "# recovered\n",
    "(covid_renamed['province_state'].isna() & covid_renamed['recovered'].isna()).any()"
   ]
  },
  {
   "cell_type": "code",
   "execution_count": 40,
   "id": "e5d17cb8-c439-492a-9f17-2bd0190616c3",
   "metadata": {},
   "outputs": [
    {
     "data": {
      "text/html": [
       "<div>\n",
       "<style scoped>\n",
       "    .dataframe tbody tr th:only-of-type {\n",
       "        vertical-align: middle;\n",
       "    }\n",
       "\n",
       "    .dataframe tbody tr th {\n",
       "        vertical-align: top;\n",
       "    }\n",
       "\n",
       "    .dataframe thead th {\n",
       "        text-align: right;\n",
       "    }\n",
       "</style>\n",
       "<table border=\"1\" class=\"dataframe\">\n",
       "  <thead>\n",
       "    <tr style=\"text-align: right;\">\n",
       "      <th></th>\n",
       "      <th>date</th>\n",
       "      <th>country_region</th>\n",
       "      <th>province_state</th>\n",
       "      <th>confirmed</th>\n",
       "      <th>recovered</th>\n",
       "      <th>deaths</th>\n",
       "      <th>date_dt</th>\n",
       "    </tr>\n",
       "  </thead>\n",
       "  <tbody>\n",
       "    <tr>\n",
       "      <th>32640</th>\n",
       "      <td>2020-01-22</td>\n",
       "      <td>Canada</td>\n",
       "      <td>Alberta</td>\n",
       "      <td>0</td>\n",
       "      <td>NaN</td>\n",
       "      <td>0</td>\n",
       "      <td>2020-01-22</td>\n",
       "    </tr>\n",
       "    <tr>\n",
       "      <th>32641</th>\n",
       "      <td>2020-01-23</td>\n",
       "      <td>Canada</td>\n",
       "      <td>Alberta</td>\n",
       "      <td>0</td>\n",
       "      <td>NaN</td>\n",
       "      <td>0</td>\n",
       "      <td>2020-01-23</td>\n",
       "    </tr>\n",
       "    <tr>\n",
       "      <th>32642</th>\n",
       "      <td>2020-01-24</td>\n",
       "      <td>Canada</td>\n",
       "      <td>Alberta</td>\n",
       "      <td>0</td>\n",
       "      <td>NaN</td>\n",
       "      <td>0</td>\n",
       "      <td>2020-01-24</td>\n",
       "    </tr>\n",
       "    <tr>\n",
       "      <th>32643</th>\n",
       "      <td>2020-01-25</td>\n",
       "      <td>Canada</td>\n",
       "      <td>Alberta</td>\n",
       "      <td>0</td>\n",
       "      <td>NaN</td>\n",
       "      <td>0</td>\n",
       "      <td>2020-01-25</td>\n",
       "    </tr>\n",
       "    <tr>\n",
       "      <th>32644</th>\n",
       "      <td>2020-01-26</td>\n",
       "      <td>Canada</td>\n",
       "      <td>Alberta</td>\n",
       "      <td>0</td>\n",
       "      <td>NaN</td>\n",
       "      <td>0</td>\n",
       "      <td>2020-01-26</td>\n",
       "    </tr>\n",
       "    <tr>\n",
       "      <th>...</th>\n",
       "      <td>...</td>\n",
       "      <td>...</td>\n",
       "      <td>...</td>\n",
       "      <td>...</td>\n",
       "      <td>...</td>\n",
       "      <td>...</td>\n",
       "      <td>...</td>\n",
       "    </tr>\n",
       "    <tr>\n",
       "      <th>45691</th>\n",
       "      <td>2022-04-12</td>\n",
       "      <td>Canada</td>\n",
       "      <td>Yukon</td>\n",
       "      <td>3940</td>\n",
       "      <td>NaN</td>\n",
       "      <td>24</td>\n",
       "      <td>2022-04-12</td>\n",
       "    </tr>\n",
       "    <tr>\n",
       "      <th>45692</th>\n",
       "      <td>2022-04-13</td>\n",
       "      <td>Canada</td>\n",
       "      <td>Yukon</td>\n",
       "      <td>4000</td>\n",
       "      <td>NaN</td>\n",
       "      <td>24</td>\n",
       "      <td>2022-04-13</td>\n",
       "    </tr>\n",
       "    <tr>\n",
       "      <th>45693</th>\n",
       "      <td>2022-04-14</td>\n",
       "      <td>Canada</td>\n",
       "      <td>Yukon</td>\n",
       "      <td>4015</td>\n",
       "      <td>NaN</td>\n",
       "      <td>24</td>\n",
       "      <td>2022-04-14</td>\n",
       "    </tr>\n",
       "    <tr>\n",
       "      <th>45694</th>\n",
       "      <td>2022-04-15</td>\n",
       "      <td>Canada</td>\n",
       "      <td>Yukon</td>\n",
       "      <td>4015</td>\n",
       "      <td>NaN</td>\n",
       "      <td>24</td>\n",
       "      <td>2022-04-15</td>\n",
       "    </tr>\n",
       "    <tr>\n",
       "      <th>45695</th>\n",
       "      <td>2022-04-16</td>\n",
       "      <td>Canada</td>\n",
       "      <td>Yukon</td>\n",
       "      <td>4015</td>\n",
       "      <td>NaN</td>\n",
       "      <td>24</td>\n",
       "      <td>2022-04-16</td>\n",
       "    </tr>\n",
       "  </tbody>\n",
       "</table>\n",
       "<p>13056 rows × 7 columns</p>\n",
       "</div>"
      ],
      "text/plain": [
       "             date country_region province_state  confirmed  recovered  deaths  \\\n",
       "32640  2020-01-22         Canada        Alberta          0        NaN       0   \n",
       "32641  2020-01-23         Canada        Alberta          0        NaN       0   \n",
       "32642  2020-01-24         Canada        Alberta          0        NaN       0   \n",
       "32643  2020-01-25         Canada        Alberta          0        NaN       0   \n",
       "32644  2020-01-26         Canada        Alberta          0        NaN       0   \n",
       "...           ...            ...            ...        ...        ...     ...   \n",
       "45691  2022-04-12         Canada          Yukon       3940        NaN      24   \n",
       "45692  2022-04-13         Canada          Yukon       4000        NaN      24   \n",
       "45693  2022-04-14         Canada          Yukon       4015        NaN      24   \n",
       "45694  2022-04-15         Canada          Yukon       4015        NaN      24   \n",
       "45695  2022-04-16         Canada          Yukon       4015        NaN      24   \n",
       "\n",
       "         date_dt  \n",
       "32640 2020-01-22  \n",
       "32641 2020-01-23  \n",
       "32642 2020-01-24  \n",
       "32643 2020-01-25  \n",
       "32644 2020-01-26  \n",
       "...          ...  \n",
       "45691 2022-04-12  \n",
       "45692 2022-04-13  \n",
       "45693 2022-04-14  \n",
       "45694 2022-04-15  \n",
       "45695 2022-04-16  \n",
       "\n",
       "[13056 rows x 7 columns]"
      ]
     },
     "execution_count": 40,
     "metadata": {},
     "output_type": "execute_result"
    }
   ],
   "source": [
    "covid_renamed[covid_renamed['recovered'].isna()]"
   ]
  },
  {
   "cell_type": "code",
   "execution_count": 42,
   "id": "547c1342-d4fb-451f-9930-796cdf143b23",
   "metadata": {},
   "outputs": [
    {
     "data": {
      "text/plain": [
       "array(['Canada'], dtype=object)"
      ]
     },
     "execution_count": 42,
     "metadata": {},
     "output_type": "execute_result"
    }
   ],
   "source": [
    "covid_renamed.loc[covid_renamed['recovered'].isna(), 'country_region'].unique()"
   ]
  },
  {
   "cell_type": "markdown",
   "id": "57d4664e",
   "metadata": {},
   "source": [
    "#### Задание 3\n",
    "\n",
    "Перед тем, как выполнять данное задание, подумайте, не лучше ли будет каким-либо образом поменять существующие показатели пандемии.\n",
    "\n",
    "- как меняется соотношения типа обнаруженные / умершие и т. д. во времени (в среднемировом разрезе)?\n",
    "- если смотреть в среднемировом разрезе, как можно оценить, на какой день болезни шанс заразить кого-нибудь больше всего? Попробуйте проверить, можно ли говорить о какой-либо статистической значимости в контексте вашего ответа;\n",
    "- если смотреть в среднемировом разрезе, как можно оценить, на какой день болезни шанс умереть больше всего? Попробуйте проверить, можно ли говорить о какой-либо статистической значимости в контексте вашего ответа."
   ]
  },
  {
   "cell_type": "code",
   "execution_count": 43,
   "id": "65740fc9-457d-41e0-9418-cc9258eb3669",
   "metadata": {},
   "outputs": [
    {
     "data": {
      "text/html": [
       "<div>\n",
       "<style scoped>\n",
       "    .dataframe tbody tr th:only-of-type {\n",
       "        vertical-align: middle;\n",
       "    }\n",
       "\n",
       "    .dataframe tbody tr th {\n",
       "        vertical-align: top;\n",
       "    }\n",
       "\n",
       "    .dataframe thead th {\n",
       "        text-align: right;\n",
       "    }\n",
       "</style>\n",
       "<table border=\"1\" class=\"dataframe\">\n",
       "  <thead>\n",
       "    <tr style=\"text-align: right;\">\n",
       "      <th></th>\n",
       "      <th>date</th>\n",
       "      <th>country_region</th>\n",
       "      <th>province_state</th>\n",
       "      <th>confirmed</th>\n",
       "      <th>recovered</th>\n",
       "      <th>deaths</th>\n",
       "      <th>date_dt</th>\n",
       "    </tr>\n",
       "  </thead>\n",
       "  <tbody>\n",
       "    <tr>\n",
       "      <th>0</th>\n",
       "      <td>2020-01-22</td>\n",
       "      <td>Afghanistan</td>\n",
       "      <td>NaN</td>\n",
       "      <td>0</td>\n",
       "      <td>0.0</td>\n",
       "      <td>0</td>\n",
       "      <td>2020-01-22</td>\n",
       "    </tr>\n",
       "    <tr>\n",
       "      <th>1</th>\n",
       "      <td>2020-01-23</td>\n",
       "      <td>Afghanistan</td>\n",
       "      <td>NaN</td>\n",
       "      <td>0</td>\n",
       "      <td>0.0</td>\n",
       "      <td>0</td>\n",
       "      <td>2020-01-23</td>\n",
       "    </tr>\n",
       "    <tr>\n",
       "      <th>2</th>\n",
       "      <td>2020-01-24</td>\n",
       "      <td>Afghanistan</td>\n",
       "      <td>NaN</td>\n",
       "      <td>0</td>\n",
       "      <td>0.0</td>\n",
       "      <td>0</td>\n",
       "      <td>2020-01-24</td>\n",
       "    </tr>\n",
       "    <tr>\n",
       "      <th>3</th>\n",
       "      <td>2020-01-25</td>\n",
       "      <td>Afghanistan</td>\n",
       "      <td>NaN</td>\n",
       "      <td>0</td>\n",
       "      <td>0.0</td>\n",
       "      <td>0</td>\n",
       "      <td>2020-01-25</td>\n",
       "    </tr>\n",
       "    <tr>\n",
       "      <th>4</th>\n",
       "      <td>2020-01-26</td>\n",
       "      <td>Afghanistan</td>\n",
       "      <td>NaN</td>\n",
       "      <td>0</td>\n",
       "      <td>0.0</td>\n",
       "      <td>0</td>\n",
       "      <td>2020-01-26</td>\n",
       "    </tr>\n",
       "  </tbody>\n",
       "</table>\n",
       "</div>"
      ],
      "text/plain": [
       "         date country_region province_state  confirmed  recovered  deaths  \\\n",
       "0  2020-01-22    Afghanistan            NaN          0        0.0       0   \n",
       "1  2020-01-23    Afghanistan            NaN          0        0.0       0   \n",
       "2  2020-01-24    Afghanistan            NaN          0        0.0       0   \n",
       "3  2020-01-25    Afghanistan            NaN          0        0.0       0   \n",
       "4  2020-01-26    Afghanistan            NaN          0        0.0       0   \n",
       "\n",
       "     date_dt  \n",
       "0 2020-01-22  \n",
       "1 2020-01-23  \n",
       "2 2020-01-24  \n",
       "3 2020-01-25  \n",
       "4 2020-01-26  "
      ]
     },
     "execution_count": 43,
     "metadata": {},
     "output_type": "execute_result"
    }
   ],
   "source": [
    "covid_renamed.head()"
   ]
  },
  {
   "cell_type": "code",
   "execution_count": null,
   "id": "851d5d39-6c69-4918-8f43-95b305d09150",
   "metadata": {},
   "outputs": [],
   "source": [
    "# ЗАМЕТКИ\n",
    "# 6 в числовых переменных есть экстремально большие значения\n",
    "# 8 необходимо агрегировать значения числовых переменных по странам из пункта 7 ++++++"
   ]
  },
  {
   "cell_type": "code",
   "execution_count": null,
   "id": "2bf91308-3c45-4bb6-ac63-35fa836426ef",
   "metadata": {},
   "outputs": [],
   "source": [
    "# пункт 8\n",
    "# уникальные ключи: [date, country_region, province_state] -> [date, country_region]\n",
    "# group по [date, country_region], aggregate using SUM"
   ]
  },
  {
   "cell_type": "code",
   "execution_count": 65,
   "id": "46ae4122-7578-4933-8dba-0de37c9cb248",
   "metadata": {},
   "outputs": [],
   "source": [
    "grouped = covid_renamed[covid_renamed['country_region'].isin(unusual_countries1)].groupby(['country_region', 'date'], as_index=False)"
   ]
  },
  {
   "cell_type": "code",
   "execution_count": 66,
   "id": "89fa68d6-14f4-4450-9f89-130bd85bcda1",
   "metadata": {},
   "outputs": [],
   "source": [
    "grouped_list = list(grouped)"
   ]
  },
  {
   "cell_type": "code",
   "execution_count": 67,
   "id": "dd40f3d6-ec6e-43f1-9508-23f72e863fa5",
   "metadata": {},
   "outputs": [
    {
     "data": {
      "text/plain": [
       "(('Australia', '2020-01-22'),\n",
       "              date country_region                province_state  confirmed  \\\n",
       " 7344   2020-01-22      Australia  Australian Capital Territory          0   \n",
       " 8160   2020-01-22      Australia               New South Wales          0   \n",
       " 8976   2020-01-22      Australia            Northern Territory          0   \n",
       " 9792   2020-01-22      Australia                    Queensland          0   \n",
       " 10608  2020-01-22      Australia               South Australia          0   \n",
       " 11424  2020-01-22      Australia                      Tasmania          0   \n",
       " 12240  2020-01-22      Australia                      Victoria          0   \n",
       " 13056  2020-01-22      Australia             Western Australia          0   \n",
       " \n",
       "        recovered  deaths    date_dt  \n",
       " 7344         0.0       0 2020-01-22  \n",
       " 8160         0.0       0 2020-01-22  \n",
       " 8976         0.0       0 2020-01-22  \n",
       " 9792         0.0       0 2020-01-22  \n",
       " 10608        0.0       0 2020-01-22  \n",
       " 11424        0.0       0 2020-01-22  \n",
       " 12240        0.0       0 2020-01-22  \n",
       " 13056        0.0       0 2020-01-22  )"
      ]
     },
     "execution_count": 67,
     "metadata": {},
     "output_type": "execute_result"
    }
   ],
   "source": [
    "grouped_list[0]"
   ]
  },
  {
   "cell_type": "code",
   "execution_count": 59,
   "id": "906e8181-7dd6-4bb6-82bc-ef0eb14e616f",
   "metadata": {},
   "outputs": [
    {
     "data": {
      "text/plain": [
       "('Afghanistan',)"
      ]
     },
     "execution_count": 59,
     "metadata": {},
     "output_type": "execute_result"
    }
   ],
   "source": [
    "grouped_list[0][0]"
   ]
  },
  {
   "cell_type": "code",
   "execution_count": 60,
   "id": "bb0a5002-3785-4344-9377-41ceb71f0ac3",
   "metadata": {},
   "outputs": [
    {
     "data": {
      "text/html": [
       "<div>\n",
       "<style scoped>\n",
       "    .dataframe tbody tr th:only-of-type {\n",
       "        vertical-align: middle;\n",
       "    }\n",
       "\n",
       "    .dataframe tbody tr th {\n",
       "        vertical-align: top;\n",
       "    }\n",
       "\n",
       "    .dataframe thead th {\n",
       "        text-align: right;\n",
       "    }\n",
       "</style>\n",
       "<table border=\"1\" class=\"dataframe\">\n",
       "  <thead>\n",
       "    <tr style=\"text-align: right;\">\n",
       "      <th></th>\n",
       "      <th>date</th>\n",
       "      <th>country_region</th>\n",
       "      <th>province_state</th>\n",
       "      <th>confirmed</th>\n",
       "      <th>recovered</th>\n",
       "      <th>deaths</th>\n",
       "      <th>date_dt</th>\n",
       "    </tr>\n",
       "  </thead>\n",
       "  <tbody>\n",
       "    <tr>\n",
       "      <th>0</th>\n",
       "      <td>2020-01-22</td>\n",
       "      <td>Afghanistan</td>\n",
       "      <td>NaN</td>\n",
       "      <td>0</td>\n",
       "      <td>0.0</td>\n",
       "      <td>0</td>\n",
       "      <td>2020-01-22</td>\n",
       "    </tr>\n",
       "    <tr>\n",
       "      <th>1</th>\n",
       "      <td>2020-01-23</td>\n",
       "      <td>Afghanistan</td>\n",
       "      <td>NaN</td>\n",
       "      <td>0</td>\n",
       "      <td>0.0</td>\n",
       "      <td>0</td>\n",
       "      <td>2020-01-23</td>\n",
       "    </tr>\n",
       "    <tr>\n",
       "      <th>2</th>\n",
       "      <td>2020-01-24</td>\n",
       "      <td>Afghanistan</td>\n",
       "      <td>NaN</td>\n",
       "      <td>0</td>\n",
       "      <td>0.0</td>\n",
       "      <td>0</td>\n",
       "      <td>2020-01-24</td>\n",
       "    </tr>\n",
       "    <tr>\n",
       "      <th>3</th>\n",
       "      <td>2020-01-25</td>\n",
       "      <td>Afghanistan</td>\n",
       "      <td>NaN</td>\n",
       "      <td>0</td>\n",
       "      <td>0.0</td>\n",
       "      <td>0</td>\n",
       "      <td>2020-01-25</td>\n",
       "    </tr>\n",
       "    <tr>\n",
       "      <th>4</th>\n",
       "      <td>2020-01-26</td>\n",
       "      <td>Afghanistan</td>\n",
       "      <td>NaN</td>\n",
       "      <td>0</td>\n",
       "      <td>0.0</td>\n",
       "      <td>0</td>\n",
       "      <td>2020-01-26</td>\n",
       "    </tr>\n",
       "    <tr>\n",
       "      <th>...</th>\n",
       "      <td>...</td>\n",
       "      <td>...</td>\n",
       "      <td>...</td>\n",
       "      <td>...</td>\n",
       "      <td>...</td>\n",
       "      <td>...</td>\n",
       "      <td>...</td>\n",
       "    </tr>\n",
       "    <tr>\n",
       "      <th>811</th>\n",
       "      <td>2022-04-12</td>\n",
       "      <td>Afghanistan</td>\n",
       "      <td>NaN</td>\n",
       "      <td>178257</td>\n",
       "      <td>0.0</td>\n",
       "      <td>7676</td>\n",
       "      <td>2022-04-12</td>\n",
       "    </tr>\n",
       "    <tr>\n",
       "      <th>812</th>\n",
       "      <td>2022-04-13</td>\n",
       "      <td>Afghanistan</td>\n",
       "      <td>NaN</td>\n",
       "      <td>178295</td>\n",
       "      <td>0.0</td>\n",
       "      <td>7676</td>\n",
       "      <td>2022-04-13</td>\n",
       "    </tr>\n",
       "    <tr>\n",
       "      <th>813</th>\n",
       "      <td>2022-04-14</td>\n",
       "      <td>Afghanistan</td>\n",
       "      <td>NaN</td>\n",
       "      <td>178352</td>\n",
       "      <td>0.0</td>\n",
       "      <td>7676</td>\n",
       "      <td>2022-04-14</td>\n",
       "    </tr>\n",
       "    <tr>\n",
       "      <th>814</th>\n",
       "      <td>2022-04-15</td>\n",
       "      <td>Afghanistan</td>\n",
       "      <td>NaN</td>\n",
       "      <td>178373</td>\n",
       "      <td>0.0</td>\n",
       "      <td>7676</td>\n",
       "      <td>2022-04-15</td>\n",
       "    </tr>\n",
       "    <tr>\n",
       "      <th>815</th>\n",
       "      <td>2022-04-16</td>\n",
       "      <td>Afghanistan</td>\n",
       "      <td>NaN</td>\n",
       "      <td>178387</td>\n",
       "      <td>0.0</td>\n",
       "      <td>7676</td>\n",
       "      <td>2022-04-16</td>\n",
       "    </tr>\n",
       "  </tbody>\n",
       "</table>\n",
       "<p>816 rows × 7 columns</p>\n",
       "</div>"
      ],
      "text/plain": [
       "           date country_region province_state  confirmed  recovered  deaths  \\\n",
       "0    2020-01-22    Afghanistan            NaN          0        0.0       0   \n",
       "1    2020-01-23    Afghanistan            NaN          0        0.0       0   \n",
       "2    2020-01-24    Afghanistan            NaN          0        0.0       0   \n",
       "3    2020-01-25    Afghanistan            NaN          0        0.0       0   \n",
       "4    2020-01-26    Afghanistan            NaN          0        0.0       0   \n",
       "..          ...            ...            ...        ...        ...     ...   \n",
       "811  2022-04-12    Afghanistan            NaN     178257        0.0    7676   \n",
       "812  2022-04-13    Afghanistan            NaN     178295        0.0    7676   \n",
       "813  2022-04-14    Afghanistan            NaN     178352        0.0    7676   \n",
       "814  2022-04-15    Afghanistan            NaN     178373        0.0    7676   \n",
       "815  2022-04-16    Afghanistan            NaN     178387        0.0    7676   \n",
       "\n",
       "       date_dt  \n",
       "0   2020-01-22  \n",
       "1   2020-01-23  \n",
       "2   2020-01-24  \n",
       "3   2020-01-25  \n",
       "4   2020-01-26  \n",
       "..         ...  \n",
       "811 2022-04-12  \n",
       "812 2022-04-13  \n",
       "813 2022-04-14  \n",
       "814 2022-04-15  \n",
       "815 2022-04-16  \n",
       "\n",
       "[816 rows x 7 columns]"
      ]
     },
     "execution_count": 60,
     "metadata": {},
     "output_type": "execute_result"
    }
   ],
   "source": [
    "grouped_list[0][1]"
   ]
  },
  {
   "cell_type": "code",
   "execution_count": 12,
   "id": "7d25b68a-60a8-4003-a0c4-4b76233ce5dc",
   "metadata": {},
   "outputs": [],
   "source": [
    "# %%timeit\n",
    "# вариант 1\n",
    "covid_agg = covid_renamed.groupby(['date', 'date_dt', 'country_region'], as_index=False)[numeric_cols].sum()  # .agg()\n",
    "# covid_agg.head()"
   ]
  },
  {
   "cell_type": "code",
   "execution_count": 10,
   "id": "1c7fdb08-1a2d-4b0d-8046-c41810df7c08",
   "metadata": {},
   "outputs": [],
   "source": [
    "# %%timeit\n",
    "# вариант 2\n",
    "covid_to_agg = covid_renamed[covid_renamed['country_region'].isin(unusual_countries1)]\n",
    "covid_notto_agg = covid_renamed[~covid_renamed['country_region'].isin(unusual_countries1)]\n",
    "\n",
    "covid_to_agg_agg = covid_to_agg.groupby(['date', 'date_dt', 'country_region'], as_index=False)[numeric_cols].sum()\n",
    "\n",
    "covid_agg2 = pd.concat([covid_to_agg_agg, covid_notto_agg.drop(columns='province_state')], ignore_index=True)"
   ]
  },
  {
   "cell_type": "code",
   "execution_count": 11,
   "id": "99de9c3d-c5e4-4dce-9171-5b45ed66f5c5",
   "metadata": {},
   "outputs": [
    {
     "data": {
      "text/html": [
       "<div>\n",
       "<style scoped>\n",
       "    .dataframe tbody tr th:only-of-type {\n",
       "        vertical-align: middle;\n",
       "    }\n",
       "\n",
       "    .dataframe tbody tr th {\n",
       "        vertical-align: top;\n",
       "    }\n",
       "\n",
       "    .dataframe thead th {\n",
       "        text-align: right;\n",
       "    }\n",
       "</style>\n",
       "<table border=\"1\" class=\"dataframe\">\n",
       "  <thead>\n",
       "    <tr style=\"text-align: right;\">\n",
       "      <th></th>\n",
       "      <th>date</th>\n",
       "      <th>date_dt</th>\n",
       "      <th>country_region</th>\n",
       "      <th>confirmed</th>\n",
       "      <th>recovered</th>\n",
       "      <th>deaths</th>\n",
       "    </tr>\n",
       "  </thead>\n",
       "  <tbody>\n",
       "    <tr>\n",
       "      <th>0</th>\n",
       "      <td>2020-01-22</td>\n",
       "      <td>2020-01-22</td>\n",
       "      <td>Australia</td>\n",
       "      <td>0</td>\n",
       "      <td>0.0</td>\n",
       "      <td>0</td>\n",
       "    </tr>\n",
       "    <tr>\n",
       "      <th>1</th>\n",
       "      <td>2020-01-22</td>\n",
       "      <td>2020-01-22</td>\n",
       "      <td>Canada</td>\n",
       "      <td>0</td>\n",
       "      <td>0.0</td>\n",
       "      <td>0</td>\n",
       "    </tr>\n",
       "    <tr>\n",
       "      <th>2</th>\n",
       "      <td>2020-01-22</td>\n",
       "      <td>2020-01-22</td>\n",
       "      <td>China</td>\n",
       "      <td>548</td>\n",
       "      <td>28.0</td>\n",
       "      <td>17</td>\n",
       "    </tr>\n",
       "    <tr>\n",
       "      <th>3</th>\n",
       "      <td>2020-01-22</td>\n",
       "      <td>2020-01-22</td>\n",
       "      <td>Denmark</td>\n",
       "      <td>0</td>\n",
       "      <td>0.0</td>\n",
       "      <td>0</td>\n",
       "    </tr>\n",
       "    <tr>\n",
       "      <th>4</th>\n",
       "      <td>2020-01-22</td>\n",
       "      <td>2020-01-22</td>\n",
       "      <td>France</td>\n",
       "      <td>0</td>\n",
       "      <td>0.0</td>\n",
       "      <td>0</td>\n",
       "    </tr>\n",
       "    <tr>\n",
       "      <th>...</th>\n",
       "      <td>...</td>\n",
       "      <td>...</td>\n",
       "      <td>...</td>\n",
       "      <td>...</td>\n",
       "      <td>...</td>\n",
       "      <td>...</td>\n",
       "    </tr>\n",
       "    <tr>\n",
       "      <th>161563</th>\n",
       "      <td>2022-04-12</td>\n",
       "      <td>2022-04-12</td>\n",
       "      <td>Zimbabwe</td>\n",
       "      <td>247094</td>\n",
       "      <td>0.0</td>\n",
       "      <td>5460</td>\n",
       "    </tr>\n",
       "    <tr>\n",
       "      <th>161564</th>\n",
       "      <td>2022-04-13</td>\n",
       "      <td>2022-04-13</td>\n",
       "      <td>Zimbabwe</td>\n",
       "      <td>247160</td>\n",
       "      <td>0.0</td>\n",
       "      <td>5460</td>\n",
       "    </tr>\n",
       "    <tr>\n",
       "      <th>161565</th>\n",
       "      <td>2022-04-14</td>\n",
       "      <td>2022-04-14</td>\n",
       "      <td>Zimbabwe</td>\n",
       "      <td>247208</td>\n",
       "      <td>0.0</td>\n",
       "      <td>5462</td>\n",
       "    </tr>\n",
       "    <tr>\n",
       "      <th>161566</th>\n",
       "      <td>2022-04-15</td>\n",
       "      <td>2022-04-15</td>\n",
       "      <td>Zimbabwe</td>\n",
       "      <td>247237</td>\n",
       "      <td>0.0</td>\n",
       "      <td>5462</td>\n",
       "    </tr>\n",
       "    <tr>\n",
       "      <th>161567</th>\n",
       "      <td>2022-04-16</td>\n",
       "      <td>2022-04-16</td>\n",
       "      <td>Zimbabwe</td>\n",
       "      <td>247237</td>\n",
       "      <td>0.0</td>\n",
       "      <td>5462</td>\n",
       "    </tr>\n",
       "  </tbody>\n",
       "</table>\n",
       "<p>161568 rows × 6 columns</p>\n",
       "</div>"
      ],
      "text/plain": [
       "              date    date_dt country_region  confirmed  recovered  deaths\n",
       "0       2020-01-22 2020-01-22      Australia          0        0.0       0\n",
       "1       2020-01-22 2020-01-22         Canada          0        0.0       0\n",
       "2       2020-01-22 2020-01-22          China        548       28.0      17\n",
       "3       2020-01-22 2020-01-22        Denmark          0        0.0       0\n",
       "4       2020-01-22 2020-01-22         France          0        0.0       0\n",
       "...            ...        ...            ...        ...        ...     ...\n",
       "161563  2022-04-12 2022-04-12       Zimbabwe     247094        0.0    5460\n",
       "161564  2022-04-13 2022-04-13       Zimbabwe     247160        0.0    5460\n",
       "161565  2022-04-14 2022-04-14       Zimbabwe     247208        0.0    5462\n",
       "161566  2022-04-15 2022-04-15       Zimbabwe     247237        0.0    5462\n",
       "161567  2022-04-16 2022-04-16       Zimbabwe     247237        0.0    5462\n",
       "\n",
       "[161568 rows x 6 columns]"
      ]
     },
     "execution_count": 11,
     "metadata": {},
     "output_type": "execute_result"
    }
   ],
   "source": [
    "covid_agg2"
   ]
  },
  {
   "cell_type": "code",
   "execution_count": 18,
   "id": "9ef6818d-8096-45f4-ab79-cb0c26de7ed9",
   "metadata": {},
   "outputs": [
    {
     "data": {
      "text/html": [
       "<div>\n",
       "<style scoped>\n",
       "    .dataframe tbody tr th:only-of-type {\n",
       "        vertical-align: middle;\n",
       "    }\n",
       "\n",
       "    .dataframe tbody tr th {\n",
       "        vertical-align: top;\n",
       "    }\n",
       "\n",
       "    .dataframe thead th {\n",
       "        text-align: right;\n",
       "    }\n",
       "</style>\n",
       "<table border=\"1\" class=\"dataframe\">\n",
       "  <thead>\n",
       "    <tr style=\"text-align: right;\">\n",
       "      <th></th>\n",
       "      <th>date</th>\n",
       "      <th>date_dt</th>\n",
       "      <th>confirmed</th>\n",
       "      <th>recovered</th>\n",
       "      <th>deaths</th>\n",
       "      <th>confirmed_delta</th>\n",
       "      <th>recovered_delta</th>\n",
       "      <th>deaths_delta</th>\n",
       "    </tr>\n",
       "    <tr>\n",
       "      <th>date_dt</th>\n",
       "      <th></th>\n",
       "      <th></th>\n",
       "      <th></th>\n",
       "      <th></th>\n",
       "      <th></th>\n",
       "      <th></th>\n",
       "      <th></th>\n",
       "      <th></th>\n",
       "    </tr>\n",
       "  </thead>\n",
       "  <tbody>\n",
       "    <tr>\n",
       "      <th>2020-01-22</th>\n",
       "      <td>2020-01-22</td>\n",
       "      <td>2020-01-22</td>\n",
       "      <td>557</td>\n",
       "      <td>30.0</td>\n",
       "      <td>17</td>\n",
       "      <td>557.0</td>\n",
       "      <td>30.0</td>\n",
       "      <td>17.0</td>\n",
       "    </tr>\n",
       "    <tr>\n",
       "      <th>2020-01-23</th>\n",
       "      <td>2020-01-23</td>\n",
       "      <td>2020-01-23</td>\n",
       "      <td>657</td>\n",
       "      <td>32.0</td>\n",
       "      <td>18</td>\n",
       "      <td>100.0</td>\n",
       "      <td>2.0</td>\n",
       "      <td>1.0</td>\n",
       "    </tr>\n",
       "    <tr>\n",
       "      <th>2020-01-24</th>\n",
       "      <td>2020-01-24</td>\n",
       "      <td>2020-01-24</td>\n",
       "      <td>944</td>\n",
       "      <td>39.0</td>\n",
       "      <td>26</td>\n",
       "      <td>287.0</td>\n",
       "      <td>7.0</td>\n",
       "      <td>8.0</td>\n",
       "    </tr>\n",
       "    <tr>\n",
       "      <th>2020-01-25</th>\n",
       "      <td>2020-01-25</td>\n",
       "      <td>2020-01-25</td>\n",
       "      <td>1437</td>\n",
       "      <td>42.0</td>\n",
       "      <td>42</td>\n",
       "      <td>493.0</td>\n",
       "      <td>3.0</td>\n",
       "      <td>16.0</td>\n",
       "    </tr>\n",
       "    <tr>\n",
       "      <th>2020-01-26</th>\n",
       "      <td>2020-01-26</td>\n",
       "      <td>2020-01-26</td>\n",
       "      <td>2120</td>\n",
       "      <td>56.0</td>\n",
       "      <td>56</td>\n",
       "      <td>683.0</td>\n",
       "      <td>14.0</td>\n",
       "      <td>14.0</td>\n",
       "    </tr>\n",
       "  </tbody>\n",
       "</table>\n",
       "</div>"
      ],
      "text/plain": [
       "                  date    date_dt  confirmed  recovered  deaths  \\\n",
       "date_dt                                                           \n",
       "2020-01-22  2020-01-22 2020-01-22        557       30.0      17   \n",
       "2020-01-23  2020-01-23 2020-01-23        657       32.0      18   \n",
       "2020-01-24  2020-01-24 2020-01-24        944       39.0      26   \n",
       "2020-01-25  2020-01-25 2020-01-25       1437       42.0      42   \n",
       "2020-01-26  2020-01-26 2020-01-26       2120       56.0      56   \n",
       "\n",
       "            confirmed_delta  recovered_delta  deaths_delta  \n",
       "date_dt                                                     \n",
       "2020-01-22            557.0             30.0          17.0  \n",
       "2020-01-23            100.0              2.0           1.0  \n",
       "2020-01-24            287.0              7.0           8.0  \n",
       "2020-01-25            493.0              3.0          16.0  \n",
       "2020-01-26            683.0             14.0          14.0  "
      ]
     },
     "execution_count": 18,
     "metadata": {},
     "output_type": "execute_result"
    }
   ],
   "source": [
    "# как меняется соотношения типа обнаруженные / умершие и т. д. во времени (в среднемировом разрезе)?\n",
    "covid_world = covid_agg.groupby(['date', 'date_dt'], as_index=False)[numeric_cols].sum()\n",
    "\n",
    "for col in numeric_cols:\n",
    "    covid_world[f'{col}_delta'] = covid_world[col].diff().fillna(covid_world[col].values[0])\n",
    "\n",
    "covid_world.index = covid_world['date_dt']\n",
    "\n",
    "covid_world.head()"
   ]
  },
  {
   "cell_type": "code",
   "execution_count": 21,
   "id": "a88f2d37-902b-48c7-a24f-2bb1e36ec133",
   "metadata": {},
   "outputs": [
    {
     "data": {
      "text/plain": [
       "1    2\n",
       "1    4\n",
       "dtype: int64"
      ]
     },
     "execution_count": 21,
     "metadata": {},
     "output_type": "execute_result"
    }
   ],
   "source": [
    "# WARNING: index can be non-unique\n",
    "series = pd.Series([0, 1, 2, 4], index=[0, 0, 1, 1])\n",
    "series[1]"
   ]
  },
  {
   "cell_type": "code",
   "execution_count": 22,
   "id": "3427db8d-bf7f-468f-bad7-83a71b922b83",
   "metadata": {},
   "outputs": [],
   "source": [
    "series1 = pd.Series([0, 1, 2, 3], index=[0, 1, 2, 3])\n",
    "series2 = pd.Series([0, 1, 2, 3], index=[3, 4, 5, 6])"
   ]
  },
  {
   "cell_type": "code",
   "execution_count": 23,
   "id": "485368ac-7bf0-47c8-b556-a555415f1199",
   "metadata": {},
   "outputs": [
    {
     "data": {
      "text/plain": [
       "0    NaN\n",
       "1    NaN\n",
       "2    NaN\n",
       "3    3.0\n",
       "4    NaN\n",
       "5    NaN\n",
       "6    NaN\n",
       "dtype: float64"
      ]
     },
     "execution_count": 23,
     "metadata": {},
     "output_type": "execute_result"
    }
   ],
   "source": [
    "series1 - series2"
   ]
  },
  {
   "cell_type": "code",
   "execution_count": 24,
   "id": "2ca2d9aa-f023-4530-bd71-5b32a37b63d2",
   "metadata": {},
   "outputs": [
    {
     "data": {
      "text/plain": [
       "array([0, 0, 0, 0])"
      ]
     },
     "execution_count": 24,
     "metadata": {},
     "output_type": "execute_result"
    }
   ],
   "source": [
    "series1.values - series2.values"
   ]
  },
  {
   "cell_type": "markdown",
   "id": "b4e99a51-9fb5-4710-bce5-1d9f46225a01",
   "metadata": {},
   "source": [
    "как меняется соотношения типа обнаруженные / умершие и т. д. во времени (в среднемировом разрезе)?"
   ]
  },
  {
   "cell_type": "code",
   "execution_count": 26,
   "id": "74ad3e9d-7d21-4a35-85d5-513a16b8c463",
   "metadata": {},
   "outputs": [
    {
     "data": {
      "image/png": "[encoded data removed]",
      "text/plain": [
       "<Figure size 640x480 with 1 Axes>"
      ]
     },
     "metadata": {},
     "output_type": "display_data"
    }
   ],
   "source": [
    "covid_world['confirmed_delta'].plot.line();"
   ]
  },
  {
   "cell_type": "code",
   "execution_count": 29,
   "id": "46db7cc8-f399-4679-8816-46a016c49908",
   "metadata": {},
   "outputs": [
    {
     "data": {
      "image/png": "[encoded data removed]",
      "text/plain": [
       "<Figure size 640x480 with 1 Axes>"
      ]
     },
     "metadata": {},
     "output_type": "display_data"
    }
   ],
   "source": [
    "(covid_world['deaths_delta'] / covid_world['confirmed_delta']).plot.line();"
   ]
  },
  {
   "cell_type": "markdown",
   "id": "80e7ddfa-0eaa-455f-bca1-1dd1d20c4a1a",
   "metadata": {},
   "source": [
    "если смотреть в среднемировом разрезе, как можно оценить, на какой день болезни шанс умереть больше всего? Попробуйте проверить, можно ли говорить о какой-либо статистической значимости в контексте вашего ответа"
   ]
  },
  {
   "cell_type": "code",
   "execution_count": null,
   "id": "73152cbc-0a36-4ca0-9b17-7d93c89f7887",
   "metadata": {},
   "outputs": [],
   "source": [
    "X ... symptom ... ill ... recovered"
   ]
  },
  {
   "cell_type": "code",
   "execution_count": 52,
   "id": "4637430c-f1f5-4021-a0cc-86515f668d32",
   "metadata": {},
   "outputs": [],
   "source": [
    "# найти такой лаг (сдвиг в прошлое) переменной confirmed_delta, что корреляция с переменной deaths_delta максимальна\n",
    "lags = list(range(51))\n",
    "coefs = []\n",
    "\n",
    "for lag in lags:\n",
    "    confirmed_shifted = covid_world['confirmed_delta'].shift(lag, fill_value=0)\n",
    "    coef = np.corrcoef(confirmed_shifted.values[lag:], covid_world['deaths_delta'].values[lag:])[0, 1]\n",
    "\n",
    "    coefs.append(coef)"
   ]
  },
  {
   "cell_type": "code",
   "execution_count": 64,
   "id": "b94e6033-83d8-479f-b0e8-f32847e1aed9",
   "metadata": {},
   "outputs": [
    {
     "data": {
      "text/plain": [
       "0.3093752475954413"
      ]
     },
     "execution_count": 64,
     "metadata": {},
     "output_type": "execute_result"
    }
   ],
   "source": [
    "np.corrcoef(covid_world['confirmed_delta'].values, covid_world['deaths_delta'].values)[1, 0]"
   ]
  },
  {
   "cell_type": "code",
   "execution_count": 53,
   "id": "2e3e29d5-3b70-4518-8efb-28754e505d33",
   "metadata": {},
   "outputs": [
    {
     "data": {
      "image/png": "[encoded data removed]",
      "text/plain": [
       "<Figure size 640x480 with 1 Axes>"
      ]
     },
     "metadata": {},
     "output_type": "display_data"
    }
   ],
   "source": [
    "import matplotlib.pyplot as plt\n",
    "\n",
    "fig, ax = plt.subplots()\n",
    "\n",
    "ax.plot(lags, coefs);"
   ]
  },
  {
   "cell_type": "code",
   "execution_count": 54,
   "id": "d7a81177-1f2e-418e-acb7-4e6dddbaf478",
   "metadata": {},
   "outputs": [
    {
     "data": {
      "text/plain": [
       "7"
      ]
     },
     "execution_count": 54,
     "metadata": {},
     "output_type": "execute_result"
    }
   ],
   "source": [
    "np.array(coefs).argmax()"
   ]
  },
  {
   "cell_type": "markdown",
   "id": "fbec455d-c5a8-45e3-a52e-31f277916d54",
   "metadata": {},
   "source": [
    "**Проверим коэффициент корреляции на значимость**"
   ]
  },
  {
   "cell_type": "code",
   "execution_count": 57,
   "id": "cf55a4d4-9935-4fff-b6e1-44014a0d9603",
   "metadata": {},
   "outputs": [
    {
     "data": {
      "text/plain": [
       "0.3192401664909657"
      ]
     },
     "execution_count": 57,
     "metadata": {},
     "output_type": "execute_result"
    }
   ],
   "source": [
    "lag = np.array(coefs).argmax()\n",
    "cor = coefs[lag]\n",
    "cor"
   ]
  },
  {
   "cell_type": "code",
   "execution_count": null,
   "id": "f086bb53-616a-48ff-bab6-c7d4e617f618",
   "metadata": {},
   "outputs": [],
   "source": [
    "# H0: на самом деле никакой корреляции нет, значение случайно\n",
    "# нужно добыть распределение коэффициентов корреляции при условии, что они случайны\n",
    "\n",
    "# фиксируем вектор 1\n",
    "# случайным образом перемешиваем значения вектора 2\n",
    "# считаем корреляцию вектора 1 и вектора 2\n",
    "# повторяем много раз"
   ]
  },
  {
   "cell_type": "code",
   "execution_count": 59,
   "id": "4c03c946-5b47-41c0-9563-b952367d9741",
   "metadata": {},
   "outputs": [],
   "source": [
    "def simulate_cor(vector1, vector2):\n",
    "    vector2_p = np.random.permutation(vector2)\n",
    "    coef = np.corrcoef(vector1, vector2_p)[0, 1]\n",
    "    \n",
    "    return coef\n",
    "\n",
    "N = 100000\n",
    "\n",
    "random_coefs = [\n",
    "    simulate_cor(\n",
    "        covid_world['confirmed_delta'].shift(lag, fill_value=0).values[lag:],\n",
    "        covid_world['deaths_delta'].values[lag:]\n",
    "    )\n",
    "    for i\n",
    "    in range(N)\n",
    "]"
   ]
  },
  {
   "cell_type": "code",
   "execution_count": 60,
   "id": "d387145d-c8d4-4099-a2fd-443cb634145a",
   "metadata": {},
   "outputs": [
    {
     "data": {
      "image/png": "[encoded data removed]",
      "text/plain": [
       "<Figure size 640x480 with 1 Axes>"
      ]
     },
     "metadata": {},
     "output_type": "display_data"
    }
   ],
   "source": [
    "import matplotlib.pyplot as plt\n",
    "\n",
    "fig, ax = plt.subplots()\n",
    "\n",
    "ax.hist(random_coefs, bins=100, edgecolor='black');"
   ]
  },
  {
   "cell_type": "code",
   "execution_count": 62,
   "id": "e8e01ac9-b791-492a-9709-6eac98a4c574",
   "metadata": {},
   "outputs": [
    {
     "data": {
      "text/plain": [
       "0.3192401664909657"
      ]
     },
     "execution_count": 62,
     "metadata": {},
     "output_type": "execute_result"
    }
   ],
   "source": [
    "cor"
   ]
  },
  {
   "cell_type": "markdown",
   "id": "b9adb785-9f36-4cba-b2e6-42f2f2fc5e8b",
   "metadata": {},
   "source": [
    "**Для Задания 5**\n",
    "\n",
    "Необходимо получить дельты для данных по странам."
   ]
  },
  {
   "cell_type": "code",
   "execution_count": 74,
   "id": "bee90e24-f7d4-4d23-abe2-97cf7042ab3e",
   "metadata": {},
   "outputs": [],
   "source": [
    "def add_delta(country_df: pd.DataFrame) -> pd.DataFrame:\n",
    "    country_df = country_df.sort_values(by='date')  # на всякий случай\n",
    "\n",
    "    for col in numeric_cols:\n",
    "        country_df[f'{col}_delta'] = country_df[col].diff().fillna(country_df[col].values[0])\n",
    "\n",
    "    return country_df"
   ]
  },
  {
   "cell_type": "code",
   "execution_count": 80,
   "id": "de37c92a-7245-485e-b770-c777e60e14c6",
   "metadata": {},
   "outputs": [],
   "source": [
    "covid_deltas = covid_agg.groupby(['country_region'], as_index=False).apply(add_delta).reset_index(drop=True)"
   ]
  },
  {
   "cell_type": "code",
   "execution_count": 83,
   "id": "ec41051f-d004-4e30-a2bb-85fe0d1c1a72",
   "metadata": {},
   "outputs": [
    {
     "data": {
      "text/plain": [
       "confirmed_delta    101\n",
       "recovered_delta    339\n",
       "deaths_delta       140\n",
       "dtype: int64"
      ]
     },
     "execution_count": 83,
     "metadata": {},
     "output_type": "execute_result"
    }
   ],
   "source": [
    "(covid_deltas[['confirmed_delta', 'recovered_delta', 'deaths_delta']] < 0).sum()"
   ]
  },
  {
   "cell_type": "code",
   "execution_count": 81,
   "id": "df5f99da-3875-42b5-9e7e-9af94911fc2e",
   "metadata": {},
   "outputs": [
    {
     "data": {
      "text/html": [
       "<div>\n",
       "<style scoped>\n",
       "    .dataframe tbody tr th:only-of-type {\n",
       "        vertical-align: middle;\n",
       "    }\n",
       "\n",
       "    .dataframe tbody tr th {\n",
       "        vertical-align: top;\n",
       "    }\n",
       "\n",
       "    .dataframe thead th {\n",
       "        text-align: right;\n",
       "    }\n",
       "</style>\n",
       "<table border=\"1\" class=\"dataframe\">\n",
       "  <thead>\n",
       "    <tr style=\"text-align: right;\">\n",
       "      <th></th>\n",
       "      <th>date</th>\n",
       "      <th>date_dt</th>\n",
       "      <th>country_region</th>\n",
       "      <th>confirmed</th>\n",
       "      <th>recovered</th>\n",
       "      <th>deaths</th>\n",
       "      <th>confirmed_delta</th>\n",
       "      <th>recovered_delta</th>\n",
       "      <th>deaths_delta</th>\n",
       "    </tr>\n",
       "  </thead>\n",
       "  <tbody>\n",
       "    <tr>\n",
       "      <th>0</th>\n",
       "      <td>2020-01-22</td>\n",
       "      <td>2020-01-22</td>\n",
       "      <td>Afghanistan</td>\n",
       "      <td>0</td>\n",
       "      <td>0.0</td>\n",
       "      <td>0</td>\n",
       "      <td>0.0</td>\n",
       "      <td>0.0</td>\n",
       "      <td>0.0</td>\n",
       "    </tr>\n",
       "    <tr>\n",
       "      <th>1</th>\n",
       "      <td>2020-01-23</td>\n",
       "      <td>2020-01-23</td>\n",
       "      <td>Afghanistan</td>\n",
       "      <td>0</td>\n",
       "      <td>0.0</td>\n",
       "      <td>0</td>\n",
       "      <td>0.0</td>\n",
       "      <td>0.0</td>\n",
       "      <td>0.0</td>\n",
       "    </tr>\n",
       "    <tr>\n",
       "      <th>2</th>\n",
       "      <td>2020-01-24</td>\n",
       "      <td>2020-01-24</td>\n",
       "      <td>Afghanistan</td>\n",
       "      <td>0</td>\n",
       "      <td>0.0</td>\n",
       "      <td>0</td>\n",
       "      <td>0.0</td>\n",
       "      <td>0.0</td>\n",
       "      <td>0.0</td>\n",
       "    </tr>\n",
       "    <tr>\n",
       "      <th>3</th>\n",
       "      <td>2020-01-25</td>\n",
       "      <td>2020-01-25</td>\n",
       "      <td>Afghanistan</td>\n",
       "      <td>0</td>\n",
       "      <td>0.0</td>\n",
       "      <td>0</td>\n",
       "      <td>0.0</td>\n",
       "      <td>0.0</td>\n",
       "      <td>0.0</td>\n",
       "    </tr>\n",
       "    <tr>\n",
       "      <th>4</th>\n",
       "      <td>2020-01-26</td>\n",
       "      <td>2020-01-26</td>\n",
       "      <td>Afghanistan</td>\n",
       "      <td>0</td>\n",
       "      <td>0.0</td>\n",
       "      <td>0</td>\n",
       "      <td>0.0</td>\n",
       "      <td>0.0</td>\n",
       "      <td>0.0</td>\n",
       "    </tr>\n",
       "  </tbody>\n",
       "</table>\n",
       "</div>"
      ],
      "text/plain": [
       "         date    date_dt country_region  confirmed  recovered  deaths  \\\n",
       "0  2020-01-22 2020-01-22    Afghanistan          0        0.0       0   \n",
       "1  2020-01-23 2020-01-23    Afghanistan          0        0.0       0   \n",
       "2  2020-01-24 2020-01-24    Afghanistan          0        0.0       0   \n",
       "3  2020-01-25 2020-01-25    Afghanistan          0        0.0       0   \n",
       "4  2020-01-26 2020-01-26    Afghanistan          0        0.0       0   \n",
       "\n",
       "   confirmed_delta  recovered_delta  deaths_delta  \n",
       "0              0.0              0.0           0.0  \n",
       "1              0.0              0.0           0.0  \n",
       "2              0.0              0.0           0.0  \n",
       "3              0.0              0.0           0.0  \n",
       "4              0.0              0.0           0.0  "
      ]
     },
     "execution_count": 81,
     "metadata": {},
     "output_type": "execute_result"
    }
   ],
   "source": [
    "covid_deltas.head()"
   ]
  },
  {
   "cell_type": "code",
   "execution_count": 66,
   "id": "6d863374-a03a-44ca-927a-763a5563c648",
   "metadata": {},
   "outputs": [
    {
     "data": {
      "text/plain": [
       "<pandas.core.groupby.generic.DataFrameGroupBy object at 0x12fb18610>"
      ]
     },
     "execution_count": 66,
     "metadata": {},
     "output_type": "execute_result"
    }
   ],
   "source": [
    "covid_agg.groupby(['country_region'])"
   ]
  },
  {
   "cell_type": "code",
   "execution_count": 67,
   "id": "91d60212-1db8-4533-b1d3-22a007874fb0",
   "metadata": {},
   "outputs": [],
   "source": [
    "grouped = list(covid_renamed.groupby(['country_region'], as_index=False))"
   ]
  },
  {
   "cell_type": "code",
   "execution_count": 68,
   "id": "28b47ebb-f479-41d4-97d8-05aa70e1666e",
   "metadata": {},
   "outputs": [
    {
     "data": {
      "text/plain": [
       "(('Afghanistan',),\n",
       "            date country_region province_state  confirmed  recovered  deaths  \\\n",
       " 0    2020-01-22    Afghanistan            NaN          0        0.0       0   \n",
       " 1    2020-01-23    Afghanistan            NaN          0        0.0       0   \n",
       " 2    2020-01-24    Afghanistan            NaN          0        0.0       0   \n",
       " 3    2020-01-25    Afghanistan            NaN          0        0.0       0   \n",
       " 4    2020-01-26    Afghanistan            NaN          0        0.0       0   \n",
       " ..          ...            ...            ...        ...        ...     ...   \n",
       " 811  2022-04-12    Afghanistan            NaN     178257        0.0    7676   \n",
       " 812  2022-04-13    Afghanistan            NaN     178295        0.0    7676   \n",
       " 813  2022-04-14    Afghanistan            NaN     178352        0.0    7676   \n",
       " 814  2022-04-15    Afghanistan            NaN     178373        0.0    7676   \n",
       " 815  2022-04-16    Afghanistan            NaN     178387        0.0    7676   \n",
       " \n",
       "        date_dt  \n",
       " 0   2020-01-22  \n",
       " 1   2020-01-23  \n",
       " 2   2020-01-24  \n",
       " 3   2020-01-25  \n",
       " 4   2020-01-26  \n",
       " ..         ...  \n",
       " 811 2022-04-12  \n",
       " 812 2022-04-13  \n",
       " 813 2022-04-14  \n",
       " 814 2022-04-15  \n",
       " 815 2022-04-16  \n",
       " \n",
       " [816 rows x 7 columns])"
      ]
     },
     "execution_count": 68,
     "metadata": {},
     "output_type": "execute_result"
    }
   ],
   "source": [
    "grouped[0]"
   ]
  },
  {
   "cell_type": "markdown",
   "id": "485765fc-117d-4bcf-a8d8-8dd469723f74",
   "metadata": {},
   "source": [
    "#### Задание 4\n",
    "\n",
    "Изобразите распределение всех трех показателей прироста с помощью:\n",
    "\n",
    "1. Гистограммы\n",
    "2. Ящика с усами (boxplot)\n",
    "3. Функции распределения\n",
    "\n",
    "На одном графике.\n",
    "\n",
    "Повторите то же самое для логарифмированных показателей."
   ]
  },
  {
   "cell_type": "code",
   "execution_count": null,
   "id": "089fc039-c593-4017-98fb-eaf2a401cc4b",
   "metadata": {},
   "outputs": [],
   "source": [
    "# наш код здесь"
   ]
  },
  {
   "cell_type": "markdown",
   "id": "305b4d5f-d675-416e-9d4b-17b1ae5d1fe0",
   "metadata": {},
   "source": [
    "#### Задание 5\n",
    "\n",
    "Изобразите для шести понравившихся вам стран взаимосвязь между логарифмированными показателями прироста заболевших и умерших (по графику на страну, все на одной картинке). Сделайте это тремя способами: с помощью `matplotlib`, `seaborn` и `plotly`."
   ]
  },
  {
   "cell_type": "code",
   "execution_count": null,
   "id": "e8100516-279a-4d30-9157-10ad79d49a91",
   "metadata": {},
   "outputs": [],
   "source": [
    "# наш код здесь"
   ]
  }
 ],
 "metadata": {
  "kernelspec": {
   "display_name": "Python 3 (ipykernel)",
   "language": "python",
   "name": "python3"
  },
  "language_info": {
   "codemirror_mode": {
    "name": "ipython",
    "version": 3
   },
   "file_extension": ".py",
   "mimetype": "text/x-python",
   "name": "python",
   "nbconvert_exporter": "python",
   "pygments_lexer": "ipython3",
   "version": "3.11.5"
  }
 },
 "nbformat": 4,
 "nbformat_minor": 5
}
