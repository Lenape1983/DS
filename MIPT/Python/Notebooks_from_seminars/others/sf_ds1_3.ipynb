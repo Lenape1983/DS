{
 "cells": [
  {
   "cell_type": "markdown",
   "id": "87dec23c",
   "metadata": {},
   "source": [
    "# Программирование на Python\n",
    "### Познакомимся\n",
    "<u>Немного обо мне:</u>\n",
    "- Иоанн;\n",
    "- веду контактные занятия;\n",
    "- ML-инженер (Сбер);\n",
    "- приглашенный преподаватель (НИУ ВШЭ).\n",
    "\n",
    "<u>А вы кто?</u>\n",
    "- какой опыт был у вас ранее?\n",
    "- почему вы решили учиться на этой программе?\n",
    "- что ожидаете получить от этого курса?\n",
    "\n",
    "### Правила успешного обучения\n",
    "- гуглим;\n",
    "- читаем документацию;\n",
    "- если что-то непонятно - тут же спрашиваем.\n",
    "\n",
    "### Формат работы\n",
    "- в модулях теория, на занятиях - практика."
   ]
  },
  {
   "cell_type": "markdown",
   "id": "4a698a76",
   "metadata": {},
   "source": [
    "### Решаем задачи\n",
    "#### Задача 0 (разминочная)\n",
    "\n",
    "Напишите функцию, которая принимает на вход коэффициенты квадратного уравнения (действительные числа `a`, `b` и `с`) и выводит кортеж с решением(ями). Комплексными корнями и бесконечным количеством решений пренебречь. Возвращаться должен кортеж."
   ]
  },
  {
   "cell_type": "code",
   "execution_count": 3,
   "id": "75142383-3190-483c-87d5-8173bf55cde8",
   "metadata": {},
   "outputs": [],
   "source": [
    "def solve(a: float, b: float, c: float) -> tuple:\n",
    "    D = b ** 2 - 4 * a * c\n",
    "\n",
    "    if D < 0:\n",
    "        result = ()  # tuple()\n",
    "    elif D == 0:\n",
    "        result = ((-1) * b / (2 * a),)\n",
    "    else:\n",
    "        Dsqrt = D ** (1 / 2)\n",
    "        result = (((-1) * b + Dsqrt) / (2 * a), ((-1) * b - Dsqrt) / (2 * a))\n",
    "\n",
    "    return result"
   ]
  },
  {
   "cell_type": "code",
   "execution_count": 10,
   "id": "57c88bb4-c011-41a4-a4ca-aa0a94bd7da1",
   "metadata": {},
   "outputs": [
    {
     "data": {
      "text/plain": [
       "''"
      ]
     },
     "execution_count": 10,
     "metadata": {},
     "output_type": "execute_result"
    }
   ],
   "source": [
    "'-' * False"
   ]
  },
  {
   "cell_type": "code",
   "execution_count": 12,
   "id": "7362e019-a329-4c77-b9f2-02dbbb78cfc6",
   "metadata": {},
   "outputs": [
    {
     "data": {
      "text/plain": [
       "''"
      ]
     },
     "execution_count": 12,
     "metadata": {},
     "output_type": "execute_result"
    }
   ],
   "source": [
    "'-' * 0"
   ]
  },
  {
   "cell_type": "code",
   "execution_count": 5,
   "id": "12c2c35a-d791-4697-87a3-74ee9fc243de",
   "metadata": {},
   "outputs": [],
   "source": [
    "lst = [1, 2, 3]"
   ]
  },
  {
   "cell_type": "code",
   "execution_count": 6,
   "id": "4194429f-9e87-43b8-9eba-8a76e7b64e71",
   "metadata": {},
   "outputs": [],
   "source": [
    "tpl = (1, 2, 3)"
   ]
  },
  {
   "cell_type": "code",
   "execution_count": 7,
   "id": "4eb055db-e663-4a39-961f-923a2ed34c19",
   "metadata": {},
   "outputs": [
    {
     "ename": "TypeError",
     "evalue": "'tuple' object does not support item assignment",
     "output_type": "error",
     "traceback": [
      "\u001b[1;31m---------------------------------------------------------------------------\u001b[0m",
      "\u001b[1;31mTypeError\u001b[0m                                 Traceback (most recent call last)",
      "Cell \u001b[1;32mIn[7], line 1\u001b[0m\n\u001b[1;32m----> 1\u001b[0m \u001b[43mtpl\u001b[49m\u001b[43m[\u001b[49m\u001b[38;5;241;43m0\u001b[39;49m\u001b[43m]\u001b[49m \u001b[38;5;241m=\u001b[39m \u001b[38;5;241m5\u001b[39m\n",
      "\u001b[1;31mTypeError\u001b[0m: 'tuple' object does not support item assignment"
     ]
    }
   ],
   "source": [
    "tpl[0] = 5"
   ]
  },
  {
   "cell_type": "code",
   "execution_count": null,
   "id": "e5abedeb-1ef4-4053-82f2-e1b167644041",
   "metadata": {},
   "outputs": [],
   "source": []
  },
  {
   "cell_type": "code",
   "execution_count": null,
   "id": "ea4e52e5-853d-4bd5-9679-c8d4619da310",
   "metadata": {},
   "outputs": [],
   "source": []
  },
  {
   "cell_type": "code",
   "execution_count": 4,
   "id": "c79d2ba9-064b-4c37-ba40-35a45072eb53",
   "metadata": {},
   "outputs": [
    {
     "data": {
      "text/plain": [
       "(-1.0,)"
      ]
     },
     "execution_count": 4,
     "metadata": {},
     "output_type": "execute_result"
    }
   ],
   "source": [
    "solve(1, 2, 1)"
   ]
  },
  {
   "cell_type": "code",
   "execution_count": 2,
   "id": "9c9d927b-8aaa-4a69-8f85-27162404c14b",
   "metadata": {},
   "outputs": [
    {
     "data": {
      "text/plain": [
       "(1,)"
      ]
     },
     "execution_count": 2,
     "metadata": {},
     "output_type": "execute_result"
    }
   ],
   "source": [
    "(1,)"
   ]
  },
  {
   "cell_type": "markdown",
   "id": "7541634b-e0be-4394-8009-9f0bb8ff83ec",
   "metadata": {},
   "source": [
    "#### Задача 1\n",
    "Напишите функцию, которая будет переводить `int` в `str` без использования функции `str()`.\n",
    "\n",
    "- без форматирования строки;\n",
    "- "
   ]
  },
  {
   "cell_type": "code",
   "execution_count": 21,
   "id": "94f71e76-e9e8-49ec-a7b6-870406f66288",
   "metadata": {},
   "outputs": [],
   "source": [
    "const = 48  # const = ord('0')\n",
    "\n",
    "def int1_to_str(number: int) -> str:\n",
    "    return chr(number + const)\n",
    "\n",
    "def int_to_str(number: int) -> str:\n",
    "    a = abs(number)\n",
    "\n",
    "    if number != 0:\n",
    "        result = ''\n",
    "        \n",
    "        while a != 0:  # a > 0\n",
    "            num = a % 10\n",
    "            result += int1_to_str(num)  # result = result + int1_to_str(num)\n",
    "            a //= 10  # a = a // 10\n",
    "        \n",
    "        result = result[::-1]  # result = '-' * (some_int < 0) + result[::-1]\n",
    "        \n",
    "        if number < 0:\n",
    "            result = '-' + result\n",
    "\n",
    "    else:\n",
    "        result = int1_to_str(number)  # result = '0'\n",
    "    \n",
    "    return result"
   ]
  },
  {
   "cell_type": "code",
   "execution_count": 20,
   "id": "b9b165bb-7afb-458f-a5d7-2853d97c9aca",
   "metadata": {},
   "outputs": [
    {
     "data": {
      "text/plain": [
       "''"
      ]
     },
     "execution_count": 20,
     "metadata": {},
     "output_type": "execute_result"
    }
   ],
   "source": [
    "'123' * (-1)"
   ]
  },
  {
   "cell_type": "code",
   "execution_count": null,
   "id": "b1911f29-eca3-4862-82b8-49f281a746ac",
   "metadata": {},
   "outputs": [],
   "source": [
    "some_int = 828\n",
    "\n",
    "# 828 % 10 -> 8\n",
    "# 828 // 10 -> 82\n",
    "\n",
    "# 82 % 10 -> 2\n",
    "# 82 // 10 -> 8\n",
    "\n",
    "# 8 % 10 -> 8\n",
    "# 8 // 10 -> 0"
   ]
  },
  {
   "cell_type": "code",
   "execution_count": 19,
   "id": "08a17488-45a6-48f1-9def-f539a10b8709",
   "metadata": {},
   "outputs": [
    {
     "name": "stdout",
     "output_type": "stream",
     "text": [
      "828\n"
     ]
    }
   ],
   "source": [
    "some_int = 828\n",
    "a = abs(some_int)\n",
    "\n",
    "result = ''\n",
    "\n",
    "while a != 0:  # a > 0\n",
    "    num = a % 10\n",
    "    result += int1_to_str(num)  # result = result + int1_to_str(num)\n",
    "    a //= 10  # a = a // 10\n",
    "\n",
    "result = result[::-1]  # result = '-' * (some_int < 0) + result[::-1]\n",
    "\n",
    "if some_int < 0:\n",
    "    result = '-' + result\n",
    "\n",
    "print(result)"
   ]
  },
  {
   "cell_type": "code",
   "execution_count": null,
   "id": "68bf75bb-11cc-4213-9f33-b6ca618f952c",
   "metadata": {},
   "outputs": [],
   "source": [
    "__str__\n",
    "__repr__"
   ]
  },
  {
   "cell_type": "code",
   "execution_count": 14,
   "id": "984f01b4-4667-45f4-b6a2-ba37024c6e5d",
   "metadata": {},
   "outputs": [
    {
     "data": {
      "text/plain": [
       "'0'"
      ]
     },
     "execution_count": 14,
     "metadata": {},
     "output_type": "execute_result"
    }
   ],
   "source": [
    "chr(48)"
   ]
  },
  {
   "cell_type": "code",
   "execution_count": 15,
   "id": "0be4c0a5-9573-4a26-ac3c-3751f9d1c248",
   "metadata": {},
   "outputs": [
    {
     "data": {
      "text/plain": [
       "48"
      ]
     },
     "execution_count": 15,
     "metadata": {},
     "output_type": "execute_result"
    }
   ],
   "source": [
    "ord('0')"
   ]
  },
  {
   "cell_type": "code",
   "execution_count": null,
   "id": "2e019e4a-ac77-4104-aefa-a45a8a32af7e",
   "metadata": {},
   "outputs": [],
   "source": [
    "# наш код здесь"
   ]
  },
  {
   "cell_type": "markdown",
   "id": "d6f46171-68f9-48cb-a090-69ab203f2b95",
   "metadata": {},
   "source": [
    "#### Задача 2\n",
    "Мы хотим автоматизировать процесс перекладки текстовых файлов с данными из хранилища в БД (Postgres). Предположим, что таблицы каждый раз разные. Соответственно, перед записью данных необходимо создать таблицу. Это можно сделать примерно так:\n",
    "\n",
    "```\n",
    "CREATE TABLE distributors (\n",
    "    did integer,\n",
    "    name varchar(40)\n",
    ");\n",
    "```\n",
    "\n",
    "PostgreSQL [располагает](https://www.postgresql.org/docs/current/datatype.html) следующими типами данных (это не все, что есть, но все, что нам сейчас пригодится):\n",
    "\n",
    "<table>\n",
    "    <tr>\n",
    "        <th>Python</th>\n",
    "        <th>PostgreSQL</th>\n",
    "    </tr>\n",
    "    <tr>\n",
    "        <td>int</td>\n",
    "        <td>smallint, integer, bigint</td>\n",
    "    </tr>\n",
    "    <tr>\n",
    "        <td>float</td>\n",
    "        <td>real</td>\n",
    "    </tr>\n",
    "    <tr>\n",
    "        <td>bool</td>\n",
    "        <td>boolean</td>\n",
    "    </tr>\n",
    "    <tr>\n",
    "        <td>str</td>\n",
    "        <td>varchar, text</td>\n",
    "    </tr>\n",
    "</table>\n",
    "\n",
    "Реализуйте соответствующую функцию. Она должна иметь следующие аргументы:\n",
    "\n",
    "- `filename` (строка) - путь к текстовому файлу;\n",
    "- `sep` (строка, по дефолту для CSV) - разделитель;\n",
    "- `tablename` (строка, по дефолту соответствует названию файла без расширения, если `None`);\n",
    "- `varnames` (либо должны быть предоставлены в виде списка, либо добываются из данных если `None`);\n",
    "- `dtypes` (либо должны быть предоставлены в виде списка, либо добываются из данных если `None`).\n",
    "\n",
    "Функция должна записывать получившийся скрипт в файл 'create_table.sql' и возвращать путь к этому файлу."
   ]
  },
  {
   "cell_type": "code",
   "execution_count": 22,
   "id": "d69dcc6c-d2bf-4933-80c9-69807b4ef7d6",
   "metadata": {},
   "outputs": [],
   "source": [
    "def sql_from_file(\n",
    "    filename: str,\n",
    "    sep=',',\n",
    "    tablename=None,\n",
    "    varnames=None,\n",
    "    dtypes=None\n",
    ") -> str:\n",
    "    '''\n",
    "    filename: path to file with data\n",
    "    sep: ...\n",
    "    '''\n",
    "    pass"
   ]
  },
  {
   "cell_type": "code",
   "execution_count": 23,
   "id": "d084ae1b-f538-4a1f-80ed-d7a95466c30e",
   "metadata": {},
   "outputs": [
    {
     "data": {
      "text/plain": [
       "\u001b[1;31mSignature:\u001b[0m\n",
       "\u001b[0msql_from_file\u001b[0m\u001b[1;33m(\u001b[0m\u001b[1;33m\n",
       "\u001b[0m    \u001b[0mfilename\u001b[0m\u001b[1;33m:\u001b[0m \u001b[0mstr\u001b[0m\u001b[1;33m,\u001b[0m\u001b[1;33m\n",
       "\u001b[0m    \u001b[0msep\u001b[0m\u001b[1;33m=\u001b[0m\u001b[1;34m','\u001b[0m\u001b[1;33m,\u001b[0m\u001b[1;33m\n",
       "\u001b[0m    \u001b[0mtablename\u001b[0m\u001b[1;33m=\u001b[0m\u001b[1;32mNone\u001b[0m\u001b[1;33m,\u001b[0m\u001b[1;33m\n",
       "\u001b[0m    \u001b[0mvarnames\u001b[0m\u001b[1;33m=\u001b[0m\u001b[1;32mNone\u001b[0m\u001b[1;33m,\u001b[0m\u001b[1;33m\n",
       "\u001b[0m    \u001b[0mdtypes\u001b[0m\u001b[1;33m=\u001b[0m\u001b[1;32mNone\u001b[0m\u001b[1;33m,\u001b[0m\u001b[1;33m\n",
       "\u001b[0m\u001b[1;33m)\u001b[0m \u001b[1;33m->\u001b[0m \u001b[0mstr\u001b[0m\u001b[1;33m\u001b[0m\u001b[1;33m\u001b[0m\u001b[0m\n",
       "\u001b[1;31mDocstring:\u001b[0m\n",
       "filename: path to file with data\n",
       "sep: ...\n",
       "\u001b[1;31mFile:\u001b[0m      c:\\users\\m050\\appdata\\local\\temp\\ipykernel_14776\\1469673427.py\n",
       "\u001b[1;31mType:\u001b[0m      function"
      ]
     },
     "metadata": {},
     "output_type": "display_data"
    }
   ],
   "source": [
    "?sql_from_file"
   ]
  }
 ],
 "metadata": {
  "kernelspec": {
   "display_name": "Python 3 (ipykernel)",
   "language": "python",
   "name": "python3"
  },
  "language_info": {
   "codemirror_mode": {
    "name": "ipython",
    "version": 3
   },
   "file_extension": ".py",
   "mimetype": "text/x-python",
   "name": "python",
   "nbconvert_exporter": "python",
   "pygments_lexer": "ipython3",
   "version": "3.11.1"
  }
 },
 "nbformat": 4,
 "nbformat_minor": 5
}
