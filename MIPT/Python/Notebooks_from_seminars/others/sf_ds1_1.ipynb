{
 "cells": [
  {
   "cell_type": "markdown",
   "id": "87dec23c",
   "metadata": {},
   "source": [
    "# Введение в программирование на языке Python\n",
    "## Семинар 1. Введение в функции в Python\n",
    "### Познакомимся\n",
    "<u>Немного обо мне:</u>\n",
    "- Иоанн;\n",
    "- веду контактные занятия;\n",
    "- ML-инженер (Сбер);\n",
    "- приглашенный преподаватель (НИУ ВШЭ).\n",
    "\n",
    "<u>А вы кто?</u>\n",
    "- какой опыт был у вас ранее?\n",
    "- почему вы решили учиться на этой программе?\n",
    "- что ожидаете получить от этого курса?\n",
    "\n",
    "### Правила успешного обучения\n",
    "- гуглим;\n",
    "- читаем документацию;\n",
    "- если что-то непонятно - тут же спрашиваем.\n",
    "\n",
    "### Формат работы\n",
    "- в модулях теория, на занятиях - практика."
   ]
  },
  {
   "cell_type": "markdown",
   "id": "4a698a76",
   "metadata": {},
   "source": [
    "### Решаем задачи\n",
    "#### Задача 0 (разминочная)\n",
    "\n",
    "Напишите функцию, которая принимает на вход коэффициенты квадратного уравнения (действительные числа `a`, `b` и `с`) и выводит кортеж с решением(ями). Комплексными корнями и бесконечным количеством решений пренебречь. Возвращаться должен кортеж."
   ]
  },
  {
   "cell_type": "code",
   "execution_count": 25,
   "id": "0b4fc33f",
   "metadata": {},
   "outputs": [],
   "source": [
    "def solve(a: float, b: float, c: float) -> tuple[float]:\n",
    "    \"\"\"\n",
    "    a: float - first coefficient\n",
    "    \"\"\"\n",
    "\n",
    "    # check arguments\n",
    "    for arg in (a, b, c):\n",
    "        argtype = type(arg)\n",
    "\n",
    "        if argtype != float:\n",
    "            raise ValueError(f'Я же написал float, а ты вставил {argtype}!')\n",
    "    \n",
    "    D = b ** 2 - 4 * a * c\n",
    "\n",
    "    if D < 0:\n",
    "        result = ((...),)\n",
    "        result = ()  # tuple()\n",
    "    elif D == 0:\n",
    "        result = ((-1) * b / (2 * a),)\n",
    "    else:\n",
    "        sqrtD = D ** (1 / 2)\n",
    "        result = (((-1) * b + sqrtD) / (2 * a), ((-1) * b - sqrtD) / (2 * a))\n",
    "\n",
    "    return result"
   ]
  },
  {
   "cell_type": "code",
   "execution_count": 26,
   "id": "5e75d6a9-9f5c-408a-94d9-7c265c933a4e",
   "metadata": {},
   "outputs": [
    {
     "data": {
      "text/plain": [
       "\u001b[1;31mSignature:\u001b[0m \u001b[0msolve\u001b[0m\u001b[1;33m(\u001b[0m\u001b[0ma\u001b[0m\u001b[1;33m:\u001b[0m \u001b[0mfloat\u001b[0m\u001b[1;33m,\u001b[0m \u001b[0mb\u001b[0m\u001b[1;33m:\u001b[0m \u001b[0mfloat\u001b[0m\u001b[1;33m,\u001b[0m \u001b[0mc\u001b[0m\u001b[1;33m:\u001b[0m \u001b[0mfloat\u001b[0m\u001b[1;33m)\u001b[0m \u001b[1;33m->\u001b[0m \u001b[0mtuple\u001b[0m\u001b[1;33m[\u001b[0m\u001b[0mfloat\u001b[0m\u001b[1;33m]\u001b[0m\u001b[1;33m\u001b[0m\u001b[1;33m\u001b[0m\u001b[0m\n",
       "\u001b[1;31mDocstring:\u001b[0m a: float - first coefficient\n",
       "\u001b[1;31mFile:\u001b[0m      c:\\users\\m050\\appdata\\local\\temp\\ipykernel_10396\\4136890208.py\n",
       "\u001b[1;31mType:\u001b[0m      function"
      ]
     },
     "metadata": {},
     "output_type": "display_data"
    }
   ],
   "source": [
    "?solve"
   ]
  },
  {
   "cell_type": "code",
   "execution_count": 18,
   "id": "3d090f99-af4e-4157-a454-bb53211d6d24",
   "metadata": {},
   "outputs": [
    {
     "data": {
      "text/plain": [
       "[0, 7, Ellipsis]"
      ]
     },
     "execution_count": 18,
     "metadata": {},
     "output_type": "execute_result"
    }
   ],
   "source": [
    "[0, 7, ...]"
   ]
  },
  {
   "cell_type": "code",
   "execution_count": null,
   "id": "e341591b-3d6e-499b-8f39-d3080231b972",
   "metadata": {},
   "outputs": [],
   "source": [
    "type()"
   ]
  },
  {
   "cell_type": "code",
   "execution_count": 16,
   "id": "2beee8cf-8e11-4d57-b444-aa3905ea9c43",
   "metadata": {},
   "outputs": [
    {
     "data": {
      "text/plain": [
       "()"
      ]
     },
     "execution_count": 16,
     "metadata": {},
     "output_type": "execute_result"
    }
   ],
   "source": [
    "()"
   ]
  },
  {
   "cell_type": "code",
   "execution_count": 17,
   "id": "b01fdfc2-ddcb-4c34-8e5a-c4ba96f85924",
   "metadata": {},
   "outputs": [
    {
     "data": {
      "text/plain": [
       "1"
      ]
     },
     "execution_count": 17,
     "metadata": {},
     "output_type": "execute_result"
    }
   ],
   "source": [
    "(1,)"
   ]
  },
  {
   "cell_type": "code",
   "execution_count": 15,
   "id": "2a4e4bd5-9d6e-4c98-9c98-cab798a760b2",
   "metadata": {},
   "outputs": [
    {
     "data": {
      "text/plain": [
       "(Ellipsis,)"
      ]
     },
     "execution_count": 15,
     "metadata": {},
     "output_type": "execute_result"
    }
   ],
   "source": [
    "((...),)"
   ]
  },
  {
   "cell_type": "code",
   "execution_count": 23,
   "id": "efc2f3de-3be3-401c-bbb4-93ed11b1f174",
   "metadata": {},
   "outputs": [
    {
     "data": {
      "text/plain": [
       "[]"
      ]
     },
     "execution_count": 23,
     "metadata": {},
     "output_type": "execute_result"
    }
   ],
   "source": [
    "solve(1, 2, 1)"
   ]
  },
  {
   "cell_type": "markdown",
   "id": "7541634b-e0be-4394-8009-9f0bb8ff83ec",
   "metadata": {},
   "source": [
    "#### Задача 1\n",
    "Напишите функцию, которая будет переводить `int` в `str` без использования функции `str()`.\n",
    "\n",
    "- без форматирования строки;\n",
    "- "
   ]
  },
  {
   "cell_type": "code",
   "execution_count": 29,
   "id": "50c81016-1507-451a-b151-aacb1faf1a73",
   "metadata": {},
   "outputs": [],
   "source": [
    "def int1_to_str(number: int) -> str:\n",
    "    return chr(48 + number)\n",
    "\n",
    "def int_to_str(number: int) -> str:\n",
    "    a_ = abs(number)\n",
    "    \n",
    "    result = ''\n",
    "    \n",
    "    while a_ > 0:\n",
    "        num = a_ % 10\n",
    "        result += int1_to_str(num)\n",
    "        a_ //= 10  # a_ = a_ // 10\n",
    "\n",
    "    result = result[::-1]  # result = '-' * (number < 0) + result[::-1]\n",
    "\n",
    "    if number < 0:\n",
    "        result = '-' + result\n",
    "\n",
    "    return result"
   ]
  },
  {
   "cell_type": "code",
   "execution_count": 43,
   "id": "5ba6416c-241a-4704-bf4e-e2ac1ce07fe2",
   "metadata": {},
   "outputs": [
    {
     "name": "stdout",
     "output_type": "stream",
     "text": [
      "39.8 ns ± 4.32 ns per loop (mean ± std. dev. of 7 runs, 10,000,000 loops each)\n"
     ]
    }
   ],
   "source": [
    "%%timeit\n",
    "\n",
    "_ = {}"
   ]
  },
  {
   "cell_type": "code",
   "execution_count": 44,
   "id": "c56f6518-8613-40a8-ad8e-f68a6bf9d2ff",
   "metadata": {},
   "outputs": [
    {
     "name": "stdout",
     "output_type": "stream",
     "text": [
      "79.2 ns ± 2.08 ns per loop (mean ± std. dev. of 7 runs, 10,000,000 loops each)\n"
     ]
    }
   ],
   "source": [
    "%%timeit\n",
    "\n",
    "_ = dict()"
   ]
  },
  {
   "cell_type": "code",
   "execution_count": 39,
   "id": "85566d4b-03d0-483b-85e5-4c5075b8ee7f",
   "metadata": {},
   "outputs": [
    {
     "data": {
      "text/plain": [
       "''"
      ]
     },
     "execution_count": 39,
     "metadata": {},
     "output_type": "execute_result"
    }
   ],
   "source": [
    "'-' * 0"
   ]
  },
  {
   "cell_type": "code",
   "execution_count": 42,
   "id": "d45a2289-fc64-4273-bf58-d0add2886ccd",
   "metadata": {},
   "outputs": [
    {
     "data": {
      "text/plain": [
       "True"
      ]
     },
     "execution_count": 42,
     "metadata": {},
     "output_type": "execute_result"
    }
   ],
   "source": [
    "issubclass(bool, int)"
   ]
  },
  {
   "cell_type": "code",
   "execution_count": 30,
   "id": "999a6923-fb1e-41ec-b15d-5cdf136fef18",
   "metadata": {},
   "outputs": [
    {
     "data": {
      "text/plain": [
       "'6'"
      ]
     },
     "execution_count": 30,
     "metadata": {},
     "output_type": "execute_result"
    }
   ],
   "source": [
    "int1_to_str(6)"
   ]
  },
  {
   "cell_type": "code",
   "execution_count": 31,
   "id": "52a4b39d-74aa-4f18-a1bd-adc18d0729dc",
   "metadata": {},
   "outputs": [
    {
     "data": {
      "text/plain": [
       "'@'"
      ]
     },
     "execution_count": 31,
     "metadata": {},
     "output_type": "execute_result"
    }
   ],
   "source": [
    "int1_to_str(16)"
   ]
  },
  {
   "cell_type": "code",
   "execution_count": null,
   "id": "4e8f6a5e-106b-40f8-9c48-1f10e8cac0d8",
   "metadata": {},
   "outputs": [],
   "source": [
    "# надо обрабатывать по одному\n",
    "\n",
    "# 816\n",
    "# 816 % 10 -> 6\n",
    "# 816 // 10 -> 81\n",
    "\n",
    "# 81\n",
    "# 81 % 10 -> 1\n",
    "# 81 // 10 -> 8"
   ]
  },
  {
   "cell_type": "code",
   "execution_count": 35,
   "id": "c4f22595-5b23-4b53-a4d1-cc448f3ec956",
   "metadata": {},
   "outputs": [],
   "source": [
    "# a = 816\n",
    "# a_ = a\n",
    "\n",
    "# result = ''\n",
    "\n",
    "# while a_ >= 10:\n",
    "#     num = a_ % 10\n",
    "#     result += int1_to_str(num)\n",
    "#     a_ //= 10  # a_ = a_ // 10\n",
    "# else:\n",
    "#     num = a_ % 10\n",
    "#     result += int1_to_str(num)"
   ]
  },
  {
   "cell_type": "code",
   "execution_count": 36,
   "id": "7442ec74-c32f-4656-bdc4-aae2e3ae0e2c",
   "metadata": {},
   "outputs": [],
   "source": [
    "a = 816\n",
    "a_ = a\n",
    "\n",
    "result = ''\n",
    "\n",
    "while a_ > 0:\n",
    "    num = a_ % 10\n",
    "    result += int1_to_str(num)\n",
    "    a_ //= 10  # a_ = a_ // 10"
   ]
  },
  {
   "cell_type": "code",
   "execution_count": 38,
   "id": "410948c7-5105-4032-aa5d-1416e9f8ae85",
   "metadata": {},
   "outputs": [
    {
     "data": {
      "text/plain": [
       "'816'"
      ]
     },
     "execution_count": 38,
     "metadata": {},
     "output_type": "execute_result"
    }
   ],
   "source": [
    "result[::-1]"
   ]
  },
  {
   "cell_type": "code",
   "execution_count": 27,
   "id": "4c89c0d3-e182-47a7-8a10-f97a43dd83b9",
   "metadata": {},
   "outputs": [
    {
     "data": {
      "text/plain": [
       "\u001b[1;31mSignature:\u001b[0m \u001b[0mchr\u001b[0m\u001b[1;33m(\u001b[0m\u001b[0mi\u001b[0m\u001b[1;33m,\u001b[0m \u001b[1;33m/\u001b[0m\u001b[1;33m)\u001b[0m\u001b[1;33m\u001b[0m\u001b[1;33m\u001b[0m\u001b[0m\n",
       "\u001b[1;31mDocstring:\u001b[0m Return a Unicode string of one character with ordinal i; 0 <= i <= 0x10ffff.\n",
       "\u001b[1;31mType:\u001b[0m      builtin_function_or_method"
      ]
     },
     "metadata": {},
     "output_type": "display_data"
    }
   ],
   "source": [
    "?chr"
   ]
  },
  {
   "cell_type": "code",
   "execution_count": 28,
   "id": "628492e5-874d-431a-a011-c02eed186e3f",
   "metadata": {},
   "outputs": [
    {
     "data": {
      "text/plain": [
       "'0'"
      ]
     },
     "execution_count": 28,
     "metadata": {},
     "output_type": "execute_result"
    }
   ],
   "source": [
    "chr(48)"
   ]
  },
  {
   "cell_type": "markdown",
   "id": "d6f46171-68f9-48cb-a090-69ab203f2b95",
   "metadata": {},
   "source": [
    "#### Задача 2\n",
    "Мы хотим автоматизировать процесс перекладки текстовых файлов с данными из хранилища в БД (Postgres). Предположим, что таблицы каждый раз разные. Соответственно, перед записью данных необходимо создать таблицу. Это можно сделать примерно так:\n",
    "\n",
    "```\n",
    "CREATE TABLE distributors (\n",
    "    did integer,\n",
    "    name varchar(40)\n",
    ");\n",
    "```\n",
    "\n",
    "PostgreSQL [располагает](https://www.postgresql.org/docs/current/datatype.html) следующими типами данных (это не все, что есть, но все, что нам сейчас пригодится):\n",
    "\n",
    "<table>\n",
    "    <tr>\n",
    "        <th>Python</th>\n",
    "        <th>PostgreSQL</th>\n",
    "    </tr>\n",
    "    <tr>\n",
    "        <td>int</td>\n",
    "        <td>smallint, integer, bigint</td>\n",
    "    </tr>\n",
    "    <tr>\n",
    "        <td>float</td>\n",
    "        <td>real</td>\n",
    "    </tr>\n",
    "    <tr>\n",
    "        <td>bool</td>\n",
    "        <td>boolean</td>\n",
    "    </tr>\n",
    "    <tr>\n",
    "        <td>str</td>\n",
    "        <td>varchar, text</td>\n",
    "    </tr>\n",
    "</table>\n",
    "\n",
    "Реализуйте соответствующую функцию. Она должна иметь следующие аргументы:\n",
    "\n",
    "- `filename` (строка) - путь к текстовому файлу;\n",
    "- `sep` (строка, по дефолту для CSV) - разделитель;\n",
    "- `tablename` (строка, по дефолту соответствует названию файла без расширения);\n",
    "- `varnames` (либо должны быть предоставлены в виде списка, либо добываются из данных если `None`);\n",
    "- `dtypes` (либо должны быть предоставлены в виде списка, либо добываются из данных если `None`).\n",
    "\n",
    "Функция должна записывать получившийся скрипт в файл 'create_table.sql' и возвращать путь к этому файлу."
   ]
  },
  {
   "cell_type": "code",
   "execution_count": null,
   "id": "d69dcc6c-d2bf-4933-80c9-69807b4ef7d6",
   "metadata": {},
   "outputs": [],
   "source": [
    "# наш код здесь"
   ]
  }
 ],
 "metadata": {
  "kernelspec": {
   "display_name": "Python 3 (ipykernel)",
   "language": "python",
   "name": "python3"
  },
  "language_info": {
   "codemirror_mode": {
    "name": "ipython",
    "version": 3
   },
   "file_extension": ".py",
   "mimetype": "text/x-python",
   "name": "python",
   "nbconvert_exporter": "python",
   "pygments_lexer": "ipython3",
   "version": "3.11.1"
  }
 },
 "nbformat": 4,
 "nbformat_minor": 5
}
