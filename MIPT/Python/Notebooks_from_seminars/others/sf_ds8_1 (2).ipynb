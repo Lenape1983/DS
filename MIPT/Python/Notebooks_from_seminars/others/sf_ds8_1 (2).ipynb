{
 "cells": [
  {
   "cell_type": "markdown",
   "id": "87dec23c",
   "metadata": {},
   "source": [
    "# Программирование на Python\n",
    "## Семинар 8. Python для анализа данных\n",
    "#### Задача 1\n",
    "Вам дан массив данных, представленный в виде списка списков. Каждый вложенный список представляет собой измерение одного параметра для разных индивидуумов. В процессе обработки данных вам часто придется сталкиваться с тем, что параметры могут иметь разную шкалу. Существуют различные способы решения данной проблемы, среди которых - т. н. стандартизация, приводящее значения к стандартному нормальному распределению (большинство значений от -3 до 3). Формула выглядит следующим образом (в данном случае `x` - каждое значение, т. е. операцию ниже необходимо выполнить с каждым значением наших данных):\n",
    "\n",
    "![standardization](https://i.ibb.co/THbWKqM/1-YSAAU-v-I8-Ol-HQz-G5-A1-Sg.png)\n",
    "\n",
    "Напишите функцию, которая выполняет эту стандартизацию для двухмерного массива. При этом должна быть предусмотрена возможность осуществить это по строкам, по колонкам и для всего массива в целом.\n",
    "\n",
    "Решите задачу в двух вариантах: 1) используя ТОЛЬКО встроенные средства Python и 2) с помощью `numpy`. Сравните эффективность двух подходов."
   ]
  },
  {
   "cell_type": "code",
   "execution_count": null,
   "id": "3decf547-699c-4ecb-98b1-b967db710583",
   "metadata": {},
   "outputs": [],
   "source": [
    "import numpy as np\n",
    "\n",
    "# (псевдо)случайно генерируем матрицу 10 * 10000 из равномерного распределения с границами от -1000 до 1000\n",
    "simulated_data = np.random.uniform(-1000, 1000, (10, 10000))\n",
    "simulated_data_list = simulated_data.tolist()"
   ]
  },
  {
   "cell_type": "code",
   "execution_count": null,
   "id": "b3e60f44-1b74-4f33-93ad-6b3fe06c1705",
   "metadata": {},
   "outputs": [],
   "source": [
    "# наш код здесь"
   ]
  },
  {
   "cell_type": "markdown",
   "id": "65cf0c47-4f55-44e6-a604-fa10f188a03e",
   "metadata": {},
   "source": [
    "#### Задача 2\n",
    "Используя средства numpy, проведите вычислительный эксперимент и выясните, можно ли считать статистически значимым результат проверки одной из выдвинутых на прошлом занятии гипотез."
   ]
  },
  {
   "cell_type": "code",
   "execution_count": null,
   "id": "1346b1da-4cf9-401b-9a45-3a0e4c720350",
   "metadata": {},
   "outputs": [],
   "source": [
    "import csv\n",
    "from collections import defaultdict\n",
    "\n",
    "path = '../Занятие 1/StudentsPerformance.csv'\n",
    "int_cols = ['math score', 'reading score', 'writing score']\n",
    "data = defaultdict(list)\n",
    "\n",
    "with open(path, mode='r', newline='') as file:\n",
    "    csvfile = csv.DictReader(file, delimiter=',')\n",
    "\n",
    "    for dct in csvfile:\n",
    "        for key, value in dct.items():\n",
    "            if key in int_cols:\n",
    "                data[key].append(int(value))\n",
    "            else:\n",
    "                data[key].append(value)"
   ]
  },
  {
   "cell_type": "code",
   "execution_count": null,
   "id": "99a53cef-2805-4b22-a4e4-e8e9d57f3ee2",
   "metadata": {},
   "outputs": [],
   "source": [
    "# наш код здесь"
   ]
  },
  {
   "cell_type": "markdown",
   "id": "ce726d23-a696-4f9e-b472-dd32c2cf653c",
   "metadata": {},
   "source": [
    "#### Задача 3\n",
    "Сделайте данное вам ниже изображение черно-белым."
   ]
  },
  {
   "cell_type": "code",
   "execution_count": null,
   "id": "210d999a-7d52-46bd-91d9-37f43c840a0c",
   "metadata": {},
   "outputs": [],
   "source": [
    "from imageio import imread\n",
    "import matplotlib.pyplot as plt\n",
    "\n",
    "img1 = imread('./google_maps.png')\n",
    "plt.imshow(img1);"
   ]
  },
  {
   "cell_type": "code",
   "execution_count": null,
   "id": "f1a646a4-6cf9-4abc-8399-5bf8c4aa3edd",
   "metadata": {},
   "outputs": [],
   "source": [
    "# наш код здесь"
   ]
  }
 ],
 "metadata": {
  "kernelspec": {
   "display_name": "Python 3 (ipykernel)",
   "language": "python",
   "name": "python3"
  },
  "language_info": {
   "codemirror_mode": {
    "name": "ipython",
    "version": 3
   },
   "file_extension": ".py",
   "mimetype": "text/x-python",
   "name": "python",
   "nbconvert_exporter": "python",
   "pygments_lexer": "ipython3",
   "version": "3.11.5"
  }
 },
 "nbformat": 4,
 "nbformat_minor": 5
}
