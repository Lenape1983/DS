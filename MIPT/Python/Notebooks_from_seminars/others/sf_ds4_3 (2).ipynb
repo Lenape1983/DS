{
 "cells": [
  {
   "cell_type": "markdown",
   "id": "87dec23c",
   "metadata": {},
   "source": [
    "# Программирование на Python\n",
    "## Семинар 4. Повторение основ\n",
    "#### Задача с прошлого занятия\n",
    "Мы хотим автоматизировать процесс перекладки текстовых файлов с данными из хранилища в БД (Postgres). Предположим, что таблицы каждый раз разные. Соответственно, перед записью данных необходимо создать таблицу. Это можно сделать примерно так:\n",
    "\n",
    "```\n",
    "CREATE TABLE distributors (\n",
    "    did integer,\n",
    "    name varchar(40)\n",
    ");\n",
    "```\n",
    "\n",
    "PostgreSQL [располагает](https://www.postgresql.org/docs/current/datatype.html) следующими типами данных (это не все, что есть, но все, что нам сейчас пригодится):\n",
    "\n",
    "<table>\n",
    "    <tr>\n",
    "        <th>Python</th>\n",
    "        <th>PostgreSQL</th>\n",
    "    </tr>\n",
    "    <tr>\n",
    "        <td>int</td>\n",
    "        <td>smallint, integer, bigint</td>\n",
    "    </tr>\n",
    "    <tr>\n",
    "        <td>float</td>\n",
    "        <td>real</td>\n",
    "    </tr>\n",
    "    <tr>\n",
    "        <td>bool</td>\n",
    "        <td>boolean</td>\n",
    "    </tr>\n",
    "    <tr>\n",
    "        <td>str</td>\n",
    "        <td>varchar, text</td>\n",
    "    </tr>\n",
    "</table>\n",
    "\n",
    "Реализуйте соответствующую функцию. Она должна иметь следующие аргументы:\n",
    "\n",
    "- `filename` (строка) - путь к текстовому файлу;\n",
    "- `sep` (строка, по дефолту для CSV) - разделитель;\n",
    "- `tablename` (строка, по дефолту соответствует названию файла без расширения);\n",
    "- `varnames` (либо должны быть предоставлены в виде списка, либо добываются из данных если `None`);\n",
    "- `dtypes` (либо должны быть предоставлены в виде списка, либо добываются из данных если `None`).\n",
    "\n",
    "Функция должна записывать получившийся скрипт в файл 'create_table.sql' и возвращать путь к этому файлу."
   ]
  },
  {
   "cell_type": "code",
   "execution_count": null,
   "id": "80823527-ab9b-41f9-a68c-680dcd0ee53e",
   "metadata": {},
   "outputs": [],
   "source": [
    "# check if bool\n",
    "# check if int\n",
    "# check if float\n",
    "# else str"
   ]
  },
  {
   "cell_type": "code",
   "execution_count": 58,
   "id": "3f0e25e9-6a59-442f-a9ed-16e30bdd586d",
   "metadata": {},
   "outputs": [],
   "source": [
    "big_list = list(range(100000))\n",
    "big_set = set(range(100000))"
   ]
  },
  {
   "cell_type": "code",
   "execution_count": 59,
   "id": "bc4a8e6c-84db-4b65-a9d5-05ff04913e81",
   "metadata": {},
   "outputs": [
    {
     "name": "stdout",
     "output_type": "stream",
     "text": [
      "705 µs ± 81.2 µs per loop (mean ± std. dev. of 7 runs, 1,000 loops each)\n"
     ]
    }
   ],
   "source": [
    "%%timeit\n",
    "\n",
    "_ = 50000 in big_list"
   ]
  },
  {
   "cell_type": "code",
   "execution_count": 60,
   "id": "8462e88d-8ca5-4bdc-b514-6a1c22e3bbe8",
   "metadata": {},
   "outputs": [
    {
     "name": "stdout",
     "output_type": "stream",
     "text": [
      "53.2 ns ± 1.67 ns per loop (mean ± std. dev. of 7 runs, 10,000,000 loops each)\n"
     ]
    }
   ],
   "source": [
    "%%timeit\n",
    "\n",
    "_ = 50000 in big_set"
   ]
  },
  {
   "cell_type": "code",
   "execution_count": 61,
   "id": "219d169b-7d47-4b27-a27d-c8c47461b1d5",
   "metadata": {},
   "outputs": [],
   "source": [
    "_ = 1"
   ]
  },
  {
   "cell_type": "code",
   "execution_count": 63,
   "id": "aa4f8aff-62b0-48e8-bc6e-fc33e70d01fc",
   "metadata": {},
   "outputs": [],
   "source": [
    "a, b, _ = (4, False, 'a')"
   ]
  },
  {
   "cell_type": "code",
   "execution_count": 25,
   "id": "c40b3125-d7e5-45b4-a9ec-eaea3591b568",
   "metadata": {},
   "outputs": [
    {
     "name": "stdout",
     "output_type": "stream",
     "text": [
      "(1, 2, 3)\n",
      "(3, 2, 1)\n"
     ]
    }
   ],
   "source": [
    "triplets = [(1, 2, 3), (3, 2, 1)]\n",
    "\n",
    "for tpl in triplets:\n",
    "    print(tpl)"
   ]
  },
  {
   "cell_type": "code",
   "execution_count": null,
   "id": "df234822-ae60-42de-a35d-e87d4a5f0dd7",
   "metadata": {},
   "outputs": [],
   "source": [
    "for tpl in triplets:\n",
    "    val1, val2, val3 = tpl\n",
    "    print(val1, val2, val3)"
   ]
  },
  {
   "cell_type": "code",
   "execution_count": 26,
   "id": "2ae2ae4d-20e6-4bc3-a0d9-35e2b8b047ee",
   "metadata": {},
   "outputs": [
    {
     "name": "stdout",
     "output_type": "stream",
     "text": [
      "1 2 3\n",
      "3 2 1\n"
     ]
    }
   ],
   "source": [
    "for val1, val2, val3 in triplets:\n",
    "    print(val1, val2, val3)"
   ]
  },
  {
   "cell_type": "code",
   "execution_count": 10,
   "id": "dcd5a0f9-4427-4ee0-beff-a2bfddf21518",
   "metadata": {},
   "outputs": [
    {
     "data": {
      "text/plain": [
       "False"
      ]
     },
     "execution_count": 10,
     "metadata": {},
     "output_type": "execute_result"
    }
   ],
   "source": [
    "all([True, True, 1, ''])"
   ]
  },
  {
   "cell_type": "code",
   "execution_count": 11,
   "id": "ffa900ae-f9c9-43bb-9e89-bcd78268d8af",
   "metadata": {},
   "outputs": [
    {
     "data": {
      "text/plain": [
       "False"
      ]
     },
     "execution_count": 11,
     "metadata": {},
     "output_type": "execute_result"
    }
   ],
   "source": [
    "all(i == 2 for i in range(10))"
   ]
  },
  {
   "cell_type": "code",
   "execution_count": 44,
   "id": "d69dcc6c-d2bf-4933-80c9-69807b4ef7d6",
   "metadata": {},
   "outputs": [],
   "source": [
    "import re\n",
    "\n",
    "trash_symbols = '\\t\" \\n'\n",
    "pattern_int = re.compile('-{0,1}\\d+')\n",
    "pattern_float = re.compile('-{0,1}\\d+\\.\\d*')\n",
    "template = 'CREATE TABLE \"{tablename}\" (\\n{pairs}\\n);'\n",
    "\n",
    "def check_bool(value: str) -> bool:\n",
    "    return value.lower() in {'false', 'true'}\n",
    "\n",
    "def check_int(value: str) -> bool:\n",
    "    return pattern_int.fullmatch(value) is not None\n",
    "\n",
    "def check_float(value: str) -> bool:\n",
    "    return pattern_float.fullmatch(value) is not None\n",
    "\n",
    "def check_dtype(vector, fun) -> bool:\n",
    "    indicator = all(fun(value) for value in vector)\n",
    "\n",
    "    return indicator\n",
    "\n",
    "def guess_dtype(vector) -> str:\n",
    "    if check_dtype(vector, check_bool):\n",
    "        return 'boolean'\n",
    "    elif check_dtype(vector, check_int):\n",
    "        return 'integer'\n",
    "    elif check_dtype(vector, check_float):\n",
    "        return 'float'\n",
    "    else:\n",
    "        return 'text'\n",
    "\n",
    "def extract_from_path(filename: str) -> str:\n",
    "    slash_index = filename.rfind('/')  # path[::-1].find('/')\n",
    "    dot_index = filename.rfind('.')\n",
    "    \n",
    "    return filename[slash_index + 1:dot_index]\n",
    "\n",
    "def sql_from_file(\n",
    "    filename: str,\n",
    "    sep=',',\n",
    "    tablename=None,\n",
    "    varnames=None,\n",
    "    dtypes=None,\n",
    "    request_file='script.sql'\n",
    ") -> str:\n",
    "    '''\n",
    "    filename: path to file with data\n",
    "    sep: ...\n",
    "    '''\n",
    "    # load file\n",
    "    with open(filename, 'r') as file:  # file = open(path, 'r')\n",
    "        lines = []\n",
    "    \n",
    "        for line in file:  # iter(file) ...\n",
    "            line_clean = [object.strip(trash_symbols) for object in line.split(sep)]\n",
    "            \n",
    "            lines.append(line_clean)\n",
    "\n",
    "    # get tablename\n",
    "    if tablename is None:\n",
    "        tablename = extract_from_path(filename)\n",
    "\n",
    "    # get varnames\n",
    "    if varnames is None:\n",
    "        varnames = lines[0].copy()  # list(lines[0])\n",
    "\n",
    "    # reshape lines\n",
    "    lines_t = zip(*lines[1:])\n",
    "    \n",
    "    # get dtypes\n",
    "    if dtypes is None:\n",
    "        dtypes = [guess_dtype(column) for column in lines_t]\n",
    "\n",
    "    # create request\n",
    "    pairs = ',\\n'.join([f'    \"{name}\" {dtype}' for name, dtype in zip(varnames, dtypes)])\n",
    "    request = template.format(tablename=tablename, pairs=pairs)\n",
    "    \n",
    "    # save request\n",
    "    with open(request_file, 'w') as file:\n",
    "        file.write(request)\n",
    "        \n",
    "    return request_file"
   ]
  },
  {
   "cell_type": "code",
   "execution_count": 45,
   "id": "c9183f9a-3ac8-4ad2-99a3-b782200ba21c",
   "metadata": {},
   "outputs": [],
   "source": [
    "path = '../Занятие 1/StudentsPerformance.csv'\n",
    "\n",
    "script_file = sql_from_file(\n",
    "    path\n",
    ")"
   ]
  },
  {
   "cell_type": "code",
   "execution_count": 19,
   "id": "d279fb95-b750-4a7a-8185-cec7b0471d04",
   "metadata": {},
   "outputs": [
    {
     "data": {
      "text/plain": [
       "('StudentsPerformance',\n",
       " ['gender',\n",
       "  'race/ethnicity',\n",
       "  'parental level of education',\n",
       "  'lunch',\n",
       "  'test preparation course',\n",
       "  'math score',\n",
       "  'reading score',\n",
       "  'writing score'],\n",
       " ['text', 'text', 'text', 'text', 'text', 'integer', 'integer', 'integer'])"
      ]
     },
     "execution_count": 19,
     "metadata": {},
     "output_type": "execute_result"
    }
   ],
   "source": [
    "tname, vnames, types"
   ]
  },
  {
   "cell_type": "code",
   "execution_count": 33,
   "id": "ec527c41-3df3-400e-8e14-1100c529bebc",
   "metadata": {},
   "outputs": [
    {
     "data": {
      "text/plain": [
       "'    \"gender\" text,\\n    \"race/ethnicity\" text,\\n    \"parental level of education\" text,\\n    \"lunch\" text,\\n    \"test preparation course\" text,\\n    \"math score\" integer,\\n    \"reading score\" integer,\\n    \"writing score\" integer'"
      ]
     },
     "execution_count": 33,
     "metadata": {},
     "output_type": "execute_result"
    }
   ],
   "source": [
    "pairs = ',\\n'.join([f'    \"{name}\" {dtype}' for name, dtype in zip(vnames, types)])\n",
    "pairs"
   ]
  },
  {
   "cell_type": "code",
   "execution_count": 40,
   "id": "030e2bc5-3f68-403c-aeac-2065750e72c8",
   "metadata": {},
   "outputs": [],
   "source": [
    "template = 'CREATE TABLE \"{tablename}\" (\\n{pairs}\\n);'"
   ]
  },
  {
   "cell_type": "code",
   "execution_count": 41,
   "id": "adfa1bec-82c1-4c93-b3cc-dd1f537b7291",
   "metadata": {},
   "outputs": [
    {
     "name": "stdout",
     "output_type": "stream",
     "text": [
      "CREATE TABLE \"StudentsPerformance\" (\n",
      "    \"gender\" text,\n",
      "    \"race/ethnicity\" text,\n",
      "    \"parental level of education\" text,\n",
      "    \"lunch\" text,\n",
      "    \"test preparation course\" text,\n",
      "    \"math score\" integer,\n",
      "    \"reading score\" integer,\n",
      "    \"writing score\" integer\n",
      ");\n"
     ]
    }
   ],
   "source": [
    "print(template.format(tablename=tname, pairs=pairs))"
   ]
  },
  {
   "cell_type": "code",
   "execution_count": null,
   "id": "037d5313-f4a6-4bd3-99f8-7419305b8fd4",
   "metadata": {},
   "outputs": [],
   "source": [
    "CREATE TABLE distributors (\n",
    "    did integer,\n",
    "    name varchar(40)\n",
    ");"
   ]
  },
  {
   "cell_type": "code",
   "execution_count": null,
   "id": "a9869e70-51f6-4aad-9239-6453080624df",
   "metadata": {},
   "outputs": [],
   "source": []
  },
  {
   "cell_type": "code",
   "execution_count": 16,
   "id": "94b5e337-eea3-459d-a8e4-9ecc7cb0c291",
   "metadata": {},
   "outputs": [
    {
     "data": {
      "text/plain": [
       "'integer'"
      ]
     },
     "execution_count": 16,
     "metadata": {},
     "output_type": "execute_result"
    }
   ],
   "source": [
    "guess_dtype(check[-1])"
   ]
  },
  {
   "cell_type": "code",
   "execution_count": 64,
   "id": "5c8df803-9137-4d94-919f-ce42de0eac4d",
   "metadata": {},
   "outputs": [],
   "source": [
    "import re"
   ]
  },
  {
   "cell_type": "code",
   "execution_count": 75,
   "id": "ef9b14e4-ff73-4213-9ca7-43041d58dfb0",
   "metadata": {},
   "outputs": [
    {
     "data": {
      "text/plain": [
       "148.0"
      ]
     },
     "execution_count": 75,
     "metadata": {},
     "output_type": "execute_result"
    }
   ],
   "source": [
    "148."
   ]
  },
  {
   "cell_type": "code",
   "execution_count": null,
   "id": "6903c244-0d39-49c2-bcde-3477695c7ede",
   "metadata": {},
   "outputs": [],
   "source": [
    "'-{0,1}'"
   ]
  },
  {
   "cell_type": "code",
   "execution_count": 76,
   "id": "0e9a1881-141e-4661-a660-afca9ba10cd0",
   "metadata": {},
   "outputs": [],
   "source": [
    "pattern_float = re.compile('-{0,1}\\d+\\.\\d*')"
   ]
  },
  {
   "cell_type": "code",
   "execution_count": 67,
   "id": "06c35ea4-bc60-4082-9c36-613adcc9b2ac",
   "metadata": {},
   "outputs": [],
   "source": [
    "pattern_int = re.compile('-{0,1}\\d+')"
   ]
  },
  {
   "cell_type": "code",
   "execution_count": 74,
   "id": "cb54f02d-b268-48d8-bf61-eed6cf0954ec",
   "metadata": {},
   "outputs": [],
   "source": [
    "pattern_int.fullmatch('-123.93')"
   ]
  },
  {
   "cell_type": "code",
   "execution_count": 68,
   "id": "c43992cb-2da9-448b-b4c1-5e5f0bbea5da",
   "metadata": {},
   "outputs": [
    {
     "data": {
      "text/plain": [
       "<re.Match object; span=(0, 4), match='-123'>"
      ]
     },
     "execution_count": 68,
     "metadata": {},
     "output_type": "execute_result"
    }
   ],
   "source": [
    "pattern_int.search('-123')"
   ]
  },
  {
   "cell_type": "code",
   "execution_count": 69,
   "id": "7d4d5151-20d0-4500-a8e7-bebbeab48cf8",
   "metadata": {},
   "outputs": [
    {
     "data": {
      "text/plain": [
       "<re.Match object; span=(0, 4), match='-123'>"
      ]
     },
     "execution_count": 69,
     "metadata": {},
     "output_type": "execute_result"
    }
   ],
   "source": [
    "pattern_int.search('-123amcskmcksa')"
   ]
  },
  {
   "cell_type": "code",
   "execution_count": 70,
   "id": "b3fe3d67-8de4-4382-9b57-24294dcdefe5",
   "metadata": {},
   "outputs": [
    {
     "data": {
      "text/plain": [
       "<re.Match object; span=(10, 14), match='-123'>"
      ]
     },
     "execution_count": 70,
     "metadata": {},
     "output_type": "execute_result"
    }
   ],
   "source": [
    "pattern_int.search('amcskmcksa-123')"
   ]
  },
  {
   "cell_type": "code",
   "execution_count": 71,
   "id": "38d213f3-bf22-4e47-83a3-4ac269e7e463",
   "metadata": {},
   "outputs": [
    {
     "data": {
      "text/plain": [
       "<re.Match object; span=(0, 4), match='-123'>"
      ]
     },
     "execution_count": 71,
     "metadata": {},
     "output_type": "execute_result"
    }
   ],
   "source": [
    "pattern_int.search('-123amcskmcksa-123')"
   ]
  },
  {
   "cell_type": "code",
   "execution_count": 41,
   "id": "2f124b78-cbe1-4dfa-b662-d70294218251",
   "metadata": {},
   "outputs": [],
   "source": [
    "list_of_lists = [\n",
    "    [1, 2, 3],\n",
    "    [3, 2, 1]\n",
    "]\n",
    "lst = list_of_lists[1].copy()"
   ]
  },
  {
   "cell_type": "code",
   "execution_count": 42,
   "id": "e0caf8de-ff88-4606-8ebb-edad48a514d4",
   "metadata": {},
   "outputs": [],
   "source": [
    "lst.sort()"
   ]
  },
  {
   "cell_type": "code",
   "execution_count": 43,
   "id": "c493a03f-95d6-42fc-b030-11ea4e18176a",
   "metadata": {},
   "outputs": [
    {
     "data": {
      "text/plain": [
       "[[1, 2, 3], [3, 2, 1]]"
      ]
     },
     "execution_count": 43,
     "metadata": {},
     "output_type": "execute_result"
    }
   ],
   "source": [
    "list_of_lists"
   ]
  },
  {
   "cell_type": "code",
   "execution_count": 14,
   "id": "d084ae1b-f538-4a1f-80ed-d7a95466c30e",
   "metadata": {},
   "outputs": [],
   "source": [
    "path = '../Занятие 1/StudentsPerformance.csv'"
   ]
  },
  {
   "cell_type": "code",
   "execution_count": 33,
   "id": "67e4c7cd-3fb1-4fc3-b957-3f7db9289252",
   "metadata": {},
   "outputs": [],
   "source": [
    "trash_symbols = '\\t\" \\n'\n",
    "\n",
    "with open(path, 'r') as file:  # file = open(path, 'r')\n",
    "    lines = []\n",
    "\n",
    "    for line in file:  # iter(file) ...\n",
    "        line_clean = [object.strip(trash_symbols) for object in line.split(',')]\n",
    "        \n",
    "        lines.append(line_clean)"
   ]
  },
  {
   "cell_type": "code",
   "execution_count": 49,
   "id": "36af3260-a0a6-4539-9bde-3ac3d45849d3",
   "metadata": {},
   "outputs": [
    {
     "data": {
      "text/plain": [
       "[(1, 'a', True), (2, 'b', False)]"
      ]
     },
     "execution_count": 49,
     "metadata": {},
     "output_type": "execute_result"
    }
   ],
   "source": [
    "list(zip([1, 2, 3], ['a', 'b', 'c'], [True, False]))  # *args"
   ]
  },
  {
   "cell_type": "code",
   "execution_count": 51,
   "id": "76b6fc4c-ca15-4832-9f91-fb9ca1fd8e1c",
   "metadata": {},
   "outputs": [
    {
     "name": "stdout",
     "output_type": "stream",
     "text": [
      "[1, 2, 3]\n"
     ]
    }
   ],
   "source": [
    "print([1, 2, 3], sep=':')"
   ]
  },
  {
   "cell_type": "code",
   "execution_count": 52,
   "id": "ba0020fc-09b3-4451-9176-2f152c2fe46b",
   "metadata": {},
   "outputs": [
    {
     "name": "stdout",
     "output_type": "stream",
     "text": [
      "1:2:3\n"
     ]
    }
   ],
   "source": [
    "print(*[1, 2, 3], sep=':')"
   ]
  },
  {
   "cell_type": "code",
   "execution_count": 53,
   "id": "ed4ab2c3-7191-4a62-ad9b-29f6fd4801f2",
   "metadata": {},
   "outputs": [],
   "source": [
    "lines_t = list(zip(*lines[1:]))"
   ]
  },
  {
   "cell_type": "code",
   "execution_count": 56,
   "id": "22bce8ca-4957-442d-875d-c679da5078a7",
   "metadata": {},
   "outputs": [
    {
     "data": {
      "text/plain": [
       "['female',\n",
       " 'group B',\n",
       " \"bachelor's degree\",\n",
       " 'standard',\n",
       " 'none',\n",
       " '72',\n",
       " '72',\n",
       " '74']"
      ]
     },
     "execution_count": 56,
     "metadata": {},
     "output_type": "execute_result"
    }
   ],
   "source": [
    "lines[1]"
   ]
  },
  {
   "cell_type": "code",
   "execution_count": 55,
   "id": "7b41880a-f9cc-4115-9fb1-788c4db206da",
   "metadata": {},
   "outputs": [
    {
     "data": {
      "text/plain": [
       "8"
      ]
     },
     "execution_count": 55,
     "metadata": {},
     "output_type": "execute_result"
    }
   ],
   "source": [
    "len(lines_t)"
   ]
  },
  {
   "cell_type": "code",
   "execution_count": 34,
   "id": "6a16228c-75bd-4e58-8b82-044a7999611d",
   "metadata": {},
   "outputs": [
    {
     "data": {
      "text/plain": [
       "['gender',\n",
       " 'race/ethnicity',\n",
       " 'parental level of education',\n",
       " 'lunch',\n",
       " 'test preparation course',\n",
       " 'math score',\n",
       " 'reading score',\n",
       " 'writing score']"
      ]
     },
     "execution_count": 34,
     "metadata": {},
     "output_type": "execute_result"
    }
   ],
   "source": [
    "lines[0]"
   ]
  },
  {
   "cell_type": "markdown",
   "id": "73e5b02e-4788-4514-8bd9-31f93ea381f1",
   "metadata": {},
   "source": [
    "#### Задача 1\n",
    "\n",
    "Известно, что подготовка и исследование данных для машинного обучения занимают куда больше времени, чем собственно машинное обучение. В частности, существует такая процедура, как создание т. н. dummy-переменных.\n",
    "\n",
    "![dummy](https://www.statology.org/wp-content/uploads/2021/02/dummyvartrap1-768x344.png)\n",
    "\n",
    "В `pandas` уже есть функция, которая принимает на вход текстовую колонку таблицы и возвращает вместо нее много колонок с dummy-переменными. Однако проблема в том, что в ваших данных есть переменные, значения которых представляют из себя словосочетания со знаками препинания (количество таких слов формально не ограничено). Некоторые алгоритмы \"любят\" только простые названия переменных вида `variable` или `simple_variable`. Кроме того, так или иначе для последующей работы неплохо было бы стандартизировать все названия.\n",
    "\n",
    "Поэтому вам нужно создать функцию, которая бы принимала на вход список из значений переменной и производила следующую предобработку всех значений в колонке:\n",
    "\n",
    "- удаление всех знаков препинания;\n",
    "- приведение всех букв к нижнему регистру;\n",
    "- замену всех пробелов на нижнее подчеркивание;\n",
    "- ограничение длины каждого слова первыми четырьмя буквами.\n",
    "\n",
    "Функция должна возвращать словарь (т. н. mapper), по которому можно преобразовать переменную в новый вид (с помощью методов `.map()` / `.apply` - о них вам расскажут позднее). Ключами должны быть старые значения, а собственно значениями - новые.\n",
    "\n",
    "Не всегда бывает так, что значения переменной написаны на латинице. Напишите вашу функцию таким образом, чтобы по дефолту она обрабатывала англоязычные переменные, но также имела возможность (при соответствующем значении аргумента) обработать и кириллические. Вам может пригодиться функция `translit` из модуля `transliterate` (пример работы с кириллицей можете найти ниже).\n",
    "\n",
    "**Пример**\n",
    "\n",
    "```\n",
    "function input:\n",
    "['Agree', 'Agree', 'Neither agree nor disagree', \"Don't know\", 'Neither agree nor disagree', 'Neither agree nor disagree', 'Disagree', 'No answer', 'Agree strongly', 'No answer', 'Agree', 'Refusal', 'Refusal', 'Disagree strongly', 'Disagree']\n",
    "\n",
    "function return:\n",
    "{\n",
    "    'Agree strongly': 'agre_stro',\n",
    "    'Agree': 'agre',\n",
    "    'Neither agree nor disagree': 'neit_agre_nor_disa',\n",
    "    'Disagree': 'disa',\n",
    "    'Disagree strongly': 'disa_stro',\n",
    "    'Refusal': 'refu',\n",
    "    \"Don't know\": 'dont_know',\n",
    "    'No answer': 'no_answ'\n",
    "}\n",
    "```"
   ]
  },
  {
   "cell_type": "code",
   "execution_count": 46,
   "id": "1bd4e17b-f0f9-4919-9273-60899f990d91",
   "metadata": {},
   "outputs": [],
   "source": [
    "import re\n",
    "\n",
    "from string import punctuation"
   ]
  },
  {
   "cell_type": "code",
   "execution_count": 48,
   "id": "b0aade56-a71e-414e-8c95-79d9f3a7bf89",
   "metadata": {},
   "outputs": [
    {
     "name": "stdout",
     "output_type": "stream",
     "text": [
      "!\"#$%&'()*+,-./:;<=>?@[\\]^_`{|}~\n"
     ]
    }
   ],
   "source": [
    "print(punctuation)"
   ]
  },
  {
   "cell_type": "code",
   "execution_count": null,
   "id": "bc83e8bd-45d7-4f3d-9e88-4c566dabfa01",
   "metadata": {},
   "outputs": [],
   "source": [
    "+7(000)985-"
   ]
  },
  {
   "cell_type": "code",
   "execution_count": 53,
   "id": "406fbbfd-11dd-483e-9691-21e334da5864",
   "metadata": {},
   "outputs": [],
   "source": [
    "pattern = re.compile('[-\\(\\)]')"
   ]
  },
  {
   "cell_type": "code",
   "execution_count": 54,
   "id": "01dc7913-5f31-4c5e-88bd-604f6fa68667",
   "metadata": {},
   "outputs": [
    {
     "data": {
      "text/plain": [
       "'+70009850000'"
      ]
     },
     "execution_count": 54,
     "metadata": {},
     "output_type": "execute_result"
    }
   ],
   "source": [
    "pattern.sub('', '+7(000)985-00-00')"
   ]
  },
  {
   "cell_type": "code",
   "execution_count": null,
   "id": "4c690ce2-483f-47a8-b167-09b0bd5a5c80",
   "metadata": {},
   "outputs": [],
   "source": [
    "# пример работы функции translit\n",
    "\n",
    "from transliterate import translit\n",
    "\n",
    "print(translit('Полностью не согласен', 'ru', reversed=True))"
   ]
  },
  {
   "cell_type": "code",
   "execution_count": null,
   "id": "575128ed-9284-4f46-9e0c-78e5efc83e07",
   "metadata": {},
   "outputs": [],
   "source": [
    "# наш код здесь"
   ]
  },
  {
   "cell_type": "markdown",
   "id": "d1e8a49c-a986-492d-af9f-229630ff7621",
   "metadata": {},
   "source": [
    "#### Задача 2\n",
    "Предположим, что перед нами стоит задача создать dummy-переменные в PostgreSQL. К сожалению, это не `pandas`, и готовой функции на этот случай не предусмотрено. Однако вы знаете, что можно создавать новые переменные базируясь на значении старых используя конструкцию case...when...then...end:\n",
    "\n",
    "```\n",
    "PostgreSQL:\n",
    "CASE WHEN <condition> THEN <value1> ELSE <value2> END AS <variable_name>\n",
    "В ТОМ СЛУЧАЕ КОГДА <условие> ТОГДА <значение1> ИНАЧЕ <значение2> КОНЕЦ НАЗВАТЬ <имя_переменной>\n",
    "\n",
    "Python:\n",
    "if <condition>:\n",
    "    <value1>\n",
    "else:\n",
    "    <value2>\n",
    "```\n",
    "\n",
    "Если категорий немного, то написать такой код несложно. Однако что делать, если их, к примеру, 100? В этом случае придется писать `CASE WHEN` столько раз, сколько уникальных значений содержит ваша переменная, да еще и придумывать каждый раз соответствующее название.\n",
    "\n",
    "Используйте свои знания Python, чтобы автоматизировать процесс написания SQL-запроса. Напишите соответствующую функцию. Для автоматизированной генерации названия переменной используйте наработки предыдущей задачи. Учтите, что значения переменной не обязательно будут написаны на латинице.\n",
    "\n",
    "На выходе функция должна печатать (в таком же формате, как в примере ниже) законченный блок SQL-запроса.\n",
    "\n",
    "**Пример**\n",
    "```\n",
    "function return:\n",
    "    CASE WHEN gincdif = 'Agree strongly' THEN 1 ELSE 0 END AS agre_stro,\n",
    "    CASE WHEN gincdif = 'Agree' THEN 1 ELSE 0 END AS agre,\n",
    "    CASE WHEN gincdif = 'Neither agree nor disagree' THEN 1 ELSE 0 END AS neit_agre_nor_disa,\n",
    "    CASE WHEN gincdif = 'Disagree' THEN 1 ELSE 0 END AS disa,\n",
    "    CASE WHEN gincdif = 'Disagree strongly' THEN 1 ELSE 0 END AS disa_stro,\n",
    "    CASE WHEN gincdif = 'Refusal' THEN 1 ELSE 0 END AS refu,\n",
    "    CASE WHEN ginsdif = \"Don't know\" THEN 1 ELSE 0 END AS dont_know,\n",
    "    CASE WHEN ginsdif = \"No answer\" THEN 1 ELSE 0 END AS no_answ\n",
    "```"
   ]
  },
  {
   "cell_type": "code",
   "execution_count": null,
   "id": "f2c7b0e3-ae9c-490d-8da2-eca6c413f2bb",
   "metadata": {},
   "outputs": [],
   "source": [
    "# наш код здесь"
   ]
  },
  {
   "cell_type": "markdown",
   "id": "007b6ac9-8ffa-48e7-a172-7e16446f0b1a",
   "metadata": {},
   "source": [
    "#### Задача к занятию"
   ]
  },
  {
   "cell_type": "code",
   "execution_count": null,
   "id": "a206f58e-ed97-43c3-bc0a-a6b559a9cf91",
   "metadata": {},
   "outputs": [],
   "source": [
    "import os\n",
    "def get_tree(folder_path, level=0):\n",
    "    dirnames = [d for d in os.listdir(folder_path) if os.path.isdir(os.path.join(folder_path, d))]\n",
    "    filenames = [d for d in os.listdir(folder_path) if os.path.isfile(os.path.join(folder_path, d))]\n",
    "    \n",
    "    sorted_list = sorted(dirnames + filenames)\n",
    "    \n",
    "    for s in sorted_list:\n",
    "        if s in filenames:\n",
    "            print(\"   \" * level, s)\n",
    "\n",
    "        else:\n",
    "            print(\"   \" * level, s)\n",
    "            get_tree(os.path.join(folder_path, s), level=level+1)"
   ]
  },
  {
   "cell_type": "code",
   "execution_count": 1,
   "id": "10fd67a5-a923-45cb-8ac9-1f8faa12ffad",
   "metadata": {},
   "outputs": [],
   "source": [
    "from pathlib import Path"
   ]
  },
  {
   "cell_type": "code",
   "execution_count": 2,
   "id": "90f90132-e97b-4f4f-b01e-f509fc8c264d",
   "metadata": {},
   "outputs": [],
   "source": [
    "current_path = Path('.')"
   ]
  },
  {
   "cell_type": "code",
   "execution_count": 3,
   "id": "519b1d13-f1c3-4897-8ba3-60e9933fe114",
   "metadata": {},
   "outputs": [
    {
     "data": {
      "text/plain": [
       "WindowsPath('C:/Users/M050/Desktop/Работа/SkillFactory/Науки о данных/Занятие 4')"
      ]
     },
     "execution_count": 3,
     "metadata": {},
     "output_type": "execute_result"
    }
   ],
   "source": [
    "current_path.resolve()"
   ]
  },
  {
   "cell_type": "code",
   "execution_count": 5,
   "id": "8c993e2d-92fd-4038-8163-8247c0c4f897",
   "metadata": {},
   "outputs": [
    {
     "data": {
      "text/plain": [
       "WindowsPath('C:/Users/M050/Desktop/Работа/SkillFactory/Науки о данных')"
      ]
     },
     "execution_count": 5,
     "metadata": {},
     "output_type": "execute_result"
    }
   ],
   "source": [
    "current_path.resolve().parent"
   ]
  },
  {
   "cell_type": "code",
   "execution_count": 7,
   "id": "9831d6da-8618-42ae-9c6f-a5d902cb062a",
   "metadata": {},
   "outputs": [
    {
     "data": {
      "text/plain": [
       "WindowsPath('C:/Users/M050/Desktop/Работа/SkillFactory/Науки о данных/Занятие 4/folder')"
      ]
     },
     "execution_count": 7,
     "metadata": {},
     "output_type": "execute_result"
    }
   ],
   "source": [
    "current_path.resolve() / 'folder'"
   ]
  },
  {
   "cell_type": "markdown",
   "id": "7df8d4d2-bb08-4bc8-8fe2-48e597ee3600",
   "metadata": {},
   "source": [
    "#### Задача на дом\n",
    "На вход подаются значения через ':' (ОДНА СТРОКА):\n",
    "\n",
    "```\n",
    "value1:value2:value3:value4\n",
    "value1:value2:value3\n",
    "value1:value2:value3:\n",
    ":value1:value2:value3\n",
    "\n",
    ":::\n",
    "```\n",
    "\n",
    "Необходимо создать словарь, в котором ключами будут значения с нечетной позицией, а значениями - с четной. Необходимо, чтобы из этого словаря можно было восстановить входную строку (но пары могут меняться местами).\n",
    "\n",
    "```\n",
    "In: value1:value2:value3:value4\n",
    "Out: value3:value4:value1:value2\n",
    "```"
   ]
  }
 ],
 "metadata": {
  "kernelspec": {
   "display_name": "Python 3 (ipykernel)",
   "language": "python",
   "name": "python3"
  },
  "language_info": {
   "codemirror_mode": {
    "name": "ipython",
    "version": 3
   },
   "file_extension": ".py",
   "mimetype": "text/x-python",
   "name": "python",
   "nbconvert_exporter": "python",
   "pygments_lexer": "ipython3",
   "version": "3.11.1"
  }
 },
 "nbformat": 4,
 "nbformat_minor": 5
}
