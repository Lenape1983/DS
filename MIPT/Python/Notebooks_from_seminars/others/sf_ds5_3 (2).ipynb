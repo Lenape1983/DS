{
 "cells": [
  {
   "cell_type": "markdown",
   "id": "87dec23c",
   "metadata": {},
   "source": [
    "# Программирование на Python\n",
    "## Семинар 5. Повторение основ\n",
    "\n",
    "Имеются данные по сотрудникам некоторой Компании. Они устроены следующим образом. Компания подразделяется на Блоки, Блоки - на Департаменты. Название Департамента необязательно уникально. От отдела кадров по результатам некоторого тестирования вам пришли файлы со статистиками по сотрудникам. Они находятся в папке `data`.\n",
    "\n",
    "Также существует справочник электронных почт руководителей Департаментов и шаблон письма (папка `sources`).\n",
    "\n",
    "#### Задача\n",
    "\n",
    "- изучить файлы от отдела кадров, понять общую структуру;\n",
    "- на их основании определить среднее значение по каждой из статистик в разрезе Департамента (и проинтерпретировать его - выше или ниже среднего значения по всей компании);\n",
    "- составить по результатам письмо руководителю каждого из Департаментов;\n",
    "- автоматически разослать его, используя ваш корпоративный аккаунт."
   ]
  },
  {
   "cell_type": "code",
   "execution_count": 4,
   "id": "92e8349c-d444-41f3-9a5e-006046cc67f2",
   "metadata": {},
   "outputs": [],
   "source": [
    "from pathlib import Path  # для ООП-работы с файловой системой\n",
    "import openpyxl\n",
    "from email.mime.text import MIMEText  # для создание email'а по протоколу MIME (для дальнейшей передачи)\n",
    "from email.mime.multipart import MIMEMultipart\n",
    "import smtplib  # для SMTP подключения\n",
    "from configparser import ConfigParser  # для парсинга конфигов\n",
    "from time import sleep  # для задержки при отправке"
   ]
  },
  {
   "cell_type": "code",
   "execution_count": 5,
   "id": "39e4cfea-bdfb-41d1-a2e4-1677dcaad807",
   "metadata": {},
   "outputs": [],
   "source": [
    "data_path_str = 'data'\n",
    "data_path = Path(data_path_str)"
   ]
  },
  {
   "cell_type": "code",
   "execution_count": 10,
   "id": "540eb7cd-b0c1-494a-93db-ea0925b63abe",
   "metadata": {},
   "outputs": [],
   "source": [
    "paths = [*data_path.glob('Блок */Департамент *.xlsx')]"
   ]
  },
  {
   "cell_type": "code",
   "execution_count": 11,
   "id": "9287c4d0-86a6-4dc3-bf5c-9b51ac48134e",
   "metadata": {},
   "outputs": [
    {
     "data": {
      "text/plain": [
       "[PosixPath('data/Блок 3/Департамент A.xlsx'),\n",
       " PosixPath('data/Блок 3/Департамент B.xlsx'),\n",
       " PosixPath('data/Блок 4/Департамент A.xlsx'),\n",
       " PosixPath('data/Блок 5/Департамент A.xlsx'),\n",
       " PosixPath('data/Блок 5/Департамент L.xlsx'),\n",
       " PosixPath('data/Блок 5/Департамент G.xlsx'),\n",
       " PosixPath('data/Блок 5/Департамент K.xlsx'),\n",
       " PosixPath('data/Блок 5/Департамент J.xlsx'),\n",
       " PosixPath('data/Блок 5/Департамент F.xlsx'),\n",
       " PosixPath('data/Блок 5/Департамент E.xlsx'),\n",
       " PosixPath('data/Блок 5/Департамент I.xlsx'),\n",
       " PosixPath('data/Блок 5/Департамент H.xlsx'),\n",
       " PosixPath('data/Блок 5/Департамент D.xlsx'),\n",
       " PosixPath('data/Блок 5/Департамент C.xlsx'),\n",
       " PosixPath('data/Блок 5/Департамент B.xlsx'),\n",
       " PosixPath('data/Блок 2/Департамент A.xlsx'),\n",
       " PosixPath('data/Блок 2/Департамент G.xlsx'),\n",
       " PosixPath('data/Блок 2/Департамент F.xlsx'),\n",
       " PosixPath('data/Блок 2/Департамент E.xlsx'),\n",
       " PosixPath('data/Блок 2/Департамент D.xlsx'),\n",
       " PosixPath('data/Блок 2/Департамент C.xlsx'),\n",
       " PosixPath('data/Блок 2/Департамент B.xlsx'),\n",
       " PosixPath('data/Блок 7/Департамент A.xlsx'),\n",
       " PosixPath('data/Блок 7/Департамент L.xlsx'),\n",
       " PosixPath('data/Блок 7/Департамент G.xlsx'),\n",
       " PosixPath('data/Блок 7/Департамент K.xlsx'),\n",
       " PosixPath('data/Блок 7/Департамент J.xlsx'),\n",
       " PosixPath('data/Блок 7/Департамент F.xlsx'),\n",
       " PosixPath('data/Блок 7/Департамент E.xlsx'),\n",
       " PosixPath('data/Блок 7/Департамент I.xlsx'),\n",
       " PosixPath('data/Блок 7/Департамент H.xlsx'),\n",
       " PosixPath('data/Блок 7/Департамент D.xlsx'),\n",
       " PosixPath('data/Блок 7/Департамент C.xlsx'),\n",
       " PosixPath('data/Блок 7/Департамент B.xlsx'),\n",
       " PosixPath('data/Блок 9/Департамент A.xlsx'),\n",
       " PosixPath('data/Блок 9/Департамент B.xlsx'),\n",
       " PosixPath('data/Блок 8/Департамент A.xlsx'),\n",
       " PosixPath('data/Блок 8/Департамент F.xlsx'),\n",
       " PosixPath('data/Блок 8/Департамент E.xlsx'),\n",
       " PosixPath('data/Блок 8/Департамент D.xlsx'),\n",
       " PosixPath('data/Блок 8/Департамент C.xlsx'),\n",
       " PosixPath('data/Блок 8/Департамент B.xlsx'),\n",
       " PosixPath('data/Блок 1/Департамент A.xlsx'),\n",
       " PosixPath('data/Блок 1/Департамент C.xlsx'),\n",
       " PosixPath('data/Блок 1/Департамент B.xlsx'),\n",
       " PosixPath('data/Блок 6/Департамент A.xlsx'),\n",
       " PosixPath('data/Блок 6/Департамент L.xlsx'),\n",
       " PosixPath('data/Блок 6/Департамент G.xlsx'),\n",
       " PosixPath('data/Блок 6/Департамент K.xlsx'),\n",
       " PosixPath('data/Блок 6/Департамент J.xlsx'),\n",
       " PosixPath('data/Блок 6/Департамент F.xlsx'),\n",
       " PosixPath('data/Блок 6/Департамент E.xlsx'),\n",
       " PosixPath('data/Блок 6/Департамент I.xlsx'),\n",
       " PosixPath('data/Блок 6/Департамент H.xlsx'),\n",
       " PosixPath('data/Блок 6/Департамент D.xlsx'),\n",
       " PosixPath('data/Блок 6/Департамент C.xlsx'),\n",
       " PosixPath('data/Блок 6/Департамент B.xlsx')]"
      ]
     },
     "execution_count": 11,
     "metadata": {},
     "output_type": "execute_result"
    }
   ],
   "source": [
    "paths"
   ]
  }
 ],
 "metadata": {
  "kernelspec": {
   "display_name": "Python 3 (ipykernel)",
   "language": "python",
   "name": "python3"
  },
  "language_info": {
   "codemirror_mode": {
    "name": "ipython",
    "version": 3
   },
   "file_extension": ".py",
   "mimetype": "text/x-python",
   "name": "python",
   "nbconvert_exporter": "python",
   "pygments_lexer": "ipython3",
   "version": "3.11.5"
  }
 },
 "nbformat": 4,
 "nbformat_minor": 5
}
